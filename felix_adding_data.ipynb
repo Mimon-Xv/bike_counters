{
 "cells": [
  {
   "cell_type": "markdown",
   "metadata": {},
   "source": [
    "# Adding is_sun_up column"
   ]
  },
  {
   "cell_type": "code",
   "execution_count": 1,
   "metadata": {},
   "outputs": [],
   "source": [
    "from astral.sun import sun\n",
    "from astral.geocoder import LocationInfo\n",
    "import pytz\n",
    "import pandas as pd"
   ]
  },
  {
   "cell_type": "code",
   "execution_count": 2,
   "metadata": {},
   "outputs": [],
   "source": [
    "def calculate_sunrise_sunset_astral(df):\n",
    "    \"\"\"\n",
    "    Calculate if the sun is up for each timestamp in the dataframe, adding a column to the df.\n",
    "    Assumes a 'date' column with complete timestamps and 'latitude', 'longitude' columns.\n",
    "    \"\"\"\n",
    "    def is_sun_up(row):\n",
    "        location = LocationInfo(\n",
    "            name=\"Custom\",\n",
    "            region=\"Custom\",\n",
    "            timezone=\"Europe/Paris\",\n",
    "            latitude=row['latitude'],\n",
    "            longitude=row['longitude']\n",
    "        )\n",
    "        # Parse the date from the row and localize it to Paris timezone\n",
    "        date = pd.Timestamp(row['date']).tz_localize('Europe/Paris')\n",
    "        # Get sunrise and sunset times\n",
    "        s = sun(location.observer, date)\n",
    "        sunrise = s['sunrise'].astimezone(pytz.timezone(location.timezone))\n",
    "        sunset = s['sunset'].astimezone(pytz.timezone(location.timezone))\n",
    "        # Check if the timestamp is within sunrise and sunset\n",
    "        return sunrise <= date <= sunset\n",
    "\n",
    "    # Apply the function and create the is_sun_up column\n",
    "    df['is_sun_up'] = df.apply(is_sun_up, axis=1)\n",
    "    return df\n"
   ]
  },
  {
   "cell_type": "code",
   "execution_count": 3,
   "metadata": {},
   "outputs": [
    {
     "data": {
      "text/html": [
       "<div>\n",
       "<style scoped>\n",
       "    .dataframe tbody tr th:only-of-type {\n",
       "        vertical-align: middle;\n",
       "    }\n",
       "\n",
       "    .dataframe tbody tr th {\n",
       "        vertical-align: top;\n",
       "    }\n",
       "\n",
       "    .dataframe thead th {\n",
       "        text-align: right;\n",
       "    }\n",
       "</style>\n",
       "<table border=\"1\" class=\"dataframe\">\n",
       "  <thead>\n",
       "    <tr style=\"text-align: right;\">\n",
       "      <th></th>\n",
       "      <th>latitude</th>\n",
       "      <th>longitude</th>\n",
       "      <th>date</th>\n",
       "      <th>is_sun_up</th>\n",
       "    </tr>\n",
       "  </thead>\n",
       "  <tbody>\n",
       "    <tr>\n",
       "      <th>0</th>\n",
       "      <td>48.8566</td>\n",
       "      <td>2.3522</td>\n",
       "      <td>2020-06-21 05:48:00</td>\n",
       "      <td>True</td>\n",
       "    </tr>\n",
       "    <tr>\n",
       "      <th>1</th>\n",
       "      <td>48.8566</td>\n",
       "      <td>2.3522</td>\n",
       "      <td>2021-12-21 12:00:00</td>\n",
       "      <td>True</td>\n",
       "    </tr>\n",
       "  </tbody>\n",
       "</table>\n",
       "</div>"
      ],
      "text/plain": [
       "   latitude  longitude                date  is_sun_up\n",
       "0   48.8566     2.3522 2020-06-21 05:48:00       True\n",
       "1   48.8566     2.3522 2021-12-21 12:00:00       True"
      ]
     },
     "execution_count": 3,
     "metadata": {},
     "output_type": "execute_result"
    }
   ],
   "source": [
    "# Example dataframe with a pre-created 'date' column\n",
    "data = {\n",
    "    'latitude': [48.8566, 48.8566],  # Paris\n",
    "    'longitude': [2.3522, 2.3522],   # Paris\n",
    "    'date': [\n",
    "        \"2020-06-21 05:48:00\",  # Local time in Paris\n",
    "        \"2021-12-21 12:00:00\"   # Local time in Paris\n",
    "    ]\n",
    "}\n",
    "df = pd.DataFrame(data)\n",
    "df['date'] = pd.to_datetime(df['date'])\n",
    "\n",
    "# Apply the function\n",
    "df_with_sun_status = calculate_sunrise_sunset_astral(df)\n",
    "\n",
    "df_with_sun_status.head()"
   ]
  },
  {
   "cell_type": "markdown",
   "metadata": {},
   "source": [
    "## Inspecting the Weather Data provided by the teachers"
   ]
  },
  {
   "cell_type": "code",
   "execution_count": 4,
   "metadata": {},
   "outputs": [
    {
     "data": {
      "text/html": [
       "<div>\n",
       "<style scoped>\n",
       "    .dataframe tbody tr th:only-of-type {\n",
       "        vertical-align: middle;\n",
       "    }\n",
       "\n",
       "    .dataframe tbody tr th {\n",
       "        vertical-align: top;\n",
       "    }\n",
       "\n",
       "    .dataframe thead th {\n",
       "        text-align: right;\n",
       "    }\n",
       "</style>\n",
       "<table border=\"1\" class=\"dataframe\">\n",
       "  <thead>\n",
       "    <tr style=\"text-align: right;\">\n",
       "      <th></th>\n",
       "      <th>numer_sta</th>\n",
       "      <th>date</th>\n",
       "      <th>pmer</th>\n",
       "      <th>tend</th>\n",
       "      <th>cod_tend</th>\n",
       "      <th>dd</th>\n",
       "      <th>ff</th>\n",
       "      <th>t</th>\n",
       "      <th>td</th>\n",
       "      <th>u</th>\n",
       "      <th>...</th>\n",
       "      <th>hnuage1</th>\n",
       "      <th>nnuage2</th>\n",
       "      <th>ctype2</th>\n",
       "      <th>hnuage2</th>\n",
       "      <th>nnuage3</th>\n",
       "      <th>ctype3</th>\n",
       "      <th>hnuage3</th>\n",
       "      <th>nnuage4</th>\n",
       "      <th>ctype4</th>\n",
       "      <th>hnuage4</th>\n",
       "    </tr>\n",
       "  </thead>\n",
       "  <tbody>\n",
       "    <tr>\n",
       "      <th>0</th>\n",
       "      <td>7149</td>\n",
       "      <td>2021-01-01 00:00:00</td>\n",
       "      <td>100810</td>\n",
       "      <td>80</td>\n",
       "      <td>1</td>\n",
       "      <td>270</td>\n",
       "      <td>1.8</td>\n",
       "      <td>272.75</td>\n",
       "      <td>272.15</td>\n",
       "      <td>96</td>\n",
       "      <td>...</td>\n",
       "      <td>600.0</td>\n",
       "      <td>NaN</td>\n",
       "      <td>NaN</td>\n",
       "      <td>NaN</td>\n",
       "      <td>NaN</td>\n",
       "      <td>NaN</td>\n",
       "      <td>NaN</td>\n",
       "      <td>NaN</td>\n",
       "      <td>NaN</td>\n",
       "      <td>NaN</td>\n",
       "    </tr>\n",
       "    <tr>\n",
       "      <th>1</th>\n",
       "      <td>7149</td>\n",
       "      <td>2021-01-01 03:00:00</td>\n",
       "      <td>100920</td>\n",
       "      <td>110</td>\n",
       "      <td>3</td>\n",
       "      <td>300</td>\n",
       "      <td>1.7</td>\n",
       "      <td>271.25</td>\n",
       "      <td>270.95</td>\n",
       "      <td>98</td>\n",
       "      <td>...</td>\n",
       "      <td>1500.0</td>\n",
       "      <td>2.0</td>\n",
       "      <td>3.0</td>\n",
       "      <td>3000.0</td>\n",
       "      <td>NaN</td>\n",
       "      <td>NaN</td>\n",
       "      <td>NaN</td>\n",
       "      <td>NaN</td>\n",
       "      <td>NaN</td>\n",
       "      <td>NaN</td>\n",
       "    </tr>\n",
       "    <tr>\n",
       "      <th>2</th>\n",
       "      <td>7149</td>\n",
       "      <td>2021-01-01 06:00:00</td>\n",
       "      <td>100950</td>\n",
       "      <td>30</td>\n",
       "      <td>3</td>\n",
       "      <td>290</td>\n",
       "      <td>2.6</td>\n",
       "      <td>271.95</td>\n",
       "      <td>271.65</td>\n",
       "      <td>98</td>\n",
       "      <td>...</td>\n",
       "      <td>480.0</td>\n",
       "      <td>4.0</td>\n",
       "      <td>6.0</td>\n",
       "      <td>2000.0</td>\n",
       "      <td>6.0</td>\n",
       "      <td>3.0</td>\n",
       "      <td>3000.0</td>\n",
       "      <td>NaN</td>\n",
       "      <td>NaN</td>\n",
       "      <td>NaN</td>\n",
       "    </tr>\n",
       "    <tr>\n",
       "      <th>3</th>\n",
       "      <td>7149</td>\n",
       "      <td>2021-01-01 09:00:00</td>\n",
       "      <td>101100</td>\n",
       "      <td>150</td>\n",
       "      <td>2</td>\n",
       "      <td>280</td>\n",
       "      <td>1.7</td>\n",
       "      <td>272.45</td>\n",
       "      <td>272.05</td>\n",
       "      <td>97</td>\n",
       "      <td>...</td>\n",
       "      <td>1740.0</td>\n",
       "      <td>3.0</td>\n",
       "      <td>3.0</td>\n",
       "      <td>2800.0</td>\n",
       "      <td>NaN</td>\n",
       "      <td>NaN</td>\n",
       "      <td>NaN</td>\n",
       "      <td>NaN</td>\n",
       "      <td>NaN</td>\n",
       "      <td>NaN</td>\n",
       "    </tr>\n",
       "    <tr>\n",
       "      <th>4</th>\n",
       "      <td>7149</td>\n",
       "      <td>2021-01-01 12:00:00</td>\n",
       "      <td>101110</td>\n",
       "      <td>30</td>\n",
       "      <td>0</td>\n",
       "      <td>50</td>\n",
       "      <td>1.0</td>\n",
       "      <td>276.95</td>\n",
       "      <td>274.15</td>\n",
       "      <td>82</td>\n",
       "      <td>...</td>\n",
       "      <td>330.0</td>\n",
       "      <td>4.0</td>\n",
       "      <td>6.0</td>\n",
       "      <td>570.0</td>\n",
       "      <td>7.0</td>\n",
       "      <td>6.0</td>\n",
       "      <td>810.0</td>\n",
       "      <td>NaN</td>\n",
       "      <td>NaN</td>\n",
       "      <td>NaN</td>\n",
       "    </tr>\n",
       "  </tbody>\n",
       "</table>\n",
       "<p>5 rows × 59 columns</p>\n",
       "</div>"
      ],
      "text/plain": [
       "   numer_sta                 date    pmer  tend  cod_tend   dd   ff       t  \\\n",
       "0       7149  2021-01-01 00:00:00  100810    80         1  270  1.8  272.75   \n",
       "1       7149  2021-01-01 03:00:00  100920   110         3  300  1.7  271.25   \n",
       "2       7149  2021-01-01 06:00:00  100950    30         3  290  2.6  271.95   \n",
       "3       7149  2021-01-01 09:00:00  101100   150         2  280  1.7  272.45   \n",
       "4       7149  2021-01-01 12:00:00  101110    30         0   50  1.0  276.95   \n",
       "\n",
       "       td   u  ...  hnuage1  nnuage2  ctype2  hnuage2  nnuage3  ctype3  \\\n",
       "0  272.15  96  ...    600.0      NaN     NaN      NaN      NaN     NaN   \n",
       "1  270.95  98  ...   1500.0      2.0     3.0   3000.0      NaN     NaN   \n",
       "2  271.65  98  ...    480.0      4.0     6.0   2000.0      6.0     3.0   \n",
       "3  272.05  97  ...   1740.0      3.0     3.0   2800.0      NaN     NaN   \n",
       "4  274.15  82  ...    330.0      4.0     6.0    570.0      7.0     6.0   \n",
       "\n",
       "   hnuage3  nnuage4  ctype4  hnuage4  \n",
       "0      NaN      NaN     NaN      NaN  \n",
       "1      NaN      NaN     NaN      NaN  \n",
       "2   3000.0      NaN     NaN      NaN  \n",
       "3      NaN      NaN     NaN      NaN  \n",
       "4    810.0      NaN     NaN      NaN  \n",
       "\n",
       "[5 rows x 59 columns]"
      ]
     },
     "execution_count": 4,
     "metadata": {},
     "output_type": "execute_result"
    }
   ],
   "source": [
    "weather = pd.read_csv(\"external_data/external_data.csv\")\n",
    "weather.head(5)"
   ]
  },
  {
   "cell_type": "code",
   "execution_count": 5,
   "metadata": {},
   "outputs": [
    {
     "data": {
      "text/plain": [
       "Index(['numer_sta', 'date', 'pmer', 'tend', 'cod_tend', 'dd', 'ff', 't', 'td',\n",
       "       'u', 'vv', 'ww', 'w1', 'w2', 'n', 'nbas', 'hbas', 'cl', 'cm', 'ch',\n",
       "       'pres', 'niv_bar', 'geop', 'tend24', 'tn12', 'tn24', 'tx12', 'tx24',\n",
       "       'tminsol', 'sw', 'tw', 'raf10', 'rafper', 'per', 'etat_sol', 'ht_neige',\n",
       "       'ssfrai', 'perssfrai', 'rr1', 'rr3', 'rr6', 'rr12', 'rr24', 'phenspe1',\n",
       "       'phenspe2', 'phenspe3', 'phenspe4', 'nnuage1', 'ctype1', 'hnuage1',\n",
       "       'nnuage2', 'ctype2', 'hnuage2', 'nnuage3', 'ctype3', 'hnuage3',\n",
       "       'nnuage4', 'ctype4', 'hnuage4'],\n",
       "      dtype='object')"
      ]
     },
     "execution_count": 5,
     "metadata": {},
     "output_type": "execute_result"
    }
   ],
   "source": [
    "weather.columns"
   ]
  },
  {
   "cell_type": "code",
   "execution_count": 6,
   "metadata": {},
   "outputs": [
    {
     "data": {
      "text/plain": [
       "(3322, 59)"
      ]
     },
     "execution_count": 6,
     "metadata": {},
     "output_type": "execute_result"
    }
   ],
   "source": [
    "weather.shape"
   ]
  },
  {
   "cell_type": "code",
   "execution_count": 7,
   "metadata": {},
   "outputs": [
    {
     "data": {
      "text/plain": [
       "array([7149], dtype=int64)"
      ]
     },
     "execution_count": 7,
     "metadata": {},
     "output_type": "execute_result"
    }
   ],
   "source": [
    "weather['numer_sta'].unique() # It is all coming from one station!"
   ]
  },
  {
   "cell_type": "code",
   "execution_count": 8,
   "metadata": {},
   "outputs": [
    {
     "name": "stdout",
     "output_type": "stream",
     "text": [
      "From: 2020-09-01 00:00:00 Until: 2021-10-21 12:00:00\n"
     ]
    }
   ],
   "source": [
    "print(f'From: {min(weather[\"date\"])} Until: {max(weather[\"date\"])}')"
   ]
  },
  {
   "cell_type": "markdown",
   "metadata": {},
   "source": [
    "### Updated Description of Columns in the Weather Dataset\n",
    "\n",
    "| **Column Name** | **Description** |\n",
    "|------------------|-----------------|\n",
    "| **numer_sta**    | Station number (WMO identifier). |\n",
    "| **date**         | Date and time of observation. |\n",
    "| **pmer**         | Sea-level pressure (in tenths of hPa). |\n",
    "| **tend**         | Pressure tendency over the past 3 hours (in tenths of hPa). |\n",
    "| **cod_tend**     | Characteristic of pressure tendency (WMO code). |\n",
    "| **dd**           | Wind direction (in degrees). |\n",
    "| **ff**           | Wind speed (in m/s). |\n",
    "| **t**            | Air temperature (in tenths of °C). |\n",
    "| **td**           | Dew point temperature (in tenths of °C). |\n",
    "| **u**            | Relative humidity (in %). |\n",
    "| **vv**           | Horizontal visibility (in meters). |\n",
    "| **ww**           | Present weather (WMO code). |\n",
    "| **w1**           | Past weather (1st period, WMO code). |\n",
    "| **w2**           | Past weather (2nd period, WMO code). |\n",
    "| **n**            | Total cloud cover (in oktas, 0 = clear, 8 = overcast). |\n",
    "| **nbas**         | Cloud cover of the lowest layer (in oktas). |\n",
    "| **hbas**         | Height of the base of the lowest cloud layer (in meters). |\n",
    "| **cl**           | Cloud type for low clouds (WMO code). |\n",
    "| **cm**           | Cloud type for middle clouds (WMO code). |\n",
    "| **ch**           | Cloud type for high clouds (WMO code). |\n",
    "| **pres**         | Station-level pressure (in tenths of hPa). |\n",
    "| **niv_bar**      | Barometric altitude (in meters). |\n",
    "| **geop**         | Geopotential height (in gpm). |\n",
    "| **tend24**       | 24-hour pressure tendency (in tenths of hPa). |\n",
    "| **tn12**         | Minimum temperature over the past 12 hours (in tenths of °C). |\n",
    "| **tn24**         | Minimum temperature over the past 24 hours (in tenths of °C). |\n",
    "| **tx12**         | Maximum temperature over the past 12 hours (in tenths of °C). |\n",
    "| **tx24**         | Maximum temperature over the past 24 hours (in tenths of °C). |\n",
    "| **tminsol**      | Minimum soil temperature (in tenths of °C). |\n",
    "| **sw**           | Soil moisture (arbitrary units). |\n",
    "| **tw**           | Soil temperature (in tenths of °C). |\n",
    "| **raf10**        | Maximum wind gust over the past 10 minutes (in m/s). |\n",
    "| **rafper**       | Maximum wind gust over the past period (in m/s). |\n",
    "| **per**          | Period of wind gust measurement (in minutes). |\n",
    "| **etat_sol**     | State of the ground (WMO code). |\n",
    "| **ht_neige**     | Snow depth (in cm). |\n",
    "| **ssfrai**       | Fresh snow depth (in cm). |\n",
    "| **perssfrai**    | Period of fresh snow measurement (in hours). |\n",
    "| **rr1**          | Precipitation amount over the past 1 hour (in mm). |\n",
    "| **rr3**          | Precipitation amount over the past 3 hours (in mm). |\n",
    "| **rr6**          | Precipitation amount over the past 6 hours (in mm). |\n",
    "| **rr12**         | Precipitation amount over the past 12 hours (in mm). |\n",
    "| **rr24**         | Precipitation amount over the past 24 hours (in mm). |\n",
    "| **phenspe1**     | Special phenomena (1st code). |\n",
    "| **phenspe2**     | Special phenomena (2nd code). |\n",
    "| **phenspe3**     | Special phenomena (3rd code). |\n",
    "| **phenspe4**     | Special phenomena (4th code). |\n",
    "| **nnuage1**      | Cloud cover of the 1st layer (in oktas). |\n",
    "| **ctype1**       | Cloud type of the 1st layer (WMO code). |\n",
    "| **hnuage1**      | Height of the 1st cloud layer (in meters). |\n",
    "| **nnuage2**      | Cloud cover of the 2nd layer (in oktas). |\n",
    "| **ctype2**       | Cloud type of the 2nd layer (WMO code). |\n",
    "| **hnuage2**      | Height of the 2nd cloud layer (in meters). |\n",
    "| **nnuage3**      | Cloud cover of the 3rd layer (in oktas). |\n",
    "| **ctype3**       | Cloud type of the 3rd layer (WMO code). |\n",
    "| **hnuage3**      | Height of the 3rd cloud layer (in meters). |\n",
    "| **nnuage4**      | Cloud cover of the 4th layer (in oktas). |\n",
    "| **ctype4**       | Cloud type of the 4th layer (WMO code). |\n",
    "| **hnuage4**      | Height of the 4th cloud layer (in meters). |\n",
    "\n",
    "---\n",
    "\n",
    "### Notes\n",
    "- **WMO Codes**: Many columns (e.g., `ww`, `cl`, `cm`, `ch`) use standard codes defined by the World Meteorological Organization (WMO) to represent weather conditions, cloud types, and phenomena.\n",
    "- **Cloud Measurements**:\n",
    "  - `n` represents total cloud cover in **oktas**.\n",
    "  - `nnuage1`, `ctype1`, and `hnuage1` describe individual cloud layers, with similar patterns for higher layers (`nnuage2`, `ctype2`, `hnuage2`, etc.).\n",
    "- **Visibility and Wind**:\n",
    "  - `vv` measures visibility in meters.\n",
    "  - `dd` and `ff` describe wind direction and speed, respectively.\n"
   ]
  },
  {
   "cell_type": "markdown",
   "metadata": {},
   "source": [
    "### Explanation of Changes\n",
    "\n",
    "We will try to discard as few columns as possible to utilize our data to the maximum. For categorical and numerical we try to use the mode and the median. But we also discard the columns if it contains more than 1000 missing values since it offers much less value to our model, and filling it with placeholder values is not sure to provide any value."
   ]
  },
  {
   "cell_type": "code",
   "execution_count": 9,
   "metadata": {},
   "outputs": [
    {
     "data": {
      "text/plain": [
       "w1              7\n",
       "w2             10\n",
       "n             156\n",
       "nbas            5\n",
       "hbas          453\n",
       "cl            413\n",
       "cm           1381\n",
       "ch           1644\n",
       "niv_bar      3322\n",
       "geop         3322\n",
       "tend24         10\n",
       "tn12         2492\n",
       "tn24         3322\n",
       "tx12         2492\n",
       "tx24         3322\n",
       "tminsol      3321\n",
       "sw           3322\n",
       "tw           3322\n",
       "raf10          10\n",
       "etat_sol       52\n",
       "ht_neige       49\n",
       "ssfrai        445\n",
       "perssfrai     445\n",
       "rr1             9\n",
       "rr3             6\n",
       "rr6            16\n",
       "rr12           22\n",
       "rr24           24\n",
       "phenspe1     3322\n",
       "phenspe2     3322\n",
       "phenspe3     3322\n",
       "phenspe4     3322\n",
       "nnuage1       449\n",
       "ctype1        798\n",
       "hnuage1       455\n",
       "nnuage2      1627\n",
       "ctype2       1879\n",
       "hnuage2      1627\n",
       "nnuage3      2704\n",
       "ctype3       2852\n",
       "hnuage3      2704\n",
       "nnuage4      3280\n",
       "ctype4       3235\n",
       "hnuage4      3280\n",
       "dtype: int64"
      ]
     },
     "execution_count": 9,
     "metadata": {},
     "output_type": "execute_result"
    }
   ],
   "source": [
    "null_values = weather.isnull().sum()\n",
    "\n",
    "non_zero_nulls = null_values[null_values != 0]\n",
    "non_zero_nulls\n"
   ]
  },
  {
   "cell_type": "code",
   "execution_count": 10,
   "metadata": {},
   "outputs": [],
   "source": [
    "weather = weather.copy()\n",
    "\n",
    "\n",
    "weather['w1'].fillna(weather['w1'].mode()[0], inplace=True)\n",
    "weather['w2'].fillna(weather['w2'].mode()[0], inplace=True)\n",
    "weather['n'].fillna(weather['n'].mode()[0], inplace=True)\n",
    "weather['cl'].fillna(weather['cl'].mode()[0], inplace=True)\n",
    "weather['cm'].fillna(weather['cm'].mode()[0], inplace=True)\n",
    "weather['ch'].fillna(weather['ch'].mode()[0], inplace=True)\n",
    "weather['etat_sol'].fillna(weather['etat_sol'].mode()[0], inplace=True)\n",
    "weather['nnuage1'].fillna(weather['nnuage1'].mode()[0], inplace=True)\n",
    "weather['hnuage1'].fillna(int(weather['hnuage1'].mean()), inplace=True)\n",
    "weather['ctype1'].fillna(weather['ctype1'].mode()[0], inplace=True)\n",
    "\n",
    "\n",
    "weather['tend24'].fillna(weather['tend24'].median(), inplace=True)\n",
    "weather['raf10'].fillna(weather['raf10'].median(), inplace=True)\n",
    "\n",
    "\n",
    "weather['hbas'].fillna(int(weather['hbas'].mean()), inplace=True)\n",
    "weather['nbas'].fillna(int(weather['nbas'].mean()), inplace=True)\n",
    "\n",
    "weather[['ht_neige', 'ssfrai', 'perssfrai', 'rr1', 'rr3', 'rr6', 'rr12', 'rr24']] = \\\n",
    "weather[['ht_neige', 'ssfrai', 'perssfrai', 'rr1', 'rr3', 'rr6', 'rr12', 'rr24']].fillna(0)\n",
    "\n"
   ]
  },
  {
   "cell_type": "code",
   "execution_count": 11,
   "metadata": {},
   "outputs": [],
   "source": [
    "columns_to_drop = weather.columns[weather.isnull().sum() > 1000]\n",
    "weather.drop(columns=columns_to_drop, inplace=True)\n",
    "weather.drop(columns=\"numer_sta\", inplace=True)\n"
   ]
  },
  {
   "cell_type": "code",
   "execution_count": 12,
   "metadata": {},
   "outputs": [
    {
     "data": {
      "text/plain": [
       "Series([], dtype: int64)"
      ]
     },
     "execution_count": 12,
     "metadata": {},
     "output_type": "execute_result"
    }
   ],
   "source": [
    "null_values = weather.isnull().sum()\n",
    "\n",
    "non_zero_nulls = null_values[null_values != 0]\n",
    "non_zero_nulls\n"
   ]
  },
  {
   "cell_type": "code",
   "execution_count": 13,
   "metadata": {},
   "outputs": [],
   "source": [
    "# function to clean the weather dataset\n",
    "def weather_cleaning(weather):\n",
    "    weather = weather.copy()\n",
    "\n",
    "    weather['w1'].fillna(weather['w1'].mode()[0], inplace=True)\n",
    "    weather['w2'].fillna(weather['w2'].mode()[0], inplace=True)\n",
    "    weather['n'].fillna(weather['n'].mode()[0], inplace=True)\n",
    "    weather['cl'].fillna(weather['cl'].mode()[0], inplace=True)\n",
    "    weather['cm'].fillna(weather['cm'].mode()[0], inplace=True)\n",
    "    weather['ch'].fillna(weather['ch'].mode()[0], inplace=True)\n",
    "    weather['etat_sol'].fillna(weather['etat_sol'].mode()[0], inplace=True)\n",
    "    weather['nnuage1'].fillna(weather['nnuage1'].mode()[0], inplace=True)\n",
    "    weather['hnuage1'].fillna(int(weather['hnuage1'].mean()), inplace=True)\n",
    "    weather['ctype1'].fillna(weather['ctype1'].mode()[0], inplace=True)\n",
    "\n",
    "\n",
    "    weather['tend24'].fillna(weather['tend24'].median(), inplace=True)\n",
    "    weather['raf10'].fillna(weather['raf10'].median(), inplace=True)\n",
    "\n",
    "\n",
    "    weather['hbas'].fillna(int(weather['hbas'].mean()), inplace=True)\n",
    "    weather['nbas'].fillna(int(weather['nbas'].mean()), inplace=True)\n",
    "\n",
    "    weather[['ht_neige', 'ssfrai', 'perssfrai', 'rr1', 'rr3', 'rr6', 'rr12', 'rr24']] = \\\n",
    "    weather[['ht_neige', 'ssfrai', 'perssfrai', 'rr1', 'rr3', 'rr6', 'rr12', 'rr24']].fillna(0)\n",
    "\n",
    "    columns_to_drop = weather.columns[weather.isnull().sum() > 1000]\n",
    "    weather.drop(columns=columns_to_drop, inplace=True)\n",
    "\n",
    "    return weather\n"
   ]
  },
  {
   "cell_type": "code",
   "execution_count": 14,
   "metadata": {},
   "outputs": [
    {
     "data": {
      "text/plain": [
       "0       2021-01-01 00:00:00\n",
       "1       2021-01-01 03:00:00\n",
       "2       2021-01-01 06:00:00\n",
       "3       2021-01-01 09:00:00\n",
       "4       2021-01-01 12:00:00\n",
       "               ...         \n",
       "3317    2020-09-30 09:00:00\n",
       "3318    2020-09-30 12:00:00\n",
       "3319    2020-09-30 15:00:00\n",
       "3320    2020-09-30 18:00:00\n",
       "3321    2020-09-30 21:00:00\n",
       "Name: date, Length: 3322, dtype: object"
      ]
     },
     "execution_count": 14,
     "metadata": {},
     "output_type": "execute_result"
    }
   ],
   "source": [
    "weather['date']"
   ]
  },
  {
   "cell_type": "markdown",
   "metadata": {},
   "source": [
    "---------------------"
   ]
  },
  {
   "cell_type": "markdown",
   "metadata": {},
   "source": [
    "## Feature Engineering"
   ]
  },
  {
   "cell_type": "markdown",
   "metadata": {},
   "source": [
    "We need to use one-hot-encoding for: \n",
    "- different days of the week\n",
    "- seasons\n",
    "- whether we are on the weekend or not \n",
    "\n",
    "Furthermore, although we would like to use one-hot encoding for the hours of the day, but this might strongly increase the training time for our models. Therefore we just want to divide a day into chunks which behave similarly. For this we will look at a typical day of the week."
   ]
  },
  {
   "cell_type": "code",
   "execution_count": 1,
   "metadata": {},
   "outputs": [],
   "source": [
    "import pandas as pd\n",
    "df_train = pd.read_parquet(\"data/train.parquet\")\n"
   ]
  },
  {
   "cell_type": "code",
   "execution_count": 22,
   "metadata": {},
   "outputs": [
    {
     "data": {
      "image/png": "[encoded data removed]",
      "text/plain": [
       "<Figure size 720x432 with 1 Axes>"
      ]
     },
     "metadata": {
      "needs_background": "light"
     },
     "output_type": "display_data"
    }
   ],
   "source": [
    "import matplotlib.pyplot as plt\n",
    "\n",
    "df_train['hour'] = df_train['date'].dt.hour  # Extract hour from the 'date' column\n",
    "\n",
    "# Group by hour and calculate the average 'log_bike_count'\n",
    "hourly_avg = df_train.groupby('hour')['bike_count'].mean()\n",
    "\n",
    "# Plot the results\n",
    "plt.figure(figsize=(10, 6))\n",
    "plt.plot(hourly_avg.index, hourly_avg.values, marker='o')\n",
    "plt.title('Average Log Bike Count Over the Day', fontsize=14)\n",
    "plt.xlabel('Hour of the Day', fontsize=12)\n",
    "plt.ylabel('Average Log Bike Count', fontsize=12)\n",
    "plt.grid(True)\n",
    "plt.xticks(range(0, 24))\n",
    "plt.show()"
   ]
  },
  {
   "cell_type": "markdown",
   "metadata": {},
   "source": [
    "Looking at this average day graph we will choose the following 4 time intervals:\n",
    "- Morgning: 5:00 - 8:30\n",
    "- Working hours: 9:00 - 14:30\n",
    "- Peak hours: 15:00 - 19:30\n",
    "- Calm: 20:00 - 4:30"
   ]
  },
  {
   "cell_type": "code",
   "execution_count": 2,
   "metadata": {},
   "outputs": [
    {
     "ename": "NameError",
     "evalue": "name 'df_train' is not defined",
     "output_type": "error",
     "traceback": [
      "\u001b[1;31m---------------------------------------------------------------------------\u001b[0m",
      "\u001b[1;31mNameError\u001b[0m                                 Traceback (most recent call last)",
      "\u001b[1;32m<ipython-input-2-ab5920bab896>\u001b[0m in \u001b[0;36m<module>\u001b[1;34m\u001b[0m\n\u001b[0;32m      1\u001b[0m \u001b[1;32mimport\u001b[0m \u001b[0mexternal_data\u001b[0m\u001b[1;33m.\u001b[0m\u001b[0mexample_estimator\u001b[0m \u001b[1;32mas\u001b[0m \u001b[0mex\u001b[0m\u001b[1;33m\u001b[0m\u001b[1;33m\u001b[0m\u001b[0m\n\u001b[0;32m      2\u001b[0m \u001b[1;33m\u001b[0m\u001b[0m\n\u001b[1;32m----> 3\u001b[1;33m \u001b[0mdf_train\u001b[0m \u001b[1;33m=\u001b[0m \u001b[0mex\u001b[0m\u001b[1;33m.\u001b[0m\u001b[0m_encode_dates\u001b[0m\u001b[1;33m(\u001b[0m\u001b[0mdf_train\u001b[0m\u001b[1;33m)\u001b[0m\u001b[1;33m\u001b[0m\u001b[1;33m\u001b[0m\u001b[0m\n\u001b[0m\u001b[0;32m      4\u001b[0m \u001b[0mdf_train\u001b[0m\u001b[1;33m.\u001b[0m\u001b[0mcolumns\u001b[0m\u001b[1;33m\u001b[0m\u001b[1;33m\u001b[0m\u001b[0m\n",
      "\u001b[1;31mNameError\u001b[0m: name 'df_train' is not defined"
     ]
    }
   ],
   "source": [
    "import external_data.example_estimator as ex\n",
    "\n",
    "df_train = ex._encode_dates(df_train)\n",
    "df_train.columns"
   ]
  },
  {
   "cell_type": "code",
   "execution_count": null,
   "metadata": {},
   "outputs": [],
   "source": []
  }
 ],
 "metadata": {
  "kernelspec": {
   "display_name": "l1-python",
   "language": "python",
   "name": "python3"
  },
  "language_info": {
   "codemirror_mode": {
    "name": "ipython",
    "version": 3
   },
   "file_extension": ".py",
   "mimetype": "text/x-python",
   "name": "python",
   "nbconvert_exporter": "python",
   "pygments_lexer": "ipython3",
   "version": "3.8.5"
  }
 },
 "nbformat": 4,
 "nbformat_minor": 2
}
