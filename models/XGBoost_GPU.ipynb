{
 "cells": [
  {
   "cell_type": "markdown",
   "metadata": {},
   "source": [
    "### Using Optuna to find the best hyperparameters for our XGBoost model\n",
    "The usage of a GPU NVIDIA 1050 ti for training reduces the training time by 10-40 times!"
   ]
  },
  {
   "cell_type": "code",
   "execution_count": 21,
   "metadata": {},
   "outputs": [],
   "source": [
    "import numpy as np\n",
    "import pandas as pd\n",
    "\n",
    "import sys\n",
    "sys.path.append('..')\n",
    "from utils import get_train_data, custom_preprocessor, submit_test, train_test_split_temporal, preparation\n"
   ]
  },
  {
   "cell_type": "code",
   "execution_count": 15,
   "metadata": {},
   "outputs": [
    {
     "name": "stdout",
     "output_type": "stream",
     "text": [
      "Loading school holidays from cache...\n"
     ]
    }
   ],
   "source": [
    "X, y = get_train_data() # X comes out prepared with added columns\n",
    "\n",
    "# Train-test split\n",
    "X_train, X_valid, y_train, y_valid = train_test_split_temporal(X, y)\n",
    "\n",
    "X_train = X_train.drop(columns=[\"date\"])\n",
    "X_valid = X_valid.drop(columns=[\"date\"])\n"
   ]
  },
  {
   "cell_type": "code",
   "execution_count": 16,
   "metadata": {},
   "outputs": [],
   "source": [
    "import optuna\n",
    "from xgboost import XGBRegressor, DMatrix\n",
    "from sklearn.pipeline import Pipeline\n",
    "from sklearn.metrics import mean_squared_error\n",
    "import time\n",
    "\n",
    "# Example preprocessing pipeline\n",
    "preprocessor = custom_preprocessor\n",
    "dtrain = DMatrix(X_train, label=y_train)\n",
    "dvalid = DMatrix(X_valid, label=y_valid)\n",
    "\n",
    "# Objective function for Optuna\n",
    "def objective(trial):\n",
    "    params = {\n",
    "        \"n_estimators\": trial.suggest_int(\"n_estimators\", 50, 500),\n",
    "        \"max_depth\": trial.suggest_int(\"max_depth\", 3, 10),\n",
    "        \"learning_rate\": trial.suggest_float(\"learning_rate\", 0.01, 0.3, log=True),\n",
    "        \"subsample\": trial.suggest_float(\"subsample\", 0.5, 1.0),\n",
    "        \"colsample_bytree\": trial.suggest_float(\"colsample_bytree\", 0.5, 1.0),\n",
    "        \"gamma\": trial.suggest_float(\"gamma\", 0, 5),\n",
    "        \"min_child_weight\": trial.suggest_int(\"min_child_weight\", 1, 10),\n",
    "        \"tree_method\": \"hist\",\n",
    "        \"device\": \"cuda\",\n",
    "    }\n",
    "\n",
    "    # Define the pipeline\n",
    "    pipeline = Pipeline(steps=[\n",
    "        (\"preprocessor\", preprocessor),\n",
    "        (\"regressor\", XGBRegressor(**params))\n",
    "    ])\n",
    "\n",
    "    # Train and validate\n",
    "    start_time = time.time()\n",
    "    pipeline.fit(X_train, y_train)\n",
    "    elapsed_time = time.time() - start_time\n",
    "\n",
    "    # Predictions on validation data\n",
    "    y_pred = pipeline.predict(X_valid)\n",
    "    rmse = np.sqrt(mean_squared_error(y_valid, y_pred))\n",
    "\n",
    "    # Log elapsed time for transparency\n",
    "    trial.set_user_attr(\"elapsed_time\", elapsed_time)\n",
    "\n",
    "    return -rmse  # Optuna maximizes the objective; use negative MSE for minimization\n"
   ]
  },
  {
   "cell_type": "code",
   "execution_count": 17,
   "metadata": {},
   "outputs": [
    {
     "name": "stderr",
     "output_type": "stream",
     "text": [
      "[I 2024-12-10 17:33:10,337] A new study created in memory with name: no-name-105ec23e-bb94-46be-927d-456f80f04292\n"
     ]
    },
    {
     "name": "stderr",
     "output_type": "stream",
     "text": [
      "[I 2024-12-10 17:33:14,908] Trial 0 finished with value: -0.7332365863821515 and parameters: {'n_estimators': 118, 'max_depth': 5, 'learning_rate': 0.031188835851574323, 'subsample': 0.7822570220948954, 'colsample_bytree': 0.7309844026160839, 'gamma': 2.6772370931731784, 'min_child_weight': 6}. Best is trial 0 with value: -0.7332365863821515.\n"
     ]
    },
    {
     "name": "stdout",
     "output_type": "stream",
     "text": [
      "Trial 0 finished with value: -0.7332 and parameters: {'n_estimators': 118, 'max_depth': 5, 'learning_rate': 0.031188835851574323, 'subsample': 0.7822570220948954, 'colsample_bytree': 0.7309844026160839, 'gamma': 2.6772370931731784, 'min_child_weight': 6}.\n",
      "Elapsed time for trial: 4.28 seconds\n"
     ]
    },
    {
     "name": "stderr",
     "output_type": "stream",
     "text": [
      "[I 2024-12-10 17:33:20,952] Trial 1 finished with value: -0.6785751489759037 and parameters: {'n_estimators': 284, 'max_depth': 6, 'learning_rate': 0.03316946030864061, 'subsample': 0.715163531364129, 'colsample_bytree': 0.7697004317751642, 'gamma': 4.220675053168738, 'min_child_weight': 6}. Best is trial 1 with value: -0.6785751489759037.\n"
     ]
    },
    {
     "name": "stdout",
     "output_type": "stream",
     "text": [
      "Trial 1 finished with value: -0.6786 and parameters: {'n_estimators': 284, 'max_depth': 6, 'learning_rate': 0.03316946030864061, 'subsample': 0.715163531364129, 'colsample_bytree': 0.7697004317751642, 'gamma': 4.220675053168738, 'min_child_weight': 6}.\n",
      "Elapsed time for trial: 5.90 seconds\n"
     ]
    },
    {
     "name": "stderr",
     "output_type": "stream",
     "text": [
      "[I 2024-12-10 17:33:25,785] Trial 2 finished with value: -0.7005566977469126 and parameters: {'n_estimators': 143, 'max_depth': 7, 'learning_rate': 0.021268706008943466, 'subsample': 0.5155231855602458, 'colsample_bytree': 0.7047131938877704, 'gamma': 1.3000316798765028, 'min_child_weight': 8}. Best is trial 1 with value: -0.6785751489759037.\n"
     ]
    },
    {
     "name": "stdout",
     "output_type": "stream",
     "text": [
      "Trial 2 finished with value: -0.7006 and parameters: {'n_estimators': 143, 'max_depth': 7, 'learning_rate': 0.021268706008943466, 'subsample': 0.5155231855602458, 'colsample_bytree': 0.7047131938877704, 'gamma': 1.3000316798765028, 'min_child_weight': 8}.\n",
      "Elapsed time for trial: 4.48 seconds\n"
     ]
    },
    {
     "name": "stderr",
     "output_type": "stream",
     "text": [
      "[I 2024-12-10 17:33:30,233] Trial 3 finished with value: -0.9934228806697053 and parameters: {'n_estimators': 69, 'max_depth': 10, 'learning_rate': 0.010588992053973694, 'subsample': 0.9186345674974146, 'colsample_bytree': 0.7584412203717859, 'gamma': 3.2900097408372253, 'min_child_weight': 2}. Best is trial 1 with value: -0.6785751489759037.\n"
     ]
    },
    {
     "name": "stdout",
     "output_type": "stream",
     "text": [
      "Trial 3 finished with value: -0.9934 and parameters: {'n_estimators': 69, 'max_depth': 10, 'learning_rate': 0.010588992053973694, 'subsample': 0.9186345674974146, 'colsample_bytree': 0.7584412203717859, 'gamma': 3.2900097408372253, 'min_child_weight': 2}.\n",
      "Elapsed time for trial: 4.18 seconds\n"
     ]
    },
    {
     "name": "stderr",
     "output_type": "stream",
     "text": [
      "[I 2024-12-10 17:33:40,205] Trial 4 finished with value: -0.6789706040183325 and parameters: {'n_estimators': 235, 'max_depth': 10, 'learning_rate': 0.030528335425125768, 'subsample': 0.9481573968311778, 'colsample_bytree': 0.5634067834718837, 'gamma': 1.2533036861666247, 'min_child_weight': 6}. Best is trial 1 with value: -0.6785751489759037.\n"
     ]
    },
    {
     "name": "stdout",
     "output_type": "stream",
     "text": [
      "Trial 4 finished with value: -0.6790 and parameters: {'n_estimators': 235, 'max_depth': 10, 'learning_rate': 0.030528335425125768, 'subsample': 0.9481573968311778, 'colsample_bytree': 0.5634067834718837, 'gamma': 1.2533036861666247, 'min_child_weight': 6}.\n",
      "Elapsed time for trial: 9.78 seconds\n"
     ]
    },
    {
     "name": "stderr",
     "output_type": "stream",
     "text": [
      "[I 2024-12-10 17:33:44,388] Trial 5 finished with value: -0.7023035694321496 and parameters: {'n_estimators': 243, 'max_depth': 9, 'learning_rate': 0.24837672802115096, 'subsample': 0.6652387484512092, 'colsample_bytree': 0.8474160129207049, 'gamma': 2.992082639956282, 'min_child_weight': 4}. Best is trial 1 with value: -0.6785751489759037.\n"
     ]
    },
    {
     "name": "stdout",
     "output_type": "stream",
     "text": [
      "Trial 5 finished with value: -0.7023 and parameters: {'n_estimators': 243, 'max_depth': 9, 'learning_rate': 0.24837672802115096, 'subsample': 0.6652387484512092, 'colsample_bytree': 0.8474160129207049, 'gamma': 2.992082639956282, 'min_child_weight': 4}.\n",
      "Elapsed time for trial: 4.07 seconds\n"
     ]
    },
    {
     "name": "stderr",
     "output_type": "stream",
     "text": [
      "[I 2024-12-10 17:33:47,849] Trial 6 finished with value: -0.7115285334810751 and parameters: {'n_estimators': 153, 'max_depth': 8, 'learning_rate': 0.27799881273597027, 'subsample': 0.5772111260374313, 'colsample_bytree': 0.7011209718650284, 'gamma': 3.116800838774046, 'min_child_weight': 9}. Best is trial 1 with value: -0.6785751489759037.\n"
     ]
    },
    {
     "name": "stdout",
     "output_type": "stream",
     "text": [
      "Trial 6 finished with value: -0.7115 and parameters: {'n_estimators': 153, 'max_depth': 8, 'learning_rate': 0.27799881273597027, 'subsample': 0.5772111260374313, 'colsample_bytree': 0.7011209718650284, 'gamma': 3.116800838774046, 'min_child_weight': 9}.\n",
      "Elapsed time for trial: 3.34 seconds\n"
     ]
    },
    {
     "name": "stderr",
     "output_type": "stream",
     "text": [
      "[I 2024-12-10 17:33:53,927] Trial 7 finished with value: -0.7016392232012227 and parameters: {'n_estimators': 464, 'max_depth': 7, 'learning_rate': 0.2393876865531253, 'subsample': 0.7675790002175633, 'colsample_bytree': 0.8364306463660987, 'gamma': 1.8352434943341733, 'min_child_weight': 10}. Best is trial 1 with value: -0.6785751489759037.\n"
     ]
    },
    {
     "name": "stdout",
     "output_type": "stream",
     "text": [
      "Trial 7 finished with value: -0.7016 and parameters: {'n_estimators': 464, 'max_depth': 7, 'learning_rate': 0.2393876865531253, 'subsample': 0.7675790002175633, 'colsample_bytree': 0.8364306463660987, 'gamma': 1.8352434943341733, 'min_child_weight': 10}.\n",
      "Elapsed time for trial: 5.81 seconds\n"
     ]
    },
    {
     "name": "stderr",
     "output_type": "stream",
     "text": [
      "[I 2024-12-10 17:34:00,162] Trial 8 finished with value: -0.7014552925186359 and parameters: {'n_estimators': 459, 'max_depth': 6, 'learning_rate': 0.12324521352666014, 'subsample': 0.6875661431523299, 'colsample_bytree': 0.5104446236575768, 'gamma': 3.5153975025862043, 'min_child_weight': 8}. Best is trial 1 with value: -0.6785751489759037.\n"
     ]
    },
    {
     "name": "stdout",
     "output_type": "stream",
     "text": [
      "Trial 8 finished with value: -0.7015 and parameters: {'n_estimators': 459, 'max_depth': 6, 'learning_rate': 0.12324521352666014, 'subsample': 0.6875661431523299, 'colsample_bytree': 0.5104446236575768, 'gamma': 3.5153975025862043, 'min_child_weight': 8}.\n",
      "Elapsed time for trial: 6.10 seconds\n"
     ]
    },
    {
     "name": "stderr",
     "output_type": "stream",
     "text": [
      "[I 2024-12-10 17:34:04,087] Trial 9 finished with value: -0.7462425362331654 and parameters: {'n_estimators': 151, 'max_depth': 5, 'learning_rate': 0.020493222981581592, 'subsample': 0.6333302582548118, 'colsample_bytree': 0.6968865399855005, 'gamma': 0.4247583257393367, 'min_child_weight': 4}. Best is trial 1 with value: -0.6785751489759037.\n"
     ]
    },
    {
     "name": "stdout",
     "output_type": "stream",
     "text": [
      "Trial 9 finished with value: -0.7462 and parameters: {'n_estimators': 151, 'max_depth': 5, 'learning_rate': 0.020493222981581592, 'subsample': 0.6333302582548118, 'colsample_bytree': 0.6968865399855005, 'gamma': 0.4247583257393367, 'min_child_weight': 4}.\n",
      "Elapsed time for trial: 3.62 seconds\n"
     ]
    },
    {
     "name": "stderr",
     "output_type": "stream",
     "text": [
      "[I 2024-12-10 17:34:09,147] Trial 10 finished with value: -0.7243790372122967 and parameters: {'n_estimators': 360, 'max_depth': 3, 'learning_rate': 0.06779712433666278, 'subsample': 0.8546353870009016, 'colsample_bytree': 0.9515962669744022, 'gamma': 4.516737868222046, 'min_child_weight': 1}. Best is trial 1 with value: -0.6785751489759037.\n"
     ]
    },
    {
     "name": "stdout",
     "output_type": "stream",
     "text": [
      "Trial 10 finished with value: -0.7244 and parameters: {'n_estimators': 360, 'max_depth': 3, 'learning_rate': 0.06779712433666278, 'subsample': 0.8546353870009016, 'colsample_bytree': 0.9515962669744022, 'gamma': 4.516737868222046, 'min_child_weight': 1}.\n",
      "Elapsed time for trial: 4.68 seconds\n"
     ]
    },
    {
     "name": "stderr",
     "output_type": "stream",
     "text": [
      "[I 2024-12-10 17:34:17,710] Trial 11 finished with value: -0.686457346182919 and parameters: {'n_estimators': 269, 'max_depth': 10, 'learning_rate': 0.04535531076109955, 'subsample': 0.9958126010131038, 'colsample_bytree': 0.5256575880224191, 'gamma': 4.647887308729748, 'min_child_weight': 6}. Best is trial 1 with value: -0.6785751489759037.\n"
     ]
    },
    {
     "name": "stdout",
     "output_type": "stream",
     "text": [
      "Trial 11 finished with value: -0.6865 and parameters: {'n_estimators': 269, 'max_depth': 10, 'learning_rate': 0.04535531076109955, 'subsample': 0.9958126010131038, 'colsample_bytree': 0.5256575880224191, 'gamma': 4.647887308729748, 'min_child_weight': 6}.\n",
      "Elapsed time for trial: 8.36 seconds\n"
     ]
    },
    {
     "name": "stderr",
     "output_type": "stream",
     "text": [
      "[I 2024-12-10 17:34:22,547] Trial 12 finished with value: -0.7077777081835176 and parameters: {'n_estimators': 343, 'max_depth': 3, 'learning_rate': 0.07326433114338719, 'subsample': 0.8494193416972079, 'colsample_bytree': 0.6042574050887972, 'gamma': 0.0025235057705335073, 'min_child_weight': 5}. Best is trial 1 with value: -0.6785751489759037.\n"
     ]
    },
    {
     "name": "stdout",
     "output_type": "stream",
     "text": [
      "Trial 12 finished with value: -0.7078 and parameters: {'n_estimators': 343, 'max_depth': 3, 'learning_rate': 0.07326433114338719, 'subsample': 0.8494193416972079, 'colsample_bytree': 0.6042574050887972, 'gamma': 0.0025235057705335073, 'min_child_weight': 5}.\n",
      "Elapsed time for trial: 4.66 seconds\n"
     ]
    },
    {
     "name": "stderr",
     "output_type": "stream",
     "text": [
      "[I 2024-12-10 17:34:27,375] Trial 13 finished with value: -0.753471693285774 and parameters: {'n_estimators': 223, 'max_depth': 5, 'learning_rate': 0.01330532580468485, 'subsample': 0.9565975909265473, 'colsample_bytree': 0.6048549581117815, 'gamma': 1.6188528885545208, 'min_child_weight': 7}. Best is trial 1 with value: -0.6785751489759037.\n"
     ]
    },
    {
     "name": "stdout",
     "output_type": "stream",
     "text": [
      "Trial 13 finished with value: -0.7535 and parameters: {'n_estimators': 223, 'max_depth': 5, 'learning_rate': 0.01330532580468485, 'subsample': 0.9565975909265473, 'colsample_bytree': 0.6048549581117815, 'gamma': 1.6188528885545208, 'min_child_weight': 7}.\n",
      "Elapsed time for trial: 4.63 seconds\n"
     ]
    },
    {
     "name": "stderr",
     "output_type": "stream",
     "text": [
      "[I 2024-12-10 17:34:36,452] Trial 14 finished with value: -0.6779888969855541 and parameters: {'n_estimators': 329, 'max_depth': 8, 'learning_rate': 0.03906125168894193, 'subsample': 0.7210516236096066, 'colsample_bytree': 0.8162316705191986, 'gamma': 3.852456757482902, 'min_child_weight': 4}. Best is trial 14 with value: -0.6779888969855541.\n"
     ]
    },
    {
     "name": "stdout",
     "output_type": "stream",
     "text": [
      "Trial 14 finished with value: -0.6780 and parameters: {'n_estimators': 329, 'max_depth': 8, 'learning_rate': 0.03906125168894193, 'subsample': 0.7210516236096066, 'colsample_bytree': 0.8162316705191986, 'gamma': 3.852456757482902, 'min_child_weight': 4}.\n",
      "Elapsed time for trial: 8.58 seconds\n"
     ]
    },
    {
     "name": "stderr",
     "output_type": "stream",
     "text": [
      "[I 2024-12-10 17:34:42,779] Trial 15 finished with value: -0.6853296087038522 and parameters: {'n_estimators': 345, 'max_depth': 8, 'learning_rate': 0.10943443008819669, 'subsample': 0.7127263998079855, 'colsample_bytree': 0.842339799441819, 'gamma': 4.001643357068359, 'min_child_weight': 3}. Best is trial 14 with value: -0.6779888969855541.\n"
     ]
    },
    {
     "name": "stdout",
     "output_type": "stream",
     "text": [
      "Trial 15 finished with value: -0.6853 and parameters: {'n_estimators': 345, 'max_depth': 8, 'learning_rate': 0.10943443008819669, 'subsample': 0.7127263998079855, 'colsample_bytree': 0.842339799441819, 'gamma': 4.001643357068359, 'min_child_weight': 3}.\n",
      "Elapsed time for trial: 5.95 seconds\n"
     ]
    },
    {
     "name": "stderr",
     "output_type": "stream",
     "text": [
      "[I 2024-12-10 17:34:52,797] Trial 16 finished with value: -0.6875007019217197 and parameters: {'n_estimators': 403, 'max_depth': 6, 'learning_rate': 0.044061393470333145, 'subsample': 0.8278755861009822, 'colsample_bytree': 0.9445248223731242, 'gamma': 3.9050064396514883, 'min_child_weight': 4}. Best is trial 14 with value: -0.6779888969855541.\n"
     ]
    },
    {
     "name": "stdout",
     "output_type": "stream",
     "text": [
      "Trial 16 finished with value: -0.6875 and parameters: {'n_estimators': 403, 'max_depth': 6, 'learning_rate': 0.044061393470333145, 'subsample': 0.8278755861009822, 'colsample_bytree': 0.9445248223731242, 'gamma': 3.9050064396514883, 'min_child_weight': 4}.\n",
      "Elapsed time for trial: 9.75 seconds\n"
     ]
    },
    {
     "name": "stderr",
     "output_type": "stream",
     "text": [
      "[I 2024-12-10 17:35:02,054] Trial 17 finished with value: -0.6757971865905475 and parameters: {'n_estimators': 310, 'max_depth': 8, 'learning_rate': 0.028224629060662768, 'subsample': 0.6058038597853814, 'colsample_bytree': 0.7865806534275623, 'gamma': 4.850628138427694, 'min_child_weight': 2}. Best is trial 17 with value: -0.6757971865905475.\n"
     ]
    },
    {
     "name": "stdout",
     "output_type": "stream",
     "text": [
      "Trial 17 finished with value: -0.6758 and parameters: {'n_estimators': 310, 'max_depth': 8, 'learning_rate': 0.028224629060662768, 'subsample': 0.6058038597853814, 'colsample_bytree': 0.7865806534275623, 'gamma': 4.850628138427694, 'min_child_weight': 2}.\n",
      "Elapsed time for trial: 8.75 seconds\n"
     ]
    },
    {
     "name": "stderr",
     "output_type": "stream",
     "text": [
      "[I 2024-12-10 17:35:12,698] Trial 18 finished with value: -0.6789633069828497 and parameters: {'n_estimators': 394, 'max_depth': 8, 'learning_rate': 0.021029117059730054, 'subsample': 0.6000553877778099, 'colsample_bytree': 0.9015272440747918, 'gamma': 4.911914540819861, 'min_child_weight': 1}. Best is trial 17 with value: -0.6757971865905475.\n"
     ]
    },
    {
     "name": "stdout",
     "output_type": "stream",
     "text": [
      "Trial 18 finished with value: -0.6790 and parameters: {'n_estimators': 394, 'max_depth': 8, 'learning_rate': 0.021029117059730054, 'subsample': 0.6000553877778099, 'colsample_bytree': 0.9015272440747918, 'gamma': 4.911914540819861, 'min_child_weight': 1}.\n",
      "Elapsed time for trial: 10.40 seconds\n"
     ]
    },
    {
     "name": "stderr",
     "output_type": "stream",
     "text": [
      "[I 2024-12-10 17:35:18,392] Trial 19 finished with value: -0.6846852250225299 and parameters: {'n_estimators': 310, 'max_depth': 9, 'learning_rate': 0.10333176032115704, 'subsample': 0.5014897793144547, 'colsample_bytree': 0.7983707294378398, 'gamma': 4.957726650064268, 'min_child_weight': 2}. Best is trial 17 with value: -0.6757971865905475.\n"
     ]
    },
    {
     "name": "stdout",
     "output_type": "stream",
     "text": [
      "Trial 19 finished with value: -0.6847 and parameters: {'n_estimators': 310, 'max_depth': 9, 'learning_rate': 0.10333176032115704, 'subsample': 0.5014897793144547, 'colsample_bytree': 0.7983707294378398, 'gamma': 4.957726650064268, 'min_child_weight': 2}.\n",
      "Elapsed time for trial: 5.29 seconds\n"
     ]
    },
    {
     "name": "stderr",
     "output_type": "stream",
     "text": [
      "[I 2024-12-10 17:35:27,489] Trial 20 finished with value: -0.6850958007197433 and parameters: {'n_estimators': 421, 'max_depth': 9, 'learning_rate': 0.061992529257638374, 'subsample': 0.5576586741710722, 'colsample_bytree': 0.8993213264608233, 'gamma': 2.2674036409432063, 'min_child_weight': 3}. Best is trial 17 with value: -0.6757971865905475.\n"
     ]
    },
    {
     "name": "stdout",
     "output_type": "stream",
     "text": [
      "Trial 20 finished with value: -0.6851 and parameters: {'n_estimators': 421, 'max_depth': 9, 'learning_rate': 0.061992529257638374, 'subsample': 0.5576586741710722, 'colsample_bytree': 0.8993213264608233, 'gamma': 2.2674036409432063, 'min_child_weight': 3}.\n",
      "Elapsed time for trial: 8.77 seconds\n"
     ]
    },
    {
     "name": "stderr",
     "output_type": "stream",
     "text": [
      "[I 2024-12-10 17:35:34,848] Trial 21 finished with value: -0.6772559638433925 and parameters: {'n_estimators': 292, 'max_depth': 7, 'learning_rate': 0.031075697281617704, 'subsample': 0.7281972036946085, 'colsample_bytree': 0.7729537046368893, 'gamma': 3.9751838854033, 'min_child_weight': 5}. Best is trial 17 with value: -0.6757971865905475.\n"
     ]
    },
    {
     "name": "stdout",
     "output_type": "stream",
     "text": [
      "Trial 21 finished with value: -0.6773 and parameters: {'n_estimators': 292, 'max_depth': 7, 'learning_rate': 0.031075697281617704, 'subsample': 0.7281972036946085, 'colsample_bytree': 0.7729537046368893, 'gamma': 3.9751838854033, 'min_child_weight': 5}.\n",
      "Elapsed time for trial: 7.14 seconds\n"
     ]
    },
    {
     "name": "stderr",
     "output_type": "stream",
     "text": [
      "[I 2024-12-10 17:35:42,986] Trial 22 finished with value: -0.6839601482056795 and parameters: {'n_estimators': 311, 'max_depth': 7, 'learning_rate': 0.016156917933068646, 'subsample': 0.6321072903844938, 'colsample_bytree': 0.6592350637552575, 'gamma': 3.7010895364636913, 'min_child_weight': 3}. Best is trial 17 with value: -0.6757971865905475.\n"
     ]
    },
    {
     "name": "stdout",
     "output_type": "stream",
     "text": [
      "Trial 22 finished with value: -0.6840 and parameters: {'n_estimators': 311, 'max_depth': 7, 'learning_rate': 0.016156917933068646, 'subsample': 0.6321072903844938, 'colsample_bytree': 0.6592350637552575, 'gamma': 3.7010895364636913, 'min_child_weight': 3}.\n",
      "Elapsed time for trial: 7.91 seconds\n"
     ]
    },
    {
     "name": "stderr",
     "output_type": "stream",
     "text": [
      "[I 2024-12-10 17:35:51,567] Trial 23 finished with value: -0.6742211992713673 and parameters: {'n_estimators': 306, 'max_depth': 8, 'learning_rate': 0.039445253134711034, 'subsample': 0.7310244068697566, 'colsample_bytree': 0.8017566935471676, 'gamma': 4.314796547116356, 'min_child_weight': 5}. Best is trial 23 with value: -0.6742211992713673.\n"
     ]
    },
    {
     "name": "stdout",
     "output_type": "stream",
     "text": [
      "Trial 23 finished with value: -0.6742 and parameters: {'n_estimators': 306, 'max_depth': 8, 'learning_rate': 0.039445253134711034, 'subsample': 0.7310244068697566, 'colsample_bytree': 0.8017566935471676, 'gamma': 4.314796547116356, 'min_child_weight': 5}.\n",
      "Elapsed time for trial: 8.13 seconds\n"
     ]
    },
    {
     "name": "stderr",
     "output_type": "stream",
     "text": [
      "[I 2024-12-10 17:35:57,885] Trial 24 finished with value: -0.6763844603788749 and parameters: {'n_estimators': 200, 'max_depth': 7, 'learning_rate': 0.025698140463609333, 'subsample': 0.8159679540765434, 'colsample_bytree': 0.782440636893331, 'gamma': 4.382027669900948, 'min_child_weight': 5}. Best is trial 23 with value: -0.6742211992713673.\n"
     ]
    },
    {
     "name": "stdout",
     "output_type": "stream",
     "text": [
      "Trial 24 finished with value: -0.6764 and parameters: {'n_estimators': 200, 'max_depth': 7, 'learning_rate': 0.025698140463609333, 'subsample': 0.8159679540765434, 'colsample_bytree': 0.782440636893331, 'gamma': 4.382027669900948, 'min_child_weight': 5}.\n",
      "Elapsed time for trial: 5.85 seconds\n"
     ]
    },
    {
     "name": "stderr",
     "output_type": "stream",
     "text": [
      "[I 2024-12-10 17:36:05,600] Trial 25 finished with value: -0.668902378974928 and parameters: {'n_estimators': 197, 'max_depth': 9, 'learning_rate': 0.0238647442710493, 'subsample': 0.797466948509264, 'colsample_bytree': 0.8879708177327081, 'gamma': 4.366674569425574, 'min_child_weight': 7}. Best is trial 25 with value: -0.668902378974928.\n"
     ]
    },
    {
     "name": "stdout",
     "output_type": "stream",
     "text": [
      "Trial 25 finished with value: -0.6689 and parameters: {'n_estimators': 197, 'max_depth': 9, 'learning_rate': 0.0238647442710493, 'subsample': 0.797466948509264, 'colsample_bytree': 0.8879708177327081, 'gamma': 4.366674569425574, 'min_child_weight': 7}.\n",
      "Elapsed time for trial: 7.51 seconds\n"
     ]
    },
    {
     "name": "stderr",
     "output_type": "stream",
     "text": [
      "[I 2024-12-10 17:36:13,663] Trial 26 finished with value: -0.675845165232776 and parameters: {'n_estimators': 197, 'max_depth': 9, 'learning_rate': 0.017739146763649682, 'subsample': 0.8902540182849641, 'colsample_bytree': 0.889713141298656, 'gamma': 4.601591114105103, 'min_child_weight': 7}. Best is trial 25 with value: -0.668902378974928.\n"
     ]
    },
    {
     "name": "stdout",
     "output_type": "stream",
     "text": [
      "Trial 26 finished with value: -0.6758 and parameters: {'n_estimators': 197, 'max_depth': 9, 'learning_rate': 0.017739146763649682, 'subsample': 0.8902540182849641, 'colsample_bytree': 0.889713141298656, 'gamma': 4.601591114105103, 'min_child_weight': 7}.\n",
      "Elapsed time for trial: 7.83 seconds\n"
     ]
    },
    {
     "name": "stderr",
     "output_type": "stream",
     "text": [
      "[I 2024-12-10 17:36:20,882] Trial 27 finished with value: -0.683050730342379 and parameters: {'n_estimators': 251, 'max_depth': 9, 'learning_rate': 0.05126837193794189, 'subsample': 0.7732415751609341, 'colsample_bytree': 0.99462811282926, 'gamma': 4.9604191914772, 'min_child_weight': 7}. Best is trial 25 with value: -0.668902378974928.\n"
     ]
    },
    {
     "name": "stdout",
     "output_type": "stream",
     "text": [
      "Trial 27 finished with value: -0.6831 and parameters: {'n_estimators': 251, 'max_depth': 9, 'learning_rate': 0.05126837193794189, 'subsample': 0.7732415751609341, 'colsample_bytree': 0.99462811282926, 'gamma': 4.9604191914772, 'min_child_weight': 7}.\n",
      "Elapsed time for trial: 6.98 seconds\n"
     ]
    },
    {
     "name": "stderr",
     "output_type": "stream",
     "text": [
      "[I 2024-12-10 17:36:28,178] Trial 28 finished with value: -0.6982118285587668 and parameters: {'n_estimators': 191, 'max_depth': 8, 'learning_rate': 0.013676797762678319, 'subsample': 0.6620580358985729, 'colsample_bytree': 0.8647345181693638, 'gamma': 3.470243848335149, 'min_child_weight': 8}. Best is trial 25 with value: -0.668902378974928.\n"
     ]
    },
    {
     "name": "stdout",
     "output_type": "stream",
     "text": [
      "Trial 28 finished with value: -0.6982 and parameters: {'n_estimators': 191, 'max_depth': 8, 'learning_rate': 0.013676797762678319, 'subsample': 0.6620580358985729, 'colsample_bytree': 0.8647345181693638, 'gamma': 3.470243848335149, 'min_child_weight': 8}.\n",
      "Elapsed time for trial: 6.85 seconds\n"
     ]
    },
    {
     "name": "stderr",
     "output_type": "stream",
     "text": [
      "[I 2024-12-10 17:36:31,385] Trial 29 finished with value: -0.80643852223524 and parameters: {'n_estimators': 98, 'max_depth': 4, 'learning_rate': 0.027021984898379633, 'subsample': 0.7867455446740487, 'colsample_bytree': 0.7328398542160225, 'gamma': 2.7327505590915004, 'min_child_weight': 10}. Best is trial 25 with value: -0.668902378974928.\n"
     ]
    },
    {
     "name": "stdout",
     "output_type": "stream",
     "text": [
      "Trial 29 finished with value: -0.8064 and parameters: {'n_estimators': 98, 'max_depth': 4, 'learning_rate': 0.027021984898379633, 'subsample': 0.7867455446740487, 'colsample_bytree': 0.7328398542160225, 'gamma': 2.7327505590915004, 'min_child_weight': 10}.\n",
      "Elapsed time for trial: 2.87 seconds\n"
     ]
    },
    {
     "name": "stderr",
     "output_type": "stream",
     "text": [
      "[I 2024-12-10 17:36:41,837] Trial 30 finished with value: -0.6824060983201332 and parameters: {'n_estimators': 374, 'max_depth': 10, 'learning_rate': 0.038626692636567476, 'subsample': 0.7976895901548477, 'colsample_bytree': 0.9618357932724375, 'gamma': 4.2621077570566515, 'min_child_weight': 2}. Best is trial 25 with value: -0.668902378974928.\n"
     ]
    },
    {
     "name": "stdout",
     "output_type": "stream",
     "text": [
      "Trial 30 finished with value: -0.6824 and parameters: {'n_estimators': 374, 'max_depth': 10, 'learning_rate': 0.038626692636567476, 'subsample': 0.7976895901548477, 'colsample_bytree': 0.9618357932724375, 'gamma': 4.2621077570566515, 'min_child_weight': 2}.\n",
      "Elapsed time for trial: 10.17 seconds\n"
     ]
    },
    {
     "name": "stderr",
     "output_type": "stream",
     "text": [
      "[I 2024-12-10 17:36:49,939] Trial 31 finished with value: -0.674602889533219 and parameters: {'n_estimators': 191, 'max_depth': 9, 'learning_rate': 0.018439143623271044, 'subsample': 0.8885754857331127, 'colsample_bytree': 0.8912508885911632, 'gamma': 4.505189002977463, 'min_child_weight': 7}. Best is trial 25 with value: -0.668902378974928.\n"
     ]
    },
    {
     "name": "stdout",
     "output_type": "stream",
     "text": [
      "Trial 31 finished with value: -0.6746 and parameters: {'n_estimators': 191, 'max_depth': 9, 'learning_rate': 0.018439143623271044, 'subsample': 0.8885754857331127, 'colsample_bytree': 0.8912508885911632, 'gamma': 4.505189002977463, 'min_child_weight': 7}.\n",
      "Elapsed time for trial: 7.70 seconds\n"
     ]
    },
    {
     "name": "stderr",
     "output_type": "stream",
     "text": [
      "[I 2024-12-10 17:36:57,470] Trial 32 finished with value: -0.6707687370415372 and parameters: {'n_estimators': 177, 'max_depth': 9, 'learning_rate': 0.02515006010775321, 'subsample': 0.883781051871523, 'colsample_bytree': 0.8801126166828622, 'gamma': 4.236577911257301, 'min_child_weight': 7}. Best is trial 25 with value: -0.668902378974928.\n"
     ]
    },
    {
     "name": "stdout",
     "output_type": "stream",
     "text": [
      "Trial 32 finished with value: -0.6708 and parameters: {'n_estimators': 177, 'max_depth': 9, 'learning_rate': 0.02515006010775321, 'subsample': 0.883781051871523, 'colsample_bytree': 0.8801126166828622, 'gamma': 4.236577911257301, 'min_child_weight': 7}.\n",
      "Elapsed time for trial: 7.20 seconds\n"
     ]
    },
    {
     "name": "stderr",
     "output_type": "stream",
     "text": [
      "[I 2024-12-10 17:37:03,786] Trial 33 finished with value: -0.6814879325005796 and parameters: {'n_estimators': 129, 'max_depth': 9, 'learning_rate': 0.02369854227113962, 'subsample': 0.878273631438276, 'colsample_bytree': 0.9214732280131771, 'gamma': 4.189308737578699, 'min_child_weight': 7}. Best is trial 25 with value: -0.668902378974928.\n"
     ]
    },
    {
     "name": "stdout",
     "output_type": "stream",
     "text": [
      "Trial 33 finished with value: -0.6815 and parameters: {'n_estimators': 129, 'max_depth': 9, 'learning_rate': 0.02369854227113962, 'subsample': 0.878273631438276, 'colsample_bytree': 0.9214732280131771, 'gamma': 4.189308737578699, 'min_child_weight': 7}.\n",
      "Elapsed time for trial: 6.08 seconds\n"
     ]
    },
    {
     "name": "stderr",
     "output_type": "stream",
     "text": [
      "[I 2024-12-10 17:37:13,114] Trial 34 finished with value: -0.7185346501516476 and parameters: {'n_estimators': 173, 'max_depth': 10, 'learning_rate': 0.010710493651726116, 'subsample': 0.9033045137319266, 'colsample_bytree': 0.8813667260636093, 'gamma': 4.2694714689182, 'min_child_weight': 8}. Best is trial 25 with value: -0.668902378974928.\n"
     ]
    },
    {
     "name": "stdout",
     "output_type": "stream",
     "text": [
      "Trial 34 finished with value: -0.7185 and parameters: {'n_estimators': 173, 'max_depth': 10, 'learning_rate': 0.010710493651726116, 'subsample': 0.9033045137319266, 'colsample_bytree': 0.8813667260636093, 'gamma': 4.2694714689182, 'min_child_weight': 8}.\n",
      "Elapsed time for trial: 9.01 seconds\n"
     ]
    },
    {
     "name": "stderr",
     "output_type": "stream",
     "text": [
      "[I 2024-12-10 17:37:19,015] Trial 35 finished with value: -0.7313650573199925 and parameters: {'n_estimators': 111, 'max_depth': 9, 'learning_rate': 0.016571977393813796, 'subsample': 0.9332904207901428, 'colsample_bytree': 0.8214600114750794, 'gamma': 3.631478965533706, 'min_child_weight': 6}. Best is trial 25 with value: -0.668902378974928.\n"
     ]
    },
    {
     "name": "stdout",
     "output_type": "stream",
     "text": [
      "Trial 35 finished with value: -0.7314 and parameters: {'n_estimators': 111, 'max_depth': 9, 'learning_rate': 0.016571977393813796, 'subsample': 0.9332904207901428, 'colsample_bytree': 0.8214600114750794, 'gamma': 3.631478965533706, 'min_child_weight': 6}.\n",
      "Elapsed time for trial: 5.51 seconds\n"
     ]
    },
    {
     "name": "stderr",
     "output_type": "stream",
     "text": [
      "[I 2024-12-10 17:37:23,194] Trial 36 finished with value: -0.7086714619454624 and parameters: {'n_estimators': 58, 'max_depth': 10, 'learning_rate': 0.034539337502456004, 'subsample': 0.7481234306177226, 'colsample_bytree': 0.867867696170994, 'gamma': 4.603493903437598, 'min_child_weight': 9}. Best is trial 25 with value: -0.668902378974928.\n"
     ]
    },
    {
     "name": "stdout",
     "output_type": "stream",
     "text": [
      "Trial 36 finished with value: -0.7087 and parameters: {'n_estimators': 58, 'max_depth': 10, 'learning_rate': 0.034539337502456004, 'subsample': 0.7481234306177226, 'colsample_bytree': 0.867867696170994, 'gamma': 4.603493903437598, 'min_child_weight': 9}.\n",
      "Elapsed time for trial: 3.91 seconds\n"
     ]
    },
    {
     "name": "stderr",
     "output_type": "stream",
     "text": [
      "[I 2024-12-10 17:37:32,449] Trial 37 finished with value: -0.6713658633569634 and parameters: {'n_estimators': 229, 'max_depth': 9, 'learning_rate': 0.019146318011190426, 'subsample': 0.8636069535670163, 'colsample_bytree': 0.9222535943114873, 'gamma': 3.2886095911923077, 'min_child_weight': 7}. Best is trial 25 with value: -0.668902378974928.\n"
     ]
    },
    {
     "name": "stdout",
     "output_type": "stream",
     "text": [
      "Trial 37 finished with value: -0.6714 and parameters: {'n_estimators': 229, 'max_depth': 9, 'learning_rate': 0.019146318011190426, 'subsample': 0.8636069535670163, 'colsample_bytree': 0.9222535943114873, 'gamma': 3.2886095911923077, 'min_child_weight': 7}.\n",
      "Elapsed time for trial: 8.87 seconds\n"
     ]
    },
    {
     "name": "stderr",
     "output_type": "stream",
     "text": [
      "[I 2024-12-10 17:37:41,498] Trial 38 finished with value: -0.6829806924686108 and parameters: {'n_estimators': 265, 'max_depth': 8, 'learning_rate': 0.01291213467833405, 'subsample': 0.8533269760375628, 'colsample_bytree': 0.9219708981128056, 'gamma': 3.267535253522647, 'min_child_weight': 9}. Best is trial 25 with value: -0.668902378974928.\n"
     ]
    },
    {
     "name": "stdout",
     "output_type": "stream",
     "text": [
      "Trial 38 finished with value: -0.6830 and parameters: {'n_estimators': 265, 'max_depth': 8, 'learning_rate': 0.01291213467833405, 'subsample': 0.8533269760375628, 'colsample_bytree': 0.9219708981128056, 'gamma': 3.267535253522647, 'min_child_weight': 9}.\n",
      "Elapsed time for trial: 8.72 seconds\n"
     ]
    },
    {
     "name": "stderr",
     "output_type": "stream",
     "text": [
      "[I 2024-12-10 17:37:47,805] Trial 39 finished with value: -0.7022841873624931 and parameters: {'n_estimators': 90, 'max_depth': 10, 'learning_rate': 0.023044629910481167, 'subsample': 0.824324331686315, 'colsample_bytree': 0.9950185156381081, 'gamma': 2.851414470400995, 'min_child_weight': 6}. Best is trial 25 with value: -0.668902378974928.\n"
     ]
    },
    {
     "name": "stdout",
     "output_type": "stream",
     "text": [
      "Trial 39 finished with value: -0.7023 and parameters: {'n_estimators': 90, 'max_depth': 10, 'learning_rate': 0.023044629910481167, 'subsample': 0.824324331686315, 'colsample_bytree': 0.9950185156381081, 'gamma': 2.851414470400995, 'min_child_weight': 6}.\n",
      "Elapsed time for trial: 5.90 seconds\n"
     ]
    },
    {
     "name": "stderr",
     "output_type": "stream",
     "text": [
      "[I 2024-12-10 17:37:56,547] Trial 40 finished with value: -0.6789785330446837 and parameters: {'n_estimators': 229, 'max_depth': 9, 'learning_rate': 0.03468435711867825, 'subsample': 0.7461189093036309, 'colsample_bytree': 0.9226513503228579, 'gamma': 2.2271046247182227, 'min_child_weight': 6}. Best is trial 25 with value: -0.668902378974928.\n"
     ]
    },
    {
     "name": "stdout",
     "output_type": "stream",
     "text": [
      "Trial 40 finished with value: -0.6790 and parameters: {'n_estimators': 229, 'max_depth': 9, 'learning_rate': 0.03468435711867825, 'subsample': 0.7461189093036309, 'colsample_bytree': 0.9226513503228579, 'gamma': 2.2271046247182227, 'min_child_weight': 6}.\n",
      "Elapsed time for trial: 8.35 seconds\n"
     ]
    },
    {
     "name": "stderr",
     "output_type": "stream",
     "text": [
      "[I 2024-12-10 17:38:04,458] Trial 41 finished with value: -0.6757351500513478 and parameters: {'n_estimators': 184, 'max_depth': 9, 'learning_rate': 0.01873766230404004, 'subsample': 0.9111605520444972, 'colsample_bytree': 0.8570102079101087, 'gamma': 4.12469844949062, 'min_child_weight': 7}. Best is trial 25 with value: -0.668902378974928.\n"
     ]
    },
    {
     "name": "stdout",
     "output_type": "stream",
     "text": [
      "Trial 41 finished with value: -0.6757 and parameters: {'n_estimators': 184, 'max_depth': 9, 'learning_rate': 0.01873766230404004, 'subsample': 0.9111605520444972, 'colsample_bytree': 0.8570102079101087, 'gamma': 4.12469844949062, 'min_child_weight': 7}.\n",
      "Elapsed time for trial: 7.70 seconds\n"
     ]
    },
    {
     "name": "stderr",
     "output_type": "stream",
     "text": [
      "[I 2024-12-10 17:38:12,076] Trial 42 finished with value: -0.6822522816086269 and parameters: {'n_estimators': 211, 'max_depth': 8, 'learning_rate': 0.015010937127418274, 'subsample': 0.8779927121942978, 'colsample_bytree': 0.8183774215208564, 'gamma': 3.2719847071085875, 'min_child_weight': 8}. Best is trial 25 with value: -0.668902378974928.\n"
     ]
    },
    {
     "name": "stdout",
     "output_type": "stream",
     "text": [
      "Trial 42 finished with value: -0.6823 and parameters: {'n_estimators': 211, 'max_depth': 8, 'learning_rate': 0.015010937127418274, 'subsample': 0.8779927121942978, 'colsample_bytree': 0.8183774215208564, 'gamma': 3.2719847071085875, 'min_child_weight': 8}.\n",
      "Elapsed time for trial: 7.38 seconds\n"
     ]
    },
    {
     "name": "stderr",
     "output_type": "stream",
     "text": [
      "[I 2024-12-10 17:38:19,160] Trial 43 finished with value: -0.6802938658293115 and parameters: {'n_estimators': 164, 'max_depth': 9, 'learning_rate': 0.020121491219320435, 'subsample': 0.9597255732445872, 'colsample_bytree': 0.9664266874810199, 'gamma': 4.393495753394325, 'min_child_weight': 7}. Best is trial 25 with value: -0.668902378974928.\n"
     ]
    },
    {
     "name": "stdout",
     "output_type": "stream",
     "text": [
      "Trial 43 finished with value: -0.6803 and parameters: {'n_estimators': 164, 'max_depth': 9, 'learning_rate': 0.020121491219320435, 'subsample': 0.9597255732445872, 'colsample_bytree': 0.9664266874810199, 'gamma': 4.393495753394325, 'min_child_weight': 7}.\n",
      "Elapsed time for trial: 6.86 seconds\n"
     ]
    },
    {
     "name": "stderr",
     "output_type": "stream",
     "text": [
      "[I 2024-12-10 17:38:27,884] Trial 44 finished with value: -0.765953527331964 and parameters: {'n_estimators': 138, 'max_depth': 10, 'learning_rate': 0.010384029633819358, 'subsample': 0.8620589313910728, 'colsample_bytree': 0.9147619696592844, 'gamma': 3.7161161834027574, 'min_child_weight': 5}. Best is trial 25 with value: -0.668902378974928.\n"
     ]
    },
    {
     "name": "stdout",
     "output_type": "stream",
     "text": [
      "Trial 44 finished with value: -0.7660 and parameters: {'n_estimators': 138, 'max_depth': 10, 'learning_rate': 0.010384029633819358, 'subsample': 0.8620589313910728, 'colsample_bytree': 0.9147619696592844, 'gamma': 3.7161161834027574, 'min_child_weight': 5}.\n",
      "Elapsed time for trial: 8.43 seconds\n"
     ]
    },
    {
     "name": "stderr",
     "output_type": "stream",
     "text": [
      "[I 2024-12-10 17:38:35,832] Trial 45 finished with value: -0.6706450202901845 and parameters: {'n_estimators': 234, 'max_depth': 8, 'learning_rate': 0.024031036203792135, 'subsample': 0.8059860555810535, 'colsample_bytree': 0.7470795924150307, 'gamma': 4.727635064423339, 'min_child_weight': 8}. Best is trial 25 with value: -0.668902378974928.\n"
     ]
    },
    {
     "name": "stdout",
     "output_type": "stream",
     "text": [
      "Trial 45 finished with value: -0.6706 and parameters: {'n_estimators': 234, 'max_depth': 8, 'learning_rate': 0.024031036203792135, 'subsample': 0.8059860555810535, 'colsample_bytree': 0.7470795924150307, 'gamma': 4.727635064423339, 'min_child_weight': 8}.\n",
      "Elapsed time for trial: 7.45 seconds\n"
     ]
    },
    {
     "name": "stderr",
     "output_type": "stream",
     "text": [
      "[I 2024-12-10 17:38:44,209] Trial 46 finished with value: -0.6772963724794423 and parameters: {'n_estimators': 247, 'max_depth': 8, 'learning_rate': 0.029710148436381766, 'subsample': 0.7955257592902177, 'colsample_bytree': 0.7380486376918107, 'gamma': 4.713956075194484, 'min_child_weight': 8}. Best is trial 25 with value: -0.668902378974928.\n"
     ]
    },
    {
     "name": "stdout",
     "output_type": "stream",
     "text": [
      "Trial 46 finished with value: -0.6773 and parameters: {'n_estimators': 247, 'max_depth': 8, 'learning_rate': 0.029710148436381766, 'subsample': 0.7955257592902177, 'colsample_bytree': 0.7380486376918107, 'gamma': 4.713956075194484, 'min_child_weight': 8}.\n",
      "Elapsed time for trial: 7.97 seconds\n"
     ]
    },
    {
     "name": "stderr",
     "output_type": "stream",
     "text": [
      "[I 2024-12-10 17:38:53,084] Trial 47 finished with value: -0.684747143674088 and parameters: {'n_estimators': 499, 'max_depth': 7, 'learning_rate': 0.05119647432755302, 'subsample': 0.6896533697902862, 'colsample_bytree': 0.6717993824532639, 'gamma': 4.097402805730345, 'min_child_weight': 9}. Best is trial 25 with value: -0.668902378974928.\n"
     ]
    },
    {
     "name": "stdout",
     "output_type": "stream",
     "text": [
      "Trial 47 finished with value: -0.6847 and parameters: {'n_estimators': 499, 'max_depth': 7, 'learning_rate': 0.05119647432755302, 'subsample': 0.6896533697902862, 'colsample_bytree': 0.6717993824532639, 'gamma': 4.097402805730345, 'min_child_weight': 9}.\n",
      "Elapsed time for trial: 8.44 seconds\n"
     ]
    },
    {
     "name": "stderr",
     "output_type": "stream",
     "text": [
      "[I 2024-12-10 17:39:01,278] Trial 48 finished with value: -0.6763516400125162 and parameters: {'n_estimators': 284, 'max_depth': 7, 'learning_rate': 0.023266848612545913, 'subsample': 0.8328555281004012, 'colsample_bytree': 0.7530284199092828, 'gamma': 3.0357041845130035, 'min_child_weight': 6}. Best is trial 25 with value: -0.668902378974928.\n"
     ]
    },
    {
     "name": "stdout",
     "output_type": "stream",
     "text": [
      "Trial 48 finished with value: -0.6764 and parameters: {'n_estimators': 284, 'max_depth': 7, 'learning_rate': 0.023266848612545913, 'subsample': 0.8328555281004012, 'colsample_bytree': 0.7530284199092828, 'gamma': 3.0357041845130035, 'min_child_weight': 6}.\n",
      "Elapsed time for trial: 7.76 seconds\n"
     ]
    },
    {
     "name": "stderr",
     "output_type": "stream",
     "text": [
      "[I 2024-12-10 17:39:08,955] Trial 49 finished with value: -0.6782863173675455 and parameters: {'n_estimators': 217, 'max_depth': 8, 'learning_rate': 0.04117832884773643, 'subsample': 0.7656910883918222, 'colsample_bytree': 0.8388300259238638, 'gamma': 3.455740059903572, 'min_child_weight': 8}. Best is trial 25 with value: -0.668902378974928.\n"
     ]
    },
    {
     "name": "stdout",
     "output_type": "stream",
     "text": [
      "Trial 49 finished with value: -0.6783 and parameters: {'n_estimators': 217, 'max_depth': 8, 'learning_rate': 0.04117832884773643, 'subsample': 0.7656910883918222, 'colsample_bytree': 0.8388300259238638, 'gamma': 3.455740059903572, 'min_child_weight': 8}.\n",
      "Elapsed time for trial: 7.20 seconds\n"
     ]
    },
    {
     "name": "stderr",
     "output_type": "stream",
     "text": [
      "[I 2024-12-10 17:39:13,763] Trial 50 finished with value: -0.6909681271179932 and parameters: {'n_estimators': 260, 'max_depth': 6, 'learning_rate': 0.18370747238618013, 'subsample': 0.8135188721862818, 'colsample_bytree': 0.7115194509273908, 'gamma': 4.721194109231277, 'min_child_weight': 7}. Best is trial 25 with value: -0.668902378974928.\n"
     ]
    },
    {
     "name": "stdout",
     "output_type": "stream",
     "text": [
      "Trial 50 finished with value: -0.6910 and parameters: {'n_estimators': 260, 'max_depth': 6, 'learning_rate': 0.18370747238618013, 'subsample': 0.8135188721862818, 'colsample_bytree': 0.7115194509273908, 'gamma': 4.721194109231277, 'min_child_weight': 7}.\n",
      "Elapsed time for trial: 4.64 seconds\n"
     ]
    },
    {
     "name": "stderr",
     "output_type": "stream",
     "text": [
      "[I 2024-12-10 17:39:20,587] Trial 51 finished with value: -0.6701809319933765 and parameters: {'n_estimators': 157, 'max_depth': 9, 'learning_rate': 0.026212929304142703, 'subsample': 0.931983211489847, 'colsample_bytree': 0.9447737373198309, 'gamma': 4.4078223440880935, 'min_child_weight': 7}. Best is trial 25 with value: -0.668902378974928.\n"
     ]
    },
    {
     "name": "stdout",
     "output_type": "stream",
     "text": [
      "Trial 51 finished with value: -0.6702 and parameters: {'n_estimators': 157, 'max_depth': 9, 'learning_rate': 0.026212929304142703, 'subsample': 0.931983211489847, 'colsample_bytree': 0.9447737373198309, 'gamma': 4.4078223440880935, 'min_child_weight': 7}.\n",
      "Elapsed time for trial: 6.58 seconds\n"
     ]
    },
    {
     "name": "stderr",
     "output_type": "stream",
     "text": [
      "[I 2024-12-10 17:39:27,862] Trial 52 finished with value: -0.6721671008801096 and parameters: {'n_estimators': 157, 'max_depth': 9, 'learning_rate': 0.025225046334197216, 'subsample': 0.9330304786432408, 'colsample_bytree': 0.9349513520420613, 'gamma': 4.397739477593613, 'min_child_weight': 5}. Best is trial 25 with value: -0.668902378974928.\n"
     ]
    },
    {
     "name": "stdout",
     "output_type": "stream",
     "text": [
      "Trial 52 finished with value: -0.6722 and parameters: {'n_estimators': 157, 'max_depth': 9, 'learning_rate': 0.025225046334197216, 'subsample': 0.9330304786432408, 'colsample_bytree': 0.9349513520420613, 'gamma': 4.397739477593613, 'min_child_weight': 5}.\n",
      "Elapsed time for trial: 6.84 seconds\n"
     ]
    },
    {
     "name": "stderr",
     "output_type": "stream",
     "text": [
      "[I 2024-12-10 17:39:36,067] Trial 53 finished with value: -0.6779632143430225 and parameters: {'n_estimators': 156, 'max_depth': 10, 'learning_rate': 0.024806601607692203, 'subsample': 0.9777725601024809, 'colsample_bytree': 0.9445921257467496, 'gamma': 3.8834371393319667, 'min_child_weight': 8}. Best is trial 25 with value: -0.668902378974928.\n"
     ]
    },
    {
     "name": "stdout",
     "output_type": "stream",
     "text": [
      "Trial 53 finished with value: -0.6780 and parameters: {'n_estimators': 156, 'max_depth': 10, 'learning_rate': 0.024806601607692203, 'subsample': 0.9777725601024809, 'colsample_bytree': 0.9445921257467496, 'gamma': 3.8834371393319667, 'min_child_weight': 8}.\n",
      "Elapsed time for trial: 7.78 seconds\n"
     ]
    },
    {
     "name": "stderr",
     "output_type": "stream",
     "text": [
      "[I 2024-12-10 17:39:44,443] Trial 54 finished with value: -0.675536586601647 and parameters: {'n_estimators': 173, 'max_depth': 9, 'learning_rate': 0.021050888624613573, 'subsample': 0.9285067924669436, 'colsample_bytree': 0.9827829725272625, 'gamma': 4.792874590434983, 'min_child_weight': 6}. Best is trial 25 with value: -0.668902378974928.\n"
     ]
    },
    {
     "name": "stdout",
     "output_type": "stream",
     "text": [
      "Trial 54 finished with value: -0.6755 and parameters: {'n_estimators': 173, 'max_depth': 9, 'learning_rate': 0.021050888624613573, 'subsample': 0.9285067924669436, 'colsample_bytree': 0.9827829725272625, 'gamma': 4.792874590434983, 'min_child_weight': 6}.\n",
      "Elapsed time for trial: 7.93 seconds\n"
     ]
    },
    {
     "name": "stderr",
     "output_type": "stream",
     "text": [
      "[I 2024-12-10 17:39:51,280] Trial 55 finished with value: -0.6727298197213321 and parameters: {'n_estimators': 123, 'max_depth': 10, 'learning_rate': 0.032617208036112365, 'subsample': 0.9414119366419342, 'colsample_bytree': 0.9389112502979075, 'gamma': 4.5220178241052364, 'min_child_weight': 9}. Best is trial 25 with value: -0.668902378974928.\n"
     ]
    },
    {
     "name": "stdout",
     "output_type": "stream",
     "text": [
      "Trial 55 finished with value: -0.6727 and parameters: {'n_estimators': 123, 'max_depth': 10, 'learning_rate': 0.032617208036112365, 'subsample': 0.9414119366419342, 'colsample_bytree': 0.9389112502979075, 'gamma': 4.5220178241052364, 'min_child_weight': 9}.\n",
      "Elapsed time for trial: 6.39 seconds\n"
     ]
    },
    {
     "name": "stderr",
     "output_type": "stream",
     "text": [
      "[I 2024-12-10 17:40:01,885] Trial 56 finished with value: -0.6777285844672516 and parameters: {'n_estimators': 237, 'max_depth': 9, 'learning_rate': 0.014803901946787443, 'subsample': 0.9913513530289934, 'colsample_bytree': 0.9685142134905161, 'gamma': 0.6888845930947773, 'min_child_weight': 7}. Best is trial 25 with value: -0.668902378974928.\n"
     ]
    },
    {
     "name": "stdout",
     "output_type": "stream",
     "text": [
      "Trial 56 finished with value: -0.6777 and parameters: {'n_estimators': 237, 'max_depth': 9, 'learning_rate': 0.014803901946787443, 'subsample': 0.9913513530289934, 'colsample_bytree': 0.9685142134905161, 'gamma': 0.6888845930947773, 'min_child_weight': 7}.\n",
      "Elapsed time for trial: 10.23 seconds\n"
     ]
    },
    {
     "name": "stderr",
     "output_type": "stream",
     "text": [
      "[I 2024-12-10 17:40:10,449] Trial 57 finished with value: -0.6764079091691063 and parameters: {'n_estimators': 213, 'max_depth': 9, 'learning_rate': 0.030026265019823563, 'subsample': 0.9623363246479806, 'colsample_bytree': 0.9356700321018118, 'gamma': 3.803521939285474, 'min_child_weight': 6}. Best is trial 25 with value: -0.668902378974928.\n"
     ]
    },
    {
     "name": "stdout",
     "output_type": "stream",
     "text": [
      "Trial 57 finished with value: -0.6764 and parameters: {'n_estimators': 213, 'max_depth': 9, 'learning_rate': 0.030026265019823563, 'subsample': 0.9623363246479806, 'colsample_bytree': 0.9356700321018118, 'gamma': 3.803521939285474, 'min_child_weight': 6}.\n",
      "Elapsed time for trial: 8.35 seconds\n"
     ]
    },
    {
     "name": "stderr",
     "output_type": "stream",
     "text": [
      "[I 2024-12-10 17:40:19,850] Trial 58 finished with value: -0.7184438847659838 and parameters: {'n_estimators': 149, 'max_depth': 10, 'learning_rate': 0.012281396060629802, 'subsample': 0.8410556455928169, 'colsample_bytree': 0.9785637252445958, 'gamma': 4.021104861330258, 'min_child_weight': 10}. Best is trial 25 with value: -0.668902378974928.\n"
     ]
    },
    {
     "name": "stdout",
     "output_type": "stream",
     "text": [
      "Trial 58 finished with value: -0.7184 and parameters: {'n_estimators': 149, 'max_depth': 10, 'learning_rate': 0.012281396060629802, 'subsample': 0.8410556455928169, 'colsample_bytree': 0.9785637252445958, 'gamma': 4.021104861330258, 'min_child_weight': 10}.\n",
      "Elapsed time for trial: 9.15 seconds\n"
     ]
    },
    {
     "name": "stderr",
     "output_type": "stream",
     "text": [
      "[I 2024-12-10 17:40:26,804] Trial 59 finished with value: -0.6784706446049539 and parameters: {'n_estimators': 169, 'max_depth': 8, 'learning_rate': 0.022438790417014704, 'subsample': 0.9186587598796955, 'colsample_bytree': 0.9077674044862996, 'gamma': 4.462706323922563, 'min_child_weight': 4}. Best is trial 25 with value: -0.668902378974928.\n"
     ]
    },
    {
     "name": "stdout",
     "output_type": "stream",
     "text": [
      "Trial 59 finished with value: -0.6785 and parameters: {'n_estimators': 169, 'max_depth': 8, 'learning_rate': 0.022438790417014704, 'subsample': 0.9186587598796955, 'colsample_bytree': 0.9077674044862996, 'gamma': 4.462706323922563, 'min_child_weight': 4}.\n",
      "Elapsed time for trial: 6.50 seconds\n"
     ]
    },
    {
     "name": "stderr",
     "output_type": "stream",
     "text": [
      "[I 2024-12-10 17:40:31,025] Trial 60 finished with value: -0.6745113440515523 and parameters: {'n_estimators': 81, 'max_depth': 9, 'learning_rate': 0.08192431164588615, 'subsample': 0.8683966651856255, 'colsample_bytree': 0.8717596256210457, 'gamma': 2.560420774195095, 'min_child_weight': 5}. Best is trial 25 with value: -0.668902378974928.\n"
     ]
    },
    {
     "name": "stdout",
     "output_type": "stream",
     "text": [
      "Trial 60 finished with value: -0.6745 and parameters: {'n_estimators': 81, 'max_depth': 9, 'learning_rate': 0.08192431164588615, 'subsample': 0.8683966651856255, 'colsample_bytree': 0.8717596256210457, 'gamma': 2.560420774195095, 'min_child_weight': 5}.\n",
      "Elapsed time for trial: 4.02 seconds\n"
     ]
    },
    {
     "name": "stderr",
     "output_type": "stream",
     "text": [
      "[I 2024-12-10 17:40:37,857] Trial 61 finished with value: -0.6743323475166183 and parameters: {'n_estimators': 119, 'max_depth': 10, 'learning_rate': 0.02712197999227558, 'subsample': 0.9372079289335448, 'colsample_bytree': 0.9424027281569334, 'gamma': 4.488623259898692, 'min_child_weight': 9}. Best is trial 25 with value: -0.668902378974928.\n"
     ]
    },
    {
     "name": "stdout",
     "output_type": "stream",
     "text": [
      "Trial 61 finished with value: -0.6743 and parameters: {'n_estimators': 119, 'max_depth': 10, 'learning_rate': 0.02712197999227558, 'subsample': 0.9372079289335448, 'colsample_bytree': 0.9424027281569334, 'gamma': 4.488623259898692, 'min_child_weight': 9}.\n",
      "Elapsed time for trial: 6.44 seconds\n"
     ]
    },
    {
     "name": "stderr",
     "output_type": "stream",
     "text": [
      "[I 2024-12-10 17:40:44,401] Trial 62 finished with value: -0.6738653179824521 and parameters: {'n_estimators': 139, 'max_depth': 9, 'learning_rate': 0.03437848920241135, 'subsample': 0.9057334071999589, 'colsample_bytree': 0.9357971450485736, 'gamma': 4.994104838155894, 'min_child_weight': 9}. Best is trial 25 with value: -0.668902378974928.\n"
     ]
    },
    {
     "name": "stdout",
     "output_type": "stream",
     "text": [
      "Trial 62 finished with value: -0.6739 and parameters: {'n_estimators': 139, 'max_depth': 9, 'learning_rate': 0.03437848920241135, 'subsample': 0.9057334071999589, 'colsample_bytree': 0.9357971450485736, 'gamma': 4.994104838155894, 'min_child_weight': 9}.\n",
      "Elapsed time for trial: 6.20 seconds\n"
     ]
    },
    {
     "name": "stderr",
     "output_type": "stream",
     "text": [
      "[I 2024-12-10 17:40:50,517] Trial 63 finished with value: -0.6811704218949209 and parameters: {'n_estimators': 104, 'max_depth': 10, 'learning_rate': 0.02571917229610624, 'subsample': 0.9432870154262912, 'colsample_bytree': 0.9539732813585629, 'gamma': 4.762271632011207, 'min_child_weight': 8}. Best is trial 25 with value: -0.668902378974928.\n"
     ]
    },
    {
     "name": "stdout",
     "output_type": "stream",
     "text": [
      "Trial 63 finished with value: -0.6812 and parameters: {'n_estimators': 104, 'max_depth': 10, 'learning_rate': 0.02571917229610624, 'subsample': 0.9432870154262912, 'colsample_bytree': 0.9539732813585629, 'gamma': 4.762271632011207, 'min_child_weight': 8}.\n",
      "Elapsed time for trial: 5.91 seconds\n"
     ]
    },
    {
     "name": "stderr",
     "output_type": "stream",
     "text": [
      "[I 2024-12-10 17:40:58,291] Trial 64 finished with value: -0.6892798238787868 and parameters: {'n_estimators': 121, 'max_depth': 10, 'learning_rate': 0.01984184371316226, 'subsample': 0.9765309886115363, 'colsample_bytree': 0.8809463987697118, 'gamma': 4.18225980727937, 'min_child_weight': 8}. Best is trial 25 with value: -0.668902378974928.\n"
     ]
    },
    {
     "name": "stdout",
     "output_type": "stream",
     "text": [
      "Trial 64 finished with value: -0.6893 and parameters: {'n_estimators': 121, 'max_depth': 10, 'learning_rate': 0.01984184371316226, 'subsample': 0.9765309886115363, 'colsample_bytree': 0.8809463987697118, 'gamma': 4.18225980727937, 'min_child_weight': 8}.\n",
      "Elapsed time for trial: 7.23 seconds\n"
     ]
    },
    {
     "name": "stderr",
     "output_type": "stream",
     "text": [
      "[I 2024-12-10 17:41:06,869] Trial 65 finished with value: -0.6741632058787664 and parameters: {'n_estimators': 205, 'max_depth': 9, 'learning_rate': 0.03149366259099607, 'subsample': 0.8941924802179436, 'colsample_bytree': 0.9011398580916553, 'gamma': 4.612684003400826, 'min_child_weight': 7}. Best is trial 25 with value: -0.668902378974928.\n"
     ]
    },
    {
     "name": "stdout",
     "output_type": "stream",
     "text": [
      "Trial 65 finished with value: -0.6742 and parameters: {'n_estimators': 205, 'max_depth': 9, 'learning_rate': 0.03149366259099607, 'subsample': 0.8941924802179436, 'colsample_bytree': 0.9011398580916553, 'gamma': 4.612684003400826, 'min_child_weight': 7}.\n",
      "Elapsed time for trial: 8.20 seconds\n"
     ]
    },
    {
     "name": "stderr",
     "output_type": "stream",
     "text": [
      "[I 2024-12-10 17:41:14,387] Trial 66 finished with value: -0.6879044762993177 and parameters: {'n_estimators': 187, 'max_depth': 8, 'learning_rate': 0.017236779151236413, 'subsample': 0.9174119989852351, 'colsample_bytree': 0.9309706336391362, 'gamma': 4.391532597177616, 'min_child_weight': 7}. Best is trial 25 with value: -0.668902378974928.\n"
     ]
    },
    {
     "name": "stdout",
     "output_type": "stream",
     "text": [
      "Trial 66 finished with value: -0.6879 and parameters: {'n_estimators': 187, 'max_depth': 8, 'learning_rate': 0.017236779151236413, 'subsample': 0.9174119989852351, 'colsample_bytree': 0.9309706336391362, 'gamma': 4.391532597177616, 'min_child_weight': 7}.\n",
      "Elapsed time for trial: 7.04 seconds\n"
     ]
    },
    {
     "name": "stderr",
     "output_type": "stream",
     "text": [
      "[I 2024-12-10 17:41:23,289] Trial 67 finished with value: -0.6811979803273621 and parameters: {'n_estimators': 227, 'max_depth': 9, 'learning_rate': 0.044631673623874484, 'subsample': 0.8422679715399823, 'colsample_bytree': 0.855308826565126, 'gamma': 4.022606310942868, 'min_child_weight': 9}. Best is trial 25 with value: -0.668902378974928.\n"
     ]
    },
    {
     "name": "stdout",
     "output_type": "stream",
     "text": [
      "Trial 67 finished with value: -0.6812 and parameters: {'n_estimators': 227, 'max_depth': 9, 'learning_rate': 0.044631673623874484, 'subsample': 0.8422679715399823, 'colsample_bytree': 0.855308826565126, 'gamma': 4.022606310942868, 'min_child_weight': 9}.\n",
      "Elapsed time for trial: 8.41 seconds\n"
     ]
    },
    {
     "name": "stderr",
     "output_type": "stream",
     "text": [
      "[I 2024-12-10 17:41:32,163] Trial 68 finished with value: -0.6739340230803877 and parameters: {'n_estimators': 160, 'max_depth': 10, 'learning_rate': 0.02841304906321764, 'subsample': 0.8107913538142968, 'colsample_bytree': 0.9805899971609359, 'gamma': 4.875025216000383, 'min_child_weight': 6}. Best is trial 25 with value: -0.668902378974928.\n"
     ]
    },
    {
     "name": "stdout",
     "output_type": "stream",
     "text": [
      "Trial 68 finished with value: -0.6739 and parameters: {'n_estimators': 160, 'max_depth': 10, 'learning_rate': 0.02841304906321764, 'subsample': 0.8107913538142968, 'colsample_bytree': 0.9805899971609359, 'gamma': 4.875025216000383, 'min_child_weight': 6}.\n",
      "Elapsed time for trial: 8.49 seconds\n"
     ]
    },
    {
     "name": "stderr",
     "output_type": "stream",
     "text": [
      "[I 2024-12-10 17:41:39,201] Trial 69 finished with value: -0.6760893042241133 and parameters: {'n_estimators': 183, 'max_depth': 8, 'learning_rate': 0.03645588852548897, 'subsample': 0.8718257494191379, 'colsample_bytree': 0.7181822598211983, 'gamma': 3.551708764102638, 'min_child_weight': 8}. Best is trial 25 with value: -0.668902378974928.\n"
     ]
    },
    {
     "name": "stdout",
     "output_type": "stream",
     "text": [
      "Trial 69 finished with value: -0.6761 and parameters: {'n_estimators': 183, 'max_depth': 8, 'learning_rate': 0.03645588852548897, 'subsample': 0.8718257494191379, 'colsample_bytree': 0.7181822598211983, 'gamma': 3.551708764102638, 'min_child_weight': 8}.\n",
      "Elapsed time for trial: 6.57 seconds\n"
     ]
    },
    {
     "name": "stderr",
     "output_type": "stream",
     "text": [
      "[I 2024-12-10 17:41:43,478] Trial 70 finished with value: -0.7999467651661535 and parameters: {'n_estimators': 128, 'max_depth': 4, 'learning_rate': 0.021622737786584936, 'subsample': 0.9529891613700444, 'colsample_bytree': 0.7650097401678788, 'gamma': 4.62374622350178, 'min_child_weight': 10}. Best is trial 25 with value: -0.668902378974928.\n"
     ]
    },
    {
     "name": "stdout",
     "output_type": "stream",
     "text": [
      "Trial 70 finished with value: -0.7999 and parameters: {'n_estimators': 128, 'max_depth': 4, 'learning_rate': 0.021622737786584936, 'subsample': 0.9529891613700444, 'colsample_bytree': 0.7650097401678788, 'gamma': 4.62374622350178, 'min_child_weight': 10}.\n",
      "Elapsed time for trial: 3.94 seconds\n"
     ]
    },
    {
     "name": "stderr",
     "output_type": "stream",
     "text": [
      "[I 2024-12-10 17:41:50,251] Trial 71 finished with value: -0.6751977668508605 and parameters: {'n_estimators': 141, 'max_depth': 9, 'learning_rate': 0.025009023320266204, 'subsample': 0.8929842536052148, 'colsample_bytree': 0.9573479616703999, 'gamma': 4.972428870809198, 'min_child_weight': 9}. Best is trial 25 with value: -0.668902378974928.\n"
     ]
    },
    {
     "name": "stdout",
     "output_type": "stream",
     "text": [
      "Trial 71 finished with value: -0.6752 and parameters: {'n_estimators': 141, 'max_depth': 9, 'learning_rate': 0.025009023320266204, 'subsample': 0.8929842536052148, 'colsample_bytree': 0.9573479616703999, 'gamma': 4.972428870809198, 'min_child_weight': 9}.\n",
      "Elapsed time for trial: 6.43 seconds\n"
     ]
    },
    {
     "name": "stderr",
     "output_type": "stream",
     "text": [
      "[I 2024-12-10 17:41:57,276] Trial 72 finished with value: -0.6722004052869098 and parameters: {'n_estimators': 141, 'max_depth': 9, 'learning_rate': 0.03112003495103604, 'subsample': 0.9058702398005518, 'colsample_bytree': 0.9346997524845327, 'gamma': 4.3048406885469594, 'min_child_weight': 9}. Best is trial 25 with value: -0.668902378974928.\n"
     ]
    },
    {
     "name": "stdout",
     "output_type": "stream",
     "text": [
      "Trial 72 finished with value: -0.6722 and parameters: {'n_estimators': 141, 'max_depth': 9, 'learning_rate': 0.03112003495103604, 'subsample': 0.9058702398005518, 'colsample_bytree': 0.9346997524845327, 'gamma': 4.3048406885469594, 'min_child_weight': 9}.\n",
      "Elapsed time for trial: 6.58 seconds\n"
     ]
    },
    {
     "name": "stderr",
     "output_type": "stream",
     "text": [
      "[I 2024-12-10 17:42:02,092] Trial 73 finished with value: -0.706240471179789 and parameters: {'n_estimators': 72, 'max_depth': 9, 'learning_rate': 0.030822540432951264, 'subsample': 0.9185424585750083, 'colsample_bytree': 0.9094183475557686, 'gamma': 4.3387379608958385, 'min_child_weight': 10}. Best is trial 25 with value: -0.668902378974928.\n"
     ]
    },
    {
     "name": "stdout",
     "output_type": "stream",
     "text": [
      "Trial 73 finished with value: -0.7062 and parameters: {'n_estimators': 72, 'max_depth': 9, 'learning_rate': 0.030822540432951264, 'subsample': 0.9185424585750083, 'colsample_bytree': 0.9094183475557686, 'gamma': 4.3387379608958385, 'min_child_weight': 10}.\n",
      "Elapsed time for trial: 4.42 seconds\n"
     ]
    },
    {
     "name": "stderr",
     "output_type": "stream",
     "text": [
      "[I 2024-12-10 17:42:09,855] Trial 74 finished with value: -0.6766627698811291 and parameters: {'n_estimators': 177, 'max_depth': 9, 'learning_rate': 0.0188131631849423, 'subsample': 0.9298228657174218, 'colsample_bytree': 0.8898241414368607, 'gamma': 4.216666875632663, 'min_child_weight': 8}. Best is trial 25 with value: -0.668902378974928.\n"
     ]
    },
    {
     "name": "stdout",
     "output_type": "stream",
     "text": [
      "Trial 74 finished with value: -0.6767 and parameters: {'n_estimators': 177, 'max_depth': 9, 'learning_rate': 0.0188131631849423, 'subsample': 0.9298228657174218, 'colsample_bytree': 0.8898241414368607, 'gamma': 4.216666875632663, 'min_child_weight': 8}.\n",
      "Elapsed time for trial: 7.41 seconds\n"
     ]
    },
    {
     "name": "stderr",
     "output_type": "stream",
     "text": [
      "[I 2024-12-10 17:42:17,954] Trial 75 finished with value: -0.6709195688767097 and parameters: {'n_estimators': 201, 'max_depth': 9, 'learning_rate': 0.027686227547553326, 'subsample': 0.8556656193030567, 'colsample_bytree': 0.9307309841024181, 'gamma': 4.5375982835749005, 'min_child_weight': 7}. Best is trial 25 with value: -0.668902378974928.\n"
     ]
    },
    {
     "name": "stdout",
     "output_type": "stream",
     "text": [
      "Trial 75 finished with value: -0.6709 and parameters: {'n_estimators': 201, 'max_depth': 9, 'learning_rate': 0.027686227547553326, 'subsample': 0.8556656193030567, 'colsample_bytree': 0.9307309841024181, 'gamma': 4.5375982835749005, 'min_child_weight': 7}.\n",
      "Elapsed time for trial: 7.86 seconds\n"
     ]
    },
    {
     "name": "stderr",
     "output_type": "stream",
     "text": [
      "[I 2024-12-10 17:42:25,610] Trial 76 finished with value: -0.6871318195703713 and parameters: {'n_estimators': 204, 'max_depth': 8, 'learning_rate': 0.015365824913359994, 'subsample': 0.8838569144394309, 'colsample_bytree': 0.917969905434743, 'gamma': 1.7771696784369952, 'min_child_weight': 7}. Best is trial 25 with value: -0.668902378974928.\n"
     ]
    },
    {
     "name": "stdout",
     "output_type": "stream",
     "text": [
      "Trial 76 finished with value: -0.6871 and parameters: {'n_estimators': 204, 'max_depth': 8, 'learning_rate': 0.015365824913359994, 'subsample': 0.8838569144394309, 'colsample_bytree': 0.917969905434743, 'gamma': 1.7771696784369952, 'min_child_weight': 7}.\n",
      "Elapsed time for trial: 7.42 seconds\n"
     ]
    },
    {
     "name": "stderr",
     "output_type": "stream",
     "text": [
      "[I 2024-12-10 17:42:35,167] Trial 77 finished with value: -0.6759053252128686 and parameters: {'n_estimators': 244, 'max_depth': 9, 'learning_rate': 0.02764461822031416, 'subsample': 0.8603009395307817, 'colsample_bytree': 0.5870536755050181, 'gamma': 3.8409460477233406, 'min_child_weight': 7}. Best is trial 25 with value: -0.668902378974928.\n"
     ]
    },
    {
     "name": "stdout",
     "output_type": "stream",
     "text": [
      "Trial 77 finished with value: -0.6759 and parameters: {'n_estimators': 244, 'max_depth': 9, 'learning_rate': 0.02764461822031416, 'subsample': 0.8603009395307817, 'colsample_bytree': 0.5870536755050181, 'gamma': 3.8409460477233406, 'min_child_weight': 7}.\n",
      "Elapsed time for trial: 9.18 seconds\n"
     ]
    },
    {
     "name": "stderr",
     "output_type": "stream",
     "text": [
      "[I 2024-12-10 17:42:42,677] Trial 78 finished with value: -0.6732282555459778 and parameters: {'n_estimators': 197, 'max_depth': 8, 'learning_rate': 0.022298765240401634, 'subsample': 0.8370311020868548, 'colsample_bytree': 0.8804054576441643, 'gamma': 4.285925544539241, 'min_child_weight': 5}. Best is trial 25 with value: -0.668902378974928.\n"
     ]
    },
    {
     "name": "stdout",
     "output_type": "stream",
     "text": [
      "Trial 78 finished with value: -0.6732 and parameters: {'n_estimators': 197, 'max_depth': 8, 'learning_rate': 0.022298765240401634, 'subsample': 0.8370311020868548, 'colsample_bytree': 0.8804054576441643, 'gamma': 4.285925544539241, 'min_child_weight': 5}.\n",
      "Elapsed time for trial: 7.15 seconds\n"
     ]
    },
    {
     "name": "stderr",
     "output_type": "stream",
     "text": [
      "[I 2024-12-10 17:42:52,077] Trial 79 finished with value: -0.6732118435912527 and parameters: {'n_estimators': 223, 'max_depth': 9, 'learning_rate': 0.019725518547742023, 'subsample': 0.8034177281200238, 'colsample_bytree': 0.9993659050665026, 'gamma': 4.071227916026904, 'min_child_weight': 6}. Best is trial 25 with value: -0.668902378974928.\n"
     ]
    },
    {
     "name": "stdout",
     "output_type": "stream",
     "text": [
      "Trial 79 finished with value: -0.6732 and parameters: {'n_estimators': 223, 'max_depth': 9, 'learning_rate': 0.019725518547742023, 'subsample': 0.8034177281200238, 'colsample_bytree': 0.9993659050665026, 'gamma': 4.071227916026904, 'min_child_weight': 6}.\n",
      "Elapsed time for trial: 9.16 seconds\n"
     ]
    },
    {
     "name": "stderr",
     "output_type": "stream",
     "text": [
      "[I 2024-12-10 17:42:59,738] Trial 80 finished with value: -0.671044425562642 and parameters: {'n_estimators': 160, 'max_depth': 9, 'learning_rate': 0.024577761850752316, 'subsample': 0.7764253808990753, 'colsample_bytree': 0.8976509488180888, 'gamma': 4.81849009777701, 'min_child_weight': 7}. Best is trial 25 with value: -0.668902378974928.\n"
     ]
    },
    {
     "name": "stdout",
     "output_type": "stream",
     "text": [
      "Trial 80 finished with value: -0.6710 and parameters: {'n_estimators': 160, 'max_depth': 9, 'learning_rate': 0.024577761850752316, 'subsample': 0.7764253808990753, 'colsample_bytree': 0.8976509488180888, 'gamma': 4.81849009777701, 'min_child_weight': 7}.\n",
      "Elapsed time for trial: 7.15 seconds\n"
     ]
    },
    {
     "name": "stderr",
     "output_type": "stream",
     "text": [
      "[I 2024-12-10 17:43:07,025] Trial 81 finished with value: -0.6724163454385317 and parameters: {'n_estimators': 156, 'max_depth': 9, 'learning_rate': 0.02599634160980402, 'subsample': 0.7759098398939202, 'colsample_bytree': 0.8977546913086708, 'gamma': 4.77333205063621, 'min_child_weight': 7}. Best is trial 25 with value: -0.668902378974928.\n"
     ]
    },
    {
     "name": "stdout",
     "output_type": "stream",
     "text": [
      "Trial 81 finished with value: -0.6724 and parameters: {'n_estimators': 156, 'max_depth': 9, 'learning_rate': 0.02599634160980402, 'subsample': 0.7759098398939202, 'colsample_bytree': 0.8977546913086708, 'gamma': 4.77333205063621, 'min_child_weight': 7}.\n",
      "Elapsed time for trial: 7.04 seconds\n"
     ]
    },
    {
     "name": "stderr",
     "output_type": "stream",
     "text": [
      "[I 2024-12-10 17:43:14,445] Trial 82 finished with value: -0.670478792830158 and parameters: {'n_estimators': 168, 'max_depth': 9, 'learning_rate': 0.023970196543299366, 'subsample': 0.7906752840174348, 'colsample_bytree': 0.8302655361891342, 'gamma': 4.487832238040208, 'min_child_weight': 7}. Best is trial 25 with value: -0.668902378974928.\n"
     ]
    },
    {
     "name": "stdout",
     "output_type": "stream",
     "text": [
      "Trial 82 finished with value: -0.6705 and parameters: {'n_estimators': 168, 'max_depth': 9, 'learning_rate': 0.023970196543299366, 'subsample': 0.7906752840174348, 'colsample_bytree': 0.8302655361891342, 'gamma': 4.487832238040208, 'min_child_weight': 7}.\n",
      "Elapsed time for trial: 7.19 seconds\n"
     ]
    },
    {
     "name": "stderr",
     "output_type": "stream",
     "text": [
      "[I 2024-12-10 17:43:21,727] Trial 83 finished with value: -0.6706894564256556 and parameters: {'n_estimators': 165, 'max_depth': 9, 'learning_rate': 0.023717295453010486, 'subsample': 0.7878590750827559, 'colsample_bytree': 0.8040584955892688, 'gamma': 4.55972395449834, 'min_child_weight': 7}. Best is trial 25 with value: -0.668902378974928.\n"
     ]
    },
    {
     "name": "stdout",
     "output_type": "stream",
     "text": [
      "Trial 83 finished with value: -0.6707 and parameters: {'n_estimators': 165, 'max_depth': 9, 'learning_rate': 0.023717295453010486, 'subsample': 0.7878590750827559, 'colsample_bytree': 0.8040584955892688, 'gamma': 4.55972395449834, 'min_child_weight': 7}.\n",
      "Elapsed time for trial: 7.04 seconds\n"
     ]
    },
    {
     "name": "stderr",
     "output_type": "stream",
     "text": [
      "[I 2024-12-10 17:43:30,940] Trial 84 finished with value: -0.6732002458991417 and parameters: {'n_estimators': 254, 'max_depth': 8, 'learning_rate': 0.01681840099862355, 'subsample': 0.7600825005819113, 'colsample_bytree': 0.8307458811596283, 'gamma': 4.568427087350448, 'min_child_weight': 7}. Best is trial 25 with value: -0.668902378974928.\n"
     ]
    },
    {
     "name": "stdout",
     "output_type": "stream",
     "text": [
      "Trial 84 finished with value: -0.6732 and parameters: {'n_estimators': 254, 'max_depth': 8, 'learning_rate': 0.01681840099862355, 'subsample': 0.7600825005819113, 'colsample_bytree': 0.8307458811596283, 'gamma': 4.568427087350448, 'min_child_weight': 7}.\n",
      "Elapsed time for trial: 8.74 seconds\n"
     ]
    },
    {
     "name": "stderr",
     "output_type": "stream",
     "text": [
      "[I 2024-12-10 17:43:41,693] Trial 85 finished with value: -0.6724828450782613 and parameters: {'n_estimators': 276, 'max_depth': 9, 'learning_rate': 0.023565599993781737, 'subsample': 0.8247289216016243, 'colsample_bytree': 0.781467852695418, 'gamma': 4.787487523243203, 'min_child_weight': 7}. Best is trial 25 with value: -0.668902378974928.\n"
     ]
    },
    {
     "name": "stdout",
     "output_type": "stream",
     "text": [
      "Trial 85 finished with value: -0.6725 and parameters: {'n_estimators': 276, 'max_depth': 9, 'learning_rate': 0.023565599993781737, 'subsample': 0.8247289216016243, 'colsample_bytree': 0.781467852695418, 'gamma': 4.787487523243203, 'min_child_weight': 7}.\n",
      "Elapsed time for trial: 10.34 seconds\n"
     ]
    },
    {
     "name": "stderr",
     "output_type": "stream",
     "text": [
      "[I 2024-12-10 17:43:51,580] Trial 86 finished with value: -0.670130547234425 and parameters: {'n_estimators': 236, 'max_depth': 9, 'learning_rate': 0.020743772857354896, 'subsample': 0.7850298193480577, 'colsample_bytree': 0.8121133729024388, 'gamma': 4.846327075650609, 'min_child_weight': 7}. Best is trial 25 with value: -0.668902378974928.\n"
     ]
    },
    {
     "name": "stdout",
     "output_type": "stream",
     "text": [
      "Trial 86 finished with value: -0.6701 and parameters: {'n_estimators': 236, 'max_depth': 9, 'learning_rate': 0.020743772857354896, 'subsample': 0.7850298193480577, 'colsample_bytree': 0.8121133729024388, 'gamma': 4.846327075650609, 'min_child_weight': 7}.\n",
      "Elapsed time for trial: 9.49 seconds\n"
     ]
    },
    {
     "name": "stderr",
     "output_type": "stream",
     "text": [
      "[I 2024-12-10 17:44:00,105] Trial 87 finished with value: -0.671578852154581 and parameters: {'n_estimators': 191, 'max_depth': 9, 'learning_rate': 0.021120182986727534, 'subsample': 0.7875424941048075, 'colsample_bytree': 0.8051019854374971, 'gamma': 4.675033230165782, 'min_child_weight': 8}. Best is trial 25 with value: -0.668902378974928.\n"
     ]
    },
    {
     "name": "stdout",
     "output_type": "stream",
     "text": [
      "Trial 87 finished with value: -0.6716 and parameters: {'n_estimators': 191, 'max_depth': 9, 'learning_rate': 0.021120182986727534, 'subsample': 0.7875424941048075, 'colsample_bytree': 0.8051019854374971, 'gamma': 4.675033230165782, 'min_child_weight': 8}.\n",
      "Elapsed time for trial: 8.13 seconds\n"
     ]
    },
    {
     "name": "stderr",
     "output_type": "stream",
     "text": [
      "[I 2024-12-10 17:44:07,129] Trial 88 finished with value: -0.68478760542629 and parameters: {'n_estimators': 169, 'max_depth': 8, 'learning_rate': 0.017989237350677666, 'subsample': 0.7544532107569203, 'colsample_bytree': 0.7947023753641963, 'gamma': 4.838686112751629, 'min_child_weight': 7}. Best is trial 25 with value: -0.668902378974928.\n"
     ]
    },
    {
     "name": "stdout",
     "output_type": "stream",
     "text": [
      "Trial 88 finished with value: -0.6848 and parameters: {'n_estimators': 169, 'max_depth': 8, 'learning_rate': 0.017989237350677666, 'subsample': 0.7544532107569203, 'colsample_bytree': 0.7947023753641963, 'gamma': 4.838686112751629, 'min_child_weight': 7}.\n",
      "Elapsed time for trial: 6.65 seconds\n"
     ]
    },
    {
     "name": "stderr",
     "output_type": "stream",
     "text": [
      "[I 2024-12-10 17:44:16,044] Trial 89 finished with value: -0.6774153705442065 and parameters: {'n_estimators': 237, 'max_depth': 9, 'learning_rate': 0.03792788861501441, 'subsample': 0.7323241596303284, 'colsample_bytree': 0.8449880419778478, 'gamma': 4.639956699668814, 'min_child_weight': 6}. Best is trial 25 with value: -0.668902378974928.\n"
     ]
    },
    {
     "name": "stdout",
     "output_type": "stream",
     "text": [
      "Trial 89 finished with value: -0.6774 and parameters: {'n_estimators': 237, 'max_depth': 9, 'learning_rate': 0.03792788861501441, 'subsample': 0.7323241596303284, 'colsample_bytree': 0.8449880419778478, 'gamma': 4.639956699668814, 'min_child_weight': 6}.\n",
      "Elapsed time for trial: 8.68 seconds\n"
     ]
    },
    {
     "name": "stderr",
     "output_type": "stream",
     "text": [
      "[I 2024-12-10 17:44:24,859] Trial 90 finished with value: -0.6715244613376817 and parameters: {'n_estimators': 180, 'max_depth': 10, 'learning_rate': 0.028912930365531556, 'subsample': 0.7111357063275376, 'colsample_bytree': 0.8274766253259227, 'gamma': 4.496282552692336, 'min_child_weight': 7}. Best is trial 25 with value: -0.668902378974928.\n"
     ]
    },
    {
     "name": "stdout",
     "output_type": "stream",
     "text": [
      "Trial 90 finished with value: -0.6715 and parameters: {'n_estimators': 180, 'max_depth': 10, 'learning_rate': 0.028912930365531556, 'subsample': 0.7111357063275376, 'colsample_bytree': 0.8274766253259227, 'gamma': 4.496282552692336, 'min_child_weight': 7}.\n",
      "Elapsed time for trial: 8.57 seconds\n"
     ]
    },
    {
     "name": "stderr",
     "output_type": "stream",
     "text": [
      "[I 2024-12-10 17:44:33,601] Trial 91 finished with value: -0.6712014191089198 and parameters: {'n_estimators': 206, 'max_depth': 9, 'learning_rate': 0.019392248346092714, 'subsample': 0.7897724803182063, 'colsample_bytree': 0.8108193326240196, 'gamma': 4.878233185028051, 'min_child_weight': 7}. Best is trial 25 with value: -0.668902378974928.\n"
     ]
    },
    {
     "name": "stdout",
     "output_type": "stream",
     "text": [
      "Trial 91 finished with value: -0.6712 and parameters: {'n_estimators': 206, 'max_depth': 9, 'learning_rate': 0.019392248346092714, 'subsample': 0.7897724803182063, 'colsample_bytree': 0.8108193326240196, 'gamma': 4.878233185028051, 'min_child_weight': 7}.\n",
      "Elapsed time for trial: 8.27 seconds\n"
     ]
    },
    {
     "name": "stderr",
     "output_type": "stream",
     "text": [
      "[I 2024-12-10 17:44:43,006] Trial 92 finished with value: -0.6696638955008641 and parameters: {'n_estimators': 218, 'max_depth': 9, 'learning_rate': 0.023417497530513257, 'subsample': 0.782051716491668, 'colsample_bytree': 0.8058080155450289, 'gamma': 4.869673323248242, 'min_child_weight': 7}. Best is trial 25 with value: -0.668902378974928.\n"
     ]
    },
    {
     "name": "stdout",
     "output_type": "stream",
     "text": [
      "Trial 92 finished with value: -0.6697 and parameters: {'n_estimators': 218, 'max_depth': 9, 'learning_rate': 0.023417497530513257, 'subsample': 0.782051716491668, 'colsample_bytree': 0.8058080155450289, 'gamma': 4.869673323248242, 'min_child_weight': 7}.\n",
      "Elapsed time for trial: 9.03 seconds\n"
     ]
    },
    {
     "name": "stderr",
     "output_type": "stream",
     "text": [
      "[I 2024-12-10 17:44:51,622] Trial 93 finished with value: -0.6733057501570124 and parameters: {'n_estimators': 219, 'max_depth': 9, 'learning_rate': 0.02408942505699053, 'subsample': 0.7774588241202374, 'colsample_bytree': 0.7924645970461951, 'gamma': 4.708747853807886, 'min_child_weight': 8}. Best is trial 25 with value: -0.668902378974928.\n"
     ]
    },
    {
     "name": "stdout",
     "output_type": "stream",
     "text": [
      "Trial 93 finished with value: -0.6733 and parameters: {'n_estimators': 219, 'max_depth': 9, 'learning_rate': 0.02408942505699053, 'subsample': 0.7774588241202374, 'colsample_bytree': 0.7924645970461951, 'gamma': 4.708747853807886, 'min_child_weight': 8}.\n",
      "Elapsed time for trial: 8.39 seconds\n"
     ]
    },
    {
     "name": "stderr",
     "output_type": "stream",
     "text": [
      "[I 2024-12-10 17:44:58,668] Trial 94 finished with value: -0.6718266382775255 and parameters: {'n_estimators': 195, 'max_depth': 8, 'learning_rate': 0.021609892377676774, 'subsample': 0.8046012081461258, 'colsample_bytree': 0.7727647876835586, 'gamma': 4.443463344058868, 'min_child_weight': 6}. Best is trial 25 with value: -0.668902378974928.\n"
     ]
    },
    {
     "name": "stdout",
     "output_type": "stream",
     "text": [
      "Trial 94 finished with value: -0.6718 and parameters: {'n_estimators': 195, 'max_depth': 8, 'learning_rate': 0.021609892377676774, 'subsample': 0.8046012081461258, 'colsample_bytree': 0.7727647876835586, 'gamma': 4.443463344058868, 'min_child_weight': 6}.\n",
      "Elapsed time for trial: 6.82 seconds\n"
     ]
    },
    {
     "name": "stderr",
     "output_type": "stream",
     "text": [
      "[I 2024-12-10 17:45:05,833] Trial 95 finished with value: -0.6702795935185168 and parameters: {'n_estimators': 167, 'max_depth': 9, 'learning_rate': 0.028358817260866084, 'subsample': 0.7438832991353436, 'colsample_bytree': 0.7474332606110926, 'gamma': 4.9101641371256335, 'min_child_weight': 7}. Best is trial 25 with value: -0.668902378974928.\n"
     ]
    },
    {
     "name": "stdout",
     "output_type": "stream",
     "text": [
      "Trial 95 finished with value: -0.6703 and parameters: {'n_estimators': 167, 'max_depth': 9, 'learning_rate': 0.028358817260866084, 'subsample': 0.7438832991353436, 'colsample_bytree': 0.7474332606110926, 'gamma': 4.9101641371256335, 'min_child_weight': 7}.\n",
      "Elapsed time for trial: 6.92 seconds\n"
     ]
    },
    {
     "name": "stderr",
     "output_type": "stream",
     "text": [
      "[I 2024-12-10 17:45:16,524] Trial 96 finished with value: -0.6722343031548573 and parameters: {'n_estimators': 214, 'max_depth': 10, 'learning_rate': 0.02839101797433996, 'subsample': 0.7396839986708392, 'colsample_bytree': 0.7400659643460149, 'gamma': 1.230508307767109, 'min_child_weight': 8}. Best is trial 25 with value: -0.668902378974928.\n"
     ]
    },
    {
     "name": "stdout",
     "output_type": "stream",
     "text": [
      "Trial 96 finished with value: -0.6722 and parameters: {'n_estimators': 214, 'max_depth': 10, 'learning_rate': 0.02839101797433996, 'subsample': 0.7396839986708392, 'colsample_bytree': 0.7400659643460149, 'gamma': 1.230508307767109, 'min_child_weight': 8}.\n",
      "Elapsed time for trial: 10.20 seconds\n"
     ]
    },
    {
     "name": "stderr",
     "output_type": "stream",
     "text": [
      "[I 2024-12-10 17:45:23,030] Trial 97 finished with value: -0.6688890322856444 and parameters: {'n_estimators': 149, 'max_depth': 9, 'learning_rate': 0.03311030070704235, 'subsample': 0.7015677473555083, 'colsample_bytree': 0.7589846335120807, 'gamma': 4.915544473747306, 'min_child_weight': 6}. Best is trial 97 with value: -0.6688890322856444.\n"
     ]
    },
    {
     "name": "stdout",
     "output_type": "stream",
     "text": [
      "Trial 97 finished with value: -0.6689 and parameters: {'n_estimators': 149, 'max_depth': 9, 'learning_rate': 0.03311030070704235, 'subsample': 0.7015677473555083, 'colsample_bytree': 0.7589846335120807, 'gamma': 4.915544473747306, 'min_child_weight': 6}.\n",
      "Elapsed time for trial: 6.08 seconds\n"
     ]
    },
    {
     "name": "stderr",
     "output_type": "stream",
     "text": [
      "[I 2024-12-10 17:45:29,230] Trial 98 finished with value: -0.6714355335486497 and parameters: {'n_estimators': 146, 'max_depth': 9, 'learning_rate': 0.0337076053127924, 'subsample': 0.6724548589892246, 'colsample_bytree': 0.7549805314029281, 'gamma': 4.971412622290481, 'min_child_weight': 6}. Best is trial 97 with value: -0.6688890322856444.\n"
     ]
    },
    {
     "name": "stdout",
     "output_type": "stream",
     "text": [
      "Trial 98 finished with value: -0.6714 and parameters: {'n_estimators': 146, 'max_depth': 9, 'learning_rate': 0.0337076053127924, 'subsample': 0.6724548589892246, 'colsample_bytree': 0.7549805314029281, 'gamma': 4.971412622290481, 'min_child_weight': 6}.\n",
      "Elapsed time for trial: 5.81 seconds\n"
     ]
    },
    {
     "name": "stderr",
     "output_type": "stream",
     "text": [
      "[I 2024-12-10 17:45:35,112] Trial 99 finished with value: -0.675306259801219 and parameters: {'n_estimators': 166, 'max_depth': 8, 'learning_rate': 0.04133493842083551, 'subsample': 0.6998530693982162, 'colsample_bytree': 0.69862864620804, 'gamma': 4.918913686262047, 'min_child_weight': 6}. Best is trial 97 with value: -0.6688890322856444.\n"
     ]
    },
    {
     "name": "stdout",
     "output_type": "stream",
     "text": [
      "Trial 99 finished with value: -0.6753 and parameters: {'n_estimators': 166, 'max_depth': 8, 'learning_rate': 0.04133493842083551, 'subsample': 0.6998530693982162, 'colsample_bytree': 0.69862864620804, 'gamma': 4.918913686262047, 'min_child_weight': 6}.\n",
      "Elapsed time for trial: 5.57 seconds\n"
     ]
    },
    {
     "name": "stderr",
     "output_type": "stream",
     "text": [
      "[I 2024-12-10 17:45:41,292] Trial 100 finished with value: -0.674728389710932 and parameters: {'n_estimators': 131, 'max_depth': 10, 'learning_rate': 0.04937065194380337, 'subsample': 0.7209602271567017, 'colsample_bytree': 0.7800105681454167, 'gamma': 4.708843229068756, 'min_child_weight': 6}. Best is trial 97 with value: -0.6688890322856444.\n"
     ]
    },
    {
     "name": "stdout",
     "output_type": "stream",
     "text": [
      "Trial 100 finished with value: -0.6747 and parameters: {'n_estimators': 131, 'max_depth': 10, 'learning_rate': 0.04937065194380337, 'subsample': 0.7209602271567017, 'colsample_bytree': 0.7800105681454167, 'gamma': 4.708843229068756, 'min_child_weight': 6}.\n",
      "Elapsed time for trial: 5.97 seconds\n"
     ]
    },
    {
     "name": "stderr",
     "output_type": "stream",
     "text": [
      "[I 2024-12-10 17:45:48,727] Trial 101 finished with value: -0.6716487852525809 and parameters: {'n_estimators': 178, 'max_depth': 9, 'learning_rate': 0.0231010826467844, 'subsample': 0.7651734881007858, 'colsample_bytree': 0.7475560321670615, 'gamma': 4.5719035423421115, 'min_child_weight': 7}. Best is trial 97 with value: -0.6688890322856444.\n"
     ]
    },
    {
     "name": "stdout",
     "output_type": "stream",
     "text": [
      "Trial 101 finished with value: -0.6716 and parameters: {'n_estimators': 178, 'max_depth': 9, 'learning_rate': 0.0231010826467844, 'subsample': 0.7651734881007858, 'colsample_bytree': 0.7475560321670615, 'gamma': 4.5719035423421115, 'min_child_weight': 7}.\n",
      "Elapsed time for trial: 7.18 seconds\n"
     ]
    },
    {
     "name": "stderr",
     "output_type": "stream",
     "text": [
      "[I 2024-12-10 17:45:57,906] Trial 102 finished with value: -0.6729082900700281 and parameters: {'n_estimators': 235, 'max_depth': 9, 'learning_rate': 0.026613114808933924, 'subsample': 0.8186343386717563, 'colsample_bytree': 0.8521318666180826, 'gamma': 4.526594742030805, 'min_child_weight': 7}. Best is trial 97 with value: -0.6688890322856444.\n"
     ]
    },
    {
     "name": "stdout",
     "output_type": "stream",
     "text": [
      "Trial 102 finished with value: -0.6729 and parameters: {'n_estimators': 235, 'max_depth': 9, 'learning_rate': 0.026613114808933924, 'subsample': 0.8186343386717563, 'colsample_bytree': 0.8521318666180826, 'gamma': 4.526594742030805, 'min_child_weight': 7}.\n",
      "Elapsed time for trial: 8.70 seconds\n"
     ]
    },
    {
     "name": "stderr",
     "output_type": "stream",
     "text": [
      "[I 2024-12-10 17:46:05,768] Trial 103 finished with value: -0.6721438720537463 and parameters: {'n_estimators': 187, 'max_depth': 9, 'learning_rate': 0.02681267346771123, 'subsample': 0.793377859109292, 'colsample_bytree': 0.815506760877294, 'gamma': 4.156199206096357, 'min_child_weight': 7}. Best is trial 97 with value: -0.6688890322856444.\n"
     ]
    },
    {
     "name": "stdout",
     "output_type": "stream",
     "text": [
      "Trial 103 finished with value: -0.6721 and parameters: {'n_estimators': 187, 'max_depth': 9, 'learning_rate': 0.02681267346771123, 'subsample': 0.793377859109292, 'colsample_bytree': 0.815506760877294, 'gamma': 4.156199206096357, 'min_child_weight': 7}.\n",
      "Elapsed time for trial: 7.41 seconds\n"
     ]
    },
    {
     "name": "stderr",
     "output_type": "stream",
     "text": [
      "[I 2024-12-10 17:46:10,835] Trial 104 finished with value: -0.7075196789809733 and parameters: {'n_estimators': 108, 'max_depth': 9, 'learning_rate': 0.02090250879723121, 'subsample': 0.7488363190925502, 'colsample_bytree': 0.718877325267713, 'gamma': 4.685682868103679, 'min_child_weight': 8}. Best is trial 97 with value: -0.6688890322856444.\n"
     ]
    },
    {
     "name": "stdout",
     "output_type": "stream",
     "text": [
      "Trial 104 finished with value: -0.7075 and parameters: {'n_estimators': 108, 'max_depth': 9, 'learning_rate': 0.02090250879723121, 'subsample': 0.7488363190925502, 'colsample_bytree': 0.718877325267713, 'gamma': 4.685682868103679, 'min_child_weight': 8}.\n",
      "Elapsed time for trial: 4.86 seconds\n"
     ]
    },
    {
     "name": "stderr",
     "output_type": "stream",
     "text": [
      "[I 2024-12-10 17:46:18,847] Trial 105 finished with value: -0.6724346683451243 and parameters: {'n_estimators': 199, 'max_depth': 9, 'learning_rate': 0.03281165405156921, 'subsample': 0.8483314560599543, 'colsample_bytree': 0.7631229329348115, 'gamma': 4.42747746667615, 'min_child_weight': 7}. Best is trial 97 with value: -0.6688890322856444.\n"
     ]
    },
    {
     "name": "stdout",
     "output_type": "stream",
     "text": [
      "Trial 105 finished with value: -0.6724 and parameters: {'n_estimators': 199, 'max_depth': 9, 'learning_rate': 0.03281165405156921, 'subsample': 0.8483314560599543, 'colsample_bytree': 0.7631229329348115, 'gamma': 4.42747746667615, 'min_child_weight': 7}.\n",
      "Elapsed time for trial: 7.53 seconds\n"
     ]
    },
    {
     "name": "stderr",
     "output_type": "stream",
     "text": [
      "[I 2024-12-10 17:46:24,550] Trial 106 finished with value: -0.6783035434721634 and parameters: {'n_estimators': 151, 'max_depth': 8, 'learning_rate': 0.028901577112405104, 'subsample': 0.8033203897196205, 'colsample_bytree': 0.6767345422734516, 'gamma': 4.854558772713441, 'min_child_weight': 8}. Best is trial 97 with value: -0.6688890322856444.\n"
     ]
    },
    {
     "name": "stdout",
     "output_type": "stream",
     "text": [
      "Trial 106 finished with value: -0.6783 and parameters: {'n_estimators': 151, 'max_depth': 8, 'learning_rate': 0.028901577112405104, 'subsample': 0.8033203897196205, 'colsample_bytree': 0.6767345422734516, 'gamma': 4.854558772713441, 'min_child_weight': 8}.\n",
      "Elapsed time for trial: 5.41 seconds\n"
     ]
    },
    {
     "name": "stderr",
     "output_type": "stream",
     "text": [
      "[I 2024-12-10 17:46:31,390] Trial 107 finished with value: -0.6720265436472361 and parameters: {'n_estimators': 170, 'max_depth': 9, 'learning_rate': 0.022756137303311694, 'subsample': 0.7382498295541959, 'colsample_bytree': 0.7285263251023747, 'gamma': 4.999407665230366, 'min_child_weight': 7}. Best is trial 97 with value: -0.6688890322856444.\n"
     ]
    },
    {
     "name": "stdout",
     "output_type": "stream",
     "text": [
      "Trial 107 finished with value: -0.6720 and parameters: {'n_estimators': 170, 'max_depth': 9, 'learning_rate': 0.022756137303311694, 'subsample': 0.7382498295541959, 'colsample_bytree': 0.7285263251023747, 'gamma': 4.999407665230366, 'min_child_weight': 7}.\n",
      "Elapsed time for trial: 6.64 seconds\n"
     ]
    },
    {
     "name": "stderr",
     "output_type": "stream",
     "text": [
      "[I 2024-12-10 17:46:36,441] Trial 108 finished with value: -0.735857025677231 and parameters: {'n_estimators': 210, 'max_depth': 5, 'learning_rate': 0.015970194532615185, 'subsample': 0.7815253703341833, 'colsample_bytree': 0.8033847679982502, 'gamma': 4.3819329409155605, 'min_child_weight': 6}. Best is trial 97 with value: -0.6688890322856444.\n"
     ]
    },
    {
     "name": "stdout",
     "output_type": "stream",
     "text": [
      "Trial 108 finished with value: -0.7359 and parameters: {'n_estimators': 210, 'max_depth': 5, 'learning_rate': 0.015970194532615185, 'subsample': 0.7815253703341833, 'colsample_bytree': 0.8033847679982502, 'gamma': 4.3819329409155605, 'min_child_weight': 6}.\n",
      "Elapsed time for trial: 4.85 seconds\n"
     ]
    },
    {
     "name": "stderr",
     "output_type": "stream",
     "text": [
      "[I 2024-12-10 17:46:46,255] Trial 109 finished with value: -0.6782407409569462 and parameters: {'n_estimators': 256, 'max_depth': 10, 'learning_rate': 0.03622021808730515, 'subsample': 0.657013473577921, 'colsample_bytree': 0.8631354724045506, 'gamma': 3.959895745488276, 'min_child_weight': 7}. Best is trial 97 with value: -0.6688890322856444.\n"
     ]
    },
    {
     "name": "stdout",
     "output_type": "stream",
     "text": [
      "Trial 109 finished with value: -0.6782 and parameters: {'n_estimators': 256, 'max_depth': 10, 'learning_rate': 0.03622021808730515, 'subsample': 0.657013473577921, 'colsample_bytree': 0.8631354724045506, 'gamma': 3.959895745488276, 'min_child_weight': 7}.\n",
      "Elapsed time for trial: 9.55 seconds\n"
     ]
    },
    {
     "name": "stderr",
     "output_type": "stream",
     "text": [
      "[I 2024-12-10 17:46:56,491] Trial 110 finished with value: -0.6699750214741079 and parameters: {'n_estimators': 268, 'max_depth': 9, 'learning_rate': 0.01801090387463981, 'subsample': 0.5441805845147085, 'colsample_bytree': 0.8300398836144972, 'gamma': 4.221664986320481, 'min_child_weight': 7}. Best is trial 97 with value: -0.6688890322856444.\n"
     ]
    },
    {
     "name": "stdout",
     "output_type": "stream",
     "text": [
      "Trial 110 finished with value: -0.6700 and parameters: {'n_estimators': 268, 'max_depth': 9, 'learning_rate': 0.01801090387463981, 'subsample': 0.5441805845147085, 'colsample_bytree': 0.8300398836144972, 'gamma': 4.221664986320481, 'min_child_weight': 7}.\n",
      "Elapsed time for trial: 9.98 seconds\n"
     ]
    },
    {
     "name": "stderr",
     "output_type": "stream",
     "text": [
      "[I 2024-12-10 17:47:03,786] Trial 111 finished with value: -0.6796743994004796 and parameters: {'n_estimators': 275, 'max_depth': 9, 'learning_rate': 0.05798546508848895, 'subsample': 0.5133122506906058, 'colsample_bytree': 0.8341971841180366, 'gamma': 4.240791672804022, 'min_child_weight': 7}. Best is trial 97 with value: -0.6688890322856444.\n"
     ]
    },
    {
     "name": "stdout",
     "output_type": "stream",
     "text": [
      "Trial 111 finished with value: -0.6797 and parameters: {'n_estimators': 275, 'max_depth': 9, 'learning_rate': 0.05798546508848895, 'subsample': 0.5133122506906058, 'colsample_bytree': 0.8341971841180366, 'gamma': 4.240791672804022, 'min_child_weight': 7}.\n",
      "Elapsed time for trial: 7.07 seconds\n"
     ]
    },
    {
     "name": "stderr",
     "output_type": "stream",
     "text": [
      "[I 2024-12-10 17:47:14,173] Trial 112 finished with value: -0.6748167799147808 and parameters: {'n_estimators': 286, 'max_depth': 9, 'learning_rate': 0.02462378292286768, 'subsample': 0.5776960339289716, 'colsample_bytree': 0.7871777399203913, 'gamma': 4.571174761334426, 'min_child_weight': 7}. Best is trial 97 with value: -0.6688890322856444.\n"
     ]
    },
    {
     "name": "stdout",
     "output_type": "stream",
     "text": [
      "Trial 112 finished with value: -0.6748 and parameters: {'n_estimators': 286, 'max_depth': 9, 'learning_rate': 0.02462378292286768, 'subsample': 0.5776960339289716, 'colsample_bytree': 0.7871777399203913, 'gamma': 4.571174761334426, 'min_child_weight': 7}.\n",
      "Elapsed time for trial: 9.95 seconds\n"
     ]
    },
    {
     "name": "stderr",
     "output_type": "stream",
     "text": [
      "[I 2024-12-10 17:47:25,245] Trial 113 finished with value: -0.6717145708885193 and parameters: {'n_estimators': 266, 'max_depth': 9, 'learning_rate': 0.01830643347665566, 'subsample': 0.7599886137175476, 'colsample_bytree': 0.8452416631606, 'gamma': 2.1867983440281447, 'min_child_weight': 7}. Best is trial 97 with value: -0.6688890322856444.\n"
     ]
    },
    {
     "name": "stdout",
     "output_type": "stream",
     "text": [
      "Trial 113 finished with value: -0.6717 and parameters: {'n_estimators': 266, 'max_depth': 9, 'learning_rate': 0.01830643347665566, 'subsample': 0.7599886137175476, 'colsample_bytree': 0.8452416631606, 'gamma': 2.1867983440281447, 'min_child_weight': 7}.\n",
      "Elapsed time for trial: 10.66 seconds\n"
     ]
    },
    {
     "name": "stderr",
     "output_type": "stream",
     "text": [
      "[I 2024-12-10 17:47:35,013] Trial 114 finished with value: -0.674815565713568 and parameters: {'n_estimators': 244, 'max_depth': 9, 'learning_rate': 0.014117611529211193, 'subsample': 0.8305880029569446, 'colsample_bytree': 0.8226948428586235, 'gamma': 4.750991071349101, 'min_child_weight': 8}. Best is trial 97 with value: -0.6688890322856444.\n"
     ]
    },
    {
     "name": "stdout",
     "output_type": "stream",
     "text": [
      "Trial 114 finished with value: -0.6748 and parameters: {'n_estimators': 244, 'max_depth': 9, 'learning_rate': 0.014117611529211193, 'subsample': 0.8305880029569446, 'colsample_bytree': 0.8226948428586235, 'gamma': 4.750991071349101, 'min_child_weight': 8}.\n",
      "Elapsed time for trial: 9.51 seconds\n"
     ]
    },
    {
     "name": "stderr",
     "output_type": "stream",
     "text": [
      "[I 2024-12-10 17:47:44,186] Trial 115 finished with value: -0.672128806176439 and parameters: {'n_estimators': 229, 'max_depth': 9, 'learning_rate': 0.020694779203919187, 'subsample': 0.5372777541634, 'colsample_bytree': 0.7733616523922847, 'gamma': 4.317153594848499, 'min_child_weight': 6}. Best is trial 97 with value: -0.6688890322856444.\n"
     ]
    },
    {
     "name": "stdout",
     "output_type": "stream",
     "text": [
      "Trial 115 finished with value: -0.6721 and parameters: {'n_estimators': 229, 'max_depth': 9, 'learning_rate': 0.020694779203919187, 'subsample': 0.5372777541634, 'colsample_bytree': 0.7733616523922847, 'gamma': 4.317153594848499, 'min_child_weight': 6}.\n",
      "Elapsed time for trial: 8.79 seconds\n"
     ]
    },
    {
     "name": "stderr",
     "output_type": "stream",
     "text": [
      "[I 2024-12-10 17:47:51,587] Trial 116 finished with value: -0.6689161156799127 and parameters: {'n_estimators': 176, 'max_depth': 9, 'learning_rate': 0.026182696313658896, 'subsample': 0.6247570752071441, 'colsample_bytree': 0.8084047459843388, 'gamma': 4.874989942562387, 'min_child_weight': 7}. Best is trial 97 with value: -0.6688890322856444.\n"
     ]
    },
    {
     "name": "stdout",
     "output_type": "stream",
     "text": [
      "Trial 116 finished with value: -0.6689 and parameters: {'n_estimators': 176, 'max_depth': 9, 'learning_rate': 0.026182696313658896, 'subsample': 0.6247570752071441, 'colsample_bytree': 0.8084047459843388, 'gamma': 4.874989942562387, 'min_child_weight': 7}.\n",
      "Elapsed time for trial: 7.17 seconds\n"
     ]
    },
    {
     "name": "stderr",
     "output_type": "stream",
     "text": [
      "[I 2024-12-10 17:47:58,950] Trial 117 finished with value: -0.6699216453497044 and parameters: {'n_estimators': 179, 'max_depth': 9, 'learning_rate': 0.025874167389515843, 'subsample': 0.6515967517273196, 'colsample_bytree': 0.8049558423787959, 'gamma': 4.902031160780754, 'min_child_weight': 6}. Best is trial 97 with value: -0.6688890322856444.\n"
     ]
    },
    {
     "name": "stdout",
     "output_type": "stream",
     "text": [
      "Trial 117 finished with value: -0.6699 and parameters: {'n_estimators': 179, 'max_depth': 9, 'learning_rate': 0.025874167389515843, 'subsample': 0.6515967517273196, 'colsample_bytree': 0.8049558423787959, 'gamma': 4.902031160780754, 'min_child_weight': 6}.\n",
      "Elapsed time for trial: 7.10 seconds\n"
     ]
    },
    {
     "name": "stderr",
     "output_type": "stream",
     "text": [
      "[I 2024-12-10 17:48:05,582] Trial 118 finished with value: -0.6888084246314866 and parameters: {'n_estimators': 149, 'max_depth': 9, 'learning_rate': 0.017557788244643335, 'subsample': 0.6211338658816129, 'colsample_bytree': 0.801200418698627, 'gamma': 4.88978985247102, 'min_child_weight': 6}. Best is trial 97 with value: -0.6688890322856444.\n"
     ]
    },
    {
     "name": "stdout",
     "output_type": "stream",
     "text": [
      "Trial 118 finished with value: -0.6888 and parameters: {'n_estimators': 149, 'max_depth': 9, 'learning_rate': 0.017557788244643335, 'subsample': 0.6211338658816129, 'colsample_bytree': 0.801200418698627, 'gamma': 4.88978985247102, 'min_child_weight': 6}.\n",
      "Elapsed time for trial: 6.40 seconds\n"
     ]
    },
    {
     "name": "stderr",
     "output_type": "stream",
     "text": [
      "[I 2024-12-10 17:48:10,462] Trial 119 finished with value: -0.7083027574730154 and parameters: {'n_estimators': 162, 'max_depth': 6, 'learning_rate': 0.022798502264051963, 'subsample': 0.6475399551314789, 'colsample_bytree': 0.8070528966320144, 'gamma': 4.799308554349435, 'min_child_weight': 6}. Best is trial 97 with value: -0.6688890322856444.\n"
     ]
    },
    {
     "name": "stdout",
     "output_type": "stream",
     "text": [
      "Trial 119 finished with value: -0.7083 and parameters: {'n_estimators': 162, 'max_depth': 6, 'learning_rate': 0.022798502264051963, 'subsample': 0.6475399551314789, 'colsample_bytree': 0.8070528966320144, 'gamma': 4.799308554349435, 'min_child_weight': 6}.\n",
      "Elapsed time for trial: 4.60 seconds\n"
     ]
    },
    {
     "name": "stderr",
     "output_type": "stream",
     "text": [
      "[I 2024-12-10 17:48:14,618] Trial 120 finished with value: -0.6930265093189609 and parameters: {'n_estimators': 130, 'max_depth': 7, 'learning_rate': 0.1566109357292632, 'subsample': 0.5931660792064267, 'colsample_bytree': 0.7452983446697146, 'gamma': 4.65670030224656, 'min_child_weight': 6}. Best is trial 97 with value: -0.6688890322856444.\n"
     ]
    },
    {
     "name": "stdout",
     "output_type": "stream",
     "text": [
      "Trial 120 finished with value: -0.6930 and parameters: {'n_estimators': 130, 'max_depth': 7, 'learning_rate': 0.1566109357292632, 'subsample': 0.5931660792064267, 'colsample_bytree': 0.7452983446697146, 'gamma': 4.65670030224656, 'min_child_weight': 6}.\n",
      "Elapsed time for trial: 3.81 seconds\n"
     ]
    },
    {
     "name": "stderr",
     "output_type": "stream",
     "text": [
      "[I 2024-12-10 17:48:21,872] Trial 121 finished with value: -0.6701256924587772 and parameters: {'n_estimators': 175, 'max_depth': 9, 'learning_rate': 0.02566781364965683, 'subsample': 0.6762320840762543, 'colsample_bytree': 0.8210631959985047, 'gamma': 4.898395769721863, 'min_child_weight': 7}. Best is trial 97 with value: -0.6688890322856444.\n"
     ]
    },
    {
     "name": "stdout",
     "output_type": "stream",
     "text": [
      "Trial 121 finished with value: -0.6701 and parameters: {'n_estimators': 175, 'max_depth': 9, 'learning_rate': 0.02566781364965683, 'subsample': 0.6762320840762543, 'colsample_bytree': 0.8210631959985047, 'gamma': 4.898395769721863, 'min_child_weight': 7}.\n",
      "Elapsed time for trial: 6.91 seconds\n"
     ]
    },
    {
     "name": "stderr",
     "output_type": "stream",
     "text": [
      "[I 2024-12-10 17:48:32,446] Trial 122 finished with value: -0.6736092113333081 and parameters: {'n_estimators': 298, 'max_depth': 9, 'learning_rate': 0.026046759846109113, 'subsample': 0.6759760297501259, 'colsample_bytree': 0.816026159438539, 'gamma': 4.9898338919770495, 'min_child_weight': 7}. Best is trial 97 with value: -0.6688890322856444.\n"
     ]
    },
    {
     "name": "stdout",
     "output_type": "stream",
     "text": [
      "Trial 122 finished with value: -0.6736 and parameters: {'n_estimators': 298, 'max_depth': 9, 'learning_rate': 0.026046759846109113, 'subsample': 0.6759760297501259, 'colsample_bytree': 0.816026159438539, 'gamma': 4.9898338919770495, 'min_child_weight': 7}.\n",
      "Elapsed time for trial: 10.09 seconds\n"
     ]
    },
    {
     "name": "stderr",
     "output_type": "stream",
     "text": [
      "[I 2024-12-10 17:48:40,017] Trial 123 finished with value: -0.6729479930502199 and parameters: {'n_estimators': 183, 'max_depth': 9, 'learning_rate': 0.0202216644537571, 'subsample': 0.6314457338807, 'colsample_bytree': 0.7934943223669942, 'gamma': 4.87498570178002, 'min_child_weight': 8}. Best is trial 97 with value: -0.6688890322856444.\n"
     ]
    },
    {
     "name": "stdout",
     "output_type": "stream",
     "text": [
      "Trial 123 finished with value: -0.6729 and parameters: {'n_estimators': 183, 'max_depth': 9, 'learning_rate': 0.0202216644537571, 'subsample': 0.6314457338807, 'colsample_bytree': 0.7934943223669942, 'gamma': 4.87498570178002, 'min_child_weight': 8}.\n",
      "Elapsed time for trial: 7.35 seconds\n"
     ]
    },
    {
     "name": "stderr",
     "output_type": "stream",
     "text": [
      "[I 2024-12-10 17:48:47,333] Trial 124 finished with value: -0.6709972389868207 and parameters: {'n_estimators': 174, 'max_depth': 9, 'learning_rate': 0.03091429497712444, 'subsample': 0.6887226583382533, 'colsample_bytree': 0.8360997589026646, 'gamma': 4.808177716649076, 'min_child_weight': 7}. Best is trial 97 with value: -0.6688890322856444.\n"
     ]
    },
    {
     "name": "stdout",
     "output_type": "stream",
     "text": [
      "Trial 124 finished with value: -0.6710 and parameters: {'n_estimators': 174, 'max_depth': 9, 'learning_rate': 0.03091429497712444, 'subsample': 0.6887226583382533, 'colsample_bytree': 0.8360997589026646, 'gamma': 4.808177716649076, 'min_child_weight': 7}.\n",
      "Elapsed time for trial: 6.98 seconds\n"
     ]
    },
    {
     "name": "stderr",
     "output_type": "stream",
     "text": [
      "[I 2024-12-10 17:48:56,224] Trial 125 finished with value: -0.6692624448984826 and parameters: {'n_estimators': 192, 'max_depth': 10, 'learning_rate': 0.02396508476082908, 'subsample': 0.5411132070557717, 'colsample_bytree': 0.8288892977768509, 'gamma': 4.638562047099838, 'min_child_weight': 7}. Best is trial 97 with value: -0.6688890322856444.\n"
     ]
    },
    {
     "name": "stdout",
     "output_type": "stream",
     "text": [
      "Trial 125 finished with value: -0.6693 and parameters: {'n_estimators': 192, 'max_depth': 10, 'learning_rate': 0.02396508476082908, 'subsample': 0.5411132070557717, 'colsample_bytree': 0.8288892977768509, 'gamma': 4.638562047099838, 'min_child_weight': 7}.\n",
      "Elapsed time for trial: 8.48 seconds\n"
     ]
    },
    {
     "name": "stderr",
     "output_type": "stream",
     "text": [
      "[I 2024-12-10 17:49:07,711] Trial 126 finished with value: -0.6787278693093389 and parameters: {'n_estimators': 329, 'max_depth': 10, 'learning_rate': 0.029528957438194114, 'subsample': 0.552302155426798, 'colsample_bytree': 0.8240799903094604, 'gamma': 4.694071182076474, 'min_child_weight': 7}. Best is trial 97 with value: -0.6688890322856444.\n"
     ]
    },
    {
     "name": "stdout",
     "output_type": "stream",
     "text": [
      "Trial 126 finished with value: -0.6787 and parameters: {'n_estimators': 329, 'max_depth': 10, 'learning_rate': 0.029528957438194114, 'subsample': 0.552302155426798, 'colsample_bytree': 0.8240799903094604, 'gamma': 4.694071182076474, 'min_child_weight': 7}.\n",
      "Elapsed time for trial: 11.23 seconds\n"
     ]
    },
    {
     "name": "stderr",
     "output_type": "stream",
     "text": [
      "[I 2024-12-10 17:49:16,502] Trial 127 finished with value: -0.6739588360796954 and parameters: {'n_estimators': 192, 'max_depth': 10, 'learning_rate': 0.02201870119792314, 'subsample': 0.535280126451096, 'colsample_bytree': 0.7563490206293634, 'gamma': 4.9351401779157715, 'min_child_weight': 5}. Best is trial 97 with value: -0.6688890322856444.\n"
     ]
    },
    {
     "name": "stdout",
     "output_type": "stream",
     "text": [
      "Trial 127 finished with value: -0.6740 and parameters: {'n_estimators': 192, 'max_depth': 10, 'learning_rate': 0.02201870119792314, 'subsample': 0.535280126451096, 'colsample_bytree': 0.7563490206293634, 'gamma': 4.9351401779157715, 'min_child_weight': 5}.\n",
      "Elapsed time for trial: 8.56 seconds\n"
     ]
    },
    {
     "name": "stderr",
     "output_type": "stream",
     "text": [
      "[I 2024-12-10 17:49:24,074] Trial 128 finished with value: -0.6702422158799309 and parameters: {'n_estimators': 225, 'max_depth': 8, 'learning_rate': 0.026600746618670807, 'subsample': 0.6485907990557417, 'colsample_bytree': 0.8651712408036656, 'gamma': 4.639531985245949, 'min_child_weight': 7}. Best is trial 97 with value: -0.6688890322856444.\n"
     ]
    },
    {
     "name": "stdout",
     "output_type": "stream",
     "text": [
      "Trial 128 finished with value: -0.6702 and parameters: {'n_estimators': 225, 'max_depth': 8, 'learning_rate': 0.026600746618670807, 'subsample': 0.6485907990557417, 'colsample_bytree': 0.8651712408036656, 'gamma': 4.639531985245949, 'min_child_weight': 7}.\n",
      "Elapsed time for trial: 7.33 seconds\n"
     ]
    },
    {
     "name": "stderr",
     "output_type": "stream",
     "text": [
      "[I 2024-12-10 17:49:33,070] Trial 129 finished with value: -0.6743117829899695 and parameters: {'n_estimators': 187, 'max_depth': 10, 'learning_rate': 0.026562948406656524, 'subsample': 0.654546220965956, 'colsample_bytree': 0.8680684597223358, 'gamma': 4.45303825472123, 'min_child_weight': 7}. Best is trial 97 with value: -0.6688890322856444.\n"
     ]
    },
    {
     "name": "stdout",
     "output_type": "stream",
     "text": [
      "Trial 129 finished with value: -0.6743 and parameters: {'n_estimators': 187, 'max_depth': 10, 'learning_rate': 0.026562948406656524, 'subsample': 0.654546220965956, 'colsample_bytree': 0.8680684597223358, 'gamma': 4.45303825472123, 'min_child_weight': 7}.\n",
      "Elapsed time for trial: 8.58 seconds\n"
     ]
    },
    {
     "name": "stderr",
     "output_type": "stream",
     "text": [
      "[I 2024-12-10 17:49:43,451] Trial 130 finished with value: -0.6724419185336904 and parameters: {'n_estimators': 225, 'max_depth': 10, 'learning_rate': 0.025061404384993227, 'subsample': 0.6447196437128582, 'colsample_bytree': 0.8382165147354195, 'gamma': 4.601169106603908, 'min_child_weight': 7}. Best is trial 97 with value: -0.6688890322856444.\n"
     ]
    },
    {
     "name": "stdout",
     "output_type": "stream",
     "text": [
      "Trial 130 finished with value: -0.6724 and parameters: {'n_estimators': 225, 'max_depth': 10, 'learning_rate': 0.025061404384993227, 'subsample': 0.6447196437128582, 'colsample_bytree': 0.8382165147354195, 'gamma': 4.601169106603908, 'min_child_weight': 7}.\n",
      "Elapsed time for trial: 9.88 seconds\n"
     ]
    },
    {
     "name": "stderr",
     "output_type": "stream",
     "text": [
      "[I 2024-12-10 17:49:50,996] Trial 131 finished with value: -0.6731978778228584 and parameters: {'n_estimators': 217, 'max_depth': 8, 'learning_rate': 0.027185368547312024, 'subsample': 0.7005566997874365, 'colsample_bytree': 0.8507220197198976, 'gamma': 4.7502946481904775, 'min_child_weight': 8}. Best is trial 97 with value: -0.6688890322856444.\n"
     ]
    },
    {
     "name": "stdout",
     "output_type": "stream",
     "text": [
      "Trial 131 finished with value: -0.6732 and parameters: {'n_estimators': 217, 'max_depth': 8, 'learning_rate': 0.027185368547312024, 'subsample': 0.7005566997874365, 'colsample_bytree': 0.8507220197198976, 'gamma': 4.7502946481904775, 'min_child_weight': 8}.\n",
      "Elapsed time for trial: 7.19 seconds\n"
     ]
    },
    {
     "name": "stderr",
     "output_type": "stream",
     "text": [
      "[I 2024-12-10 17:49:54,772] Trial 132 finished with value: -0.71104529121637 and parameters: {'n_estimators': 208, 'max_depth': 7, 'learning_rate': 0.28906083600116195, 'subsample': 0.6799929929272366, 'colsample_bytree': 0.8292899237778069, 'gamma': 4.917457815477046, 'min_child_weight': 6}. Best is trial 97 with value: -0.6688890322856444.\n"
     ]
    },
    {
     "name": "stdout",
     "output_type": "stream",
     "text": [
      "Trial 132 finished with value: -0.7110 and parameters: {'n_estimators': 208, 'max_depth': 7, 'learning_rate': 0.28906083600116195, 'subsample': 0.6799929929272366, 'colsample_bytree': 0.8292899237778069, 'gamma': 4.917457815477046, 'min_child_weight': 6}.\n",
      "Elapsed time for trial: 3.56 seconds\n"
     ]
    },
    {
     "name": "stderr",
     "output_type": "stream",
     "text": [
      "[I 2024-12-10 17:50:02,730] Trial 133 finished with value: -0.6715499127295542 and parameters: {'n_estimators': 238, 'max_depth': 8, 'learning_rate': 0.024058437315696013, 'subsample': 0.6171930522234405, 'colsample_bytree': 0.8130777809608277, 'gamma': 4.807595409684959, 'min_child_weight': 7}. Best is trial 97 with value: -0.6688890322856444.\n"
     ]
    },
    {
     "name": "stdout",
     "output_type": "stream",
     "text": [
      "Trial 133 finished with value: -0.6715 and parameters: {'n_estimators': 238, 'max_depth': 8, 'learning_rate': 0.024058437315696013, 'subsample': 0.6171930522234405, 'colsample_bytree': 0.8130777809608277, 'gamma': 4.807595409684959, 'min_child_weight': 7}.\n",
      "Elapsed time for trial: 7.52 seconds\n"
     ]
    },
    {
     "name": "stderr",
     "output_type": "stream",
     "text": [
      "[I 2024-12-10 17:50:10,088] Trial 134 finished with value: -0.6750352207276183 and parameters: {'n_estimators': 179, 'max_depth': 9, 'learning_rate': 0.019588720673297737, 'subsample': 0.6380740798707017, 'colsample_bytree': 0.7304404156709421, 'gamma': 4.646564210952128, 'min_child_weight': 7}. Best is trial 97 with value: -0.6688890322856444.\n"
     ]
    },
    {
     "name": "stdout",
     "output_type": "stream",
     "text": [
      "Trial 134 finished with value: -0.6750 and parameters: {'n_estimators': 179, 'max_depth': 9, 'learning_rate': 0.019588720673297737, 'subsample': 0.6380740798707017, 'colsample_bytree': 0.7304404156709421, 'gamma': 4.646564210952128, 'min_child_weight': 7}.\n",
      "Elapsed time for trial: 6.96 seconds\n"
     ]
    },
    {
     "name": "stderr",
     "output_type": "stream",
     "text": [
      "[I 2024-12-10 17:50:19,002] Trial 135 finished with value: -0.6765168249533813 and parameters: {'n_estimators': 252, 'max_depth': 9, 'learning_rate': 0.032035451281266496, 'subsample': 0.592034129566944, 'colsample_bytree': 0.8433621077160298, 'gamma': 4.857343034760881, 'min_child_weight': 7}. Best is trial 97 with value: -0.6688890322856444.\n"
     ]
    },
    {
     "name": "stdout",
     "output_type": "stream",
     "text": [
      "Trial 135 finished with value: -0.6765 and parameters: {'n_estimators': 252, 'max_depth': 9, 'learning_rate': 0.032035451281266496, 'subsample': 0.592034129566944, 'colsample_bytree': 0.8433621077160298, 'gamma': 4.857343034760881, 'min_child_weight': 7}.\n",
      "Elapsed time for trial: 8.66 seconds\n"
     ]
    },
    {
     "name": "stderr",
     "output_type": "stream",
     "text": [
      "[I 2024-12-10 17:50:24,147] Trial 136 finished with value: -0.6940401111781641 and parameters: {'n_estimators': 155, 'max_depth': 7, 'learning_rate': 0.021257668780967603, 'subsample': 0.5623863777334083, 'colsample_bytree': 0.8621266978748718, 'gamma': 4.477346037347097, 'min_child_weight': 6}. Best is trial 97 with value: -0.6688890322856444.\n"
     ]
    },
    {
     "name": "stdout",
     "output_type": "stream",
     "text": [
      "Trial 136 finished with value: -0.6940 and parameters: {'n_estimators': 155, 'max_depth': 7, 'learning_rate': 0.021257668780967603, 'subsample': 0.5623863777334083, 'colsample_bytree': 0.8621266978748718, 'gamma': 4.477346037347097, 'min_child_weight': 6}.\n",
      "Elapsed time for trial: 4.94 seconds\n"
     ]
    },
    {
     "name": "stderr",
     "output_type": "stream",
     "text": [
      "[I 2024-12-10 17:50:31,775] Trial 137 finished with value: -0.669979066777539 and parameters: {'n_estimators': 197, 'max_depth': 9, 'learning_rate': 0.030171385293829033, 'subsample': 0.7079325847416212, 'colsample_bytree': 0.7832762935654813, 'gamma': 4.99901836231285, 'min_child_weight': 8}. Best is trial 97 with value: -0.6688890322856444.\n"
     ]
    },
    {
     "name": "stdout",
     "output_type": "stream",
     "text": [
      "Trial 137 finished with value: -0.6700 and parameters: {'n_estimators': 197, 'max_depth': 9, 'learning_rate': 0.030171385293829033, 'subsample': 0.7079325847416212, 'colsample_bytree': 0.7832762935654813, 'gamma': 4.99901836231285, 'min_child_weight': 8}.\n",
      "Elapsed time for trial: 7.38 seconds\n"
     ]
    },
    {
     "name": "stderr",
     "output_type": "stream",
     "text": [
      "[I 2024-12-10 17:50:39,456] Trial 138 finished with value: -0.671841244140936 and parameters: {'n_estimators': 199, 'max_depth': 9, 'learning_rate': 0.03009960997089164, 'subsample': 0.7108135284749869, 'colsample_bytree': 0.7888716204001633, 'gamma': 4.982435027746419, 'min_child_weight': 8}. Best is trial 97 with value: -0.6688890322856444.\n"
     ]
    },
    {
     "name": "stdout",
     "output_type": "stream",
     "text": [
      "Trial 138 finished with value: -0.6718 and parameters: {'n_estimators': 199, 'max_depth': 9, 'learning_rate': 0.03009960997089164, 'subsample': 0.7108135284749869, 'colsample_bytree': 0.7888716204001633, 'gamma': 4.982435027746419, 'min_child_weight': 8}.\n",
      "Elapsed time for trial: 7.42 seconds\n"
     ]
    },
    {
     "name": "stderr",
     "output_type": "stream",
     "text": [
      "[I 2024-12-10 17:50:45,605] Trial 139 finished with value: -0.6684222724244261 and parameters: {'n_estimators': 138, 'max_depth': 9, 'learning_rate': 0.033839993441237226, 'subsample': 0.6696513334683234, 'colsample_bytree': 0.7694447972812484, 'gamma': 4.738359320693023, 'min_child_weight': 7}. Best is trial 139 with value: -0.6684222724244261.\n"
     ]
    },
    {
     "name": "stdout",
     "output_type": "stream",
     "text": [
      "Trial 139 finished with value: -0.6684 and parameters: {'n_estimators': 138, 'max_depth': 9, 'learning_rate': 0.033839993441237226, 'subsample': 0.6696513334683234, 'colsample_bytree': 0.7694447972812484, 'gamma': 4.738359320693023, 'min_child_weight': 7}.\n",
      "Elapsed time for trial: 5.80 seconds\n"
     ]
    },
    {
     "name": "stderr",
     "output_type": "stream",
     "text": [
      "[I 2024-12-10 17:50:51,782] Trial 140 finished with value: -0.6700729191921213 and parameters: {'n_estimators': 142, 'max_depth': 9, 'learning_rate': 0.03510767703680041, 'subsample': 0.6983418537611098, 'colsample_bytree': 0.7734713742949162, 'gamma': 4.716782131723999, 'min_child_weight': 7}. Best is trial 139 with value: -0.6684222724244261.\n"
     ]
    },
    {
     "name": "stdout",
     "output_type": "stream",
     "text": [
      "Trial 140 finished with value: -0.6701 and parameters: {'n_estimators': 142, 'max_depth': 9, 'learning_rate': 0.03510767703680041, 'subsample': 0.6983418537611098, 'colsample_bytree': 0.7734713742949162, 'gamma': 4.716782131723999, 'min_child_weight': 7}.\n",
      "Elapsed time for trial: 5.79 seconds\n"
     ]
    },
    {
     "name": "stderr",
     "output_type": "stream",
     "text": [
      "[I 2024-12-10 17:50:57,811] Trial 141 finished with value: -0.6701853180778744 and parameters: {'n_estimators': 133, 'max_depth': 9, 'learning_rate': 0.03763052419805543, 'subsample': 0.6991009599893075, 'colsample_bytree': 0.7758088870083154, 'gamma': 4.729143416055425, 'min_child_weight': 7}. Best is trial 139 with value: -0.6684222724244261.\n"
     ]
    },
    {
     "name": "stdout",
     "output_type": "stream",
     "text": [
      "Trial 141 finished with value: -0.6702 and parameters: {'n_estimators': 133, 'max_depth': 9, 'learning_rate': 0.03763052419805543, 'subsample': 0.6991009599893075, 'colsample_bytree': 0.7758088870083154, 'gamma': 4.729143416055425, 'min_child_weight': 7}.\n",
      "Elapsed time for trial: 5.67 seconds\n"
     ]
    },
    {
     "name": "stderr",
     "output_type": "stream",
     "text": [
      "[I 2024-12-10 17:51:03,163] Trial 142 finished with value: -0.6709224340664326 and parameters: {'n_estimators': 118, 'max_depth': 9, 'learning_rate': 0.03632824198004715, 'subsample': 0.6620720455119976, 'colsample_bytree': 0.7790874767701301, 'gamma': 4.734356848044279, 'min_child_weight': 7}. Best is trial 139 with value: -0.6684222724244261.\n"
     ]
    },
    {
     "name": "stdout",
     "output_type": "stream",
     "text": [
      "Trial 142 finished with value: -0.6709 and parameters: {'n_estimators': 118, 'max_depth': 9, 'learning_rate': 0.03632824198004715, 'subsample': 0.6620720455119976, 'colsample_bytree': 0.7790874767701301, 'gamma': 4.734356848044279, 'min_child_weight': 7}.\n",
      "Elapsed time for trial: 4.96 seconds\n"
     ]
    },
    {
     "name": "stderr",
     "output_type": "stream",
     "text": [
      "[I 2024-12-10 17:51:08,863] Trial 143 finished with value: -0.6721150456033195 and parameters: {'n_estimators': 130, 'max_depth': 9, 'learning_rate': 0.034940425865527945, 'subsample': 0.6944781362673792, 'colsample_bytree': 0.7748864251722883, 'gamma': 4.606327846062953, 'min_child_weight': 7}. Best is trial 139 with value: -0.6684222724244261.\n"
     ]
    },
    {
     "name": "stdout",
     "output_type": "stream",
     "text": [
      "Trial 143 finished with value: -0.6721 and parameters: {'n_estimators': 130, 'max_depth': 9, 'learning_rate': 0.034940425865527945, 'subsample': 0.6944781362673792, 'colsample_bytree': 0.7748864251722883, 'gamma': 4.606327846062953, 'min_child_weight': 7}.\n",
      "Elapsed time for trial: 5.31 seconds\n"
     ]
    },
    {
     "name": "stderr",
     "output_type": "stream",
     "text": [
      "[I 2024-12-10 17:51:14,580] Trial 144 finished with value: -0.6723187613718304 and parameters: {'n_estimators': 138, 'max_depth': 9, 'learning_rate': 0.0414589589378604, 'subsample': 0.6707641578062513, 'colsample_bytree': 0.7608918992390444, 'gamma': 4.79774350301851, 'min_child_weight': 7}. Best is trial 139 with value: -0.6684222724244261.\n"
     ]
    },
    {
     "name": "stdout",
     "output_type": "stream",
     "text": [
      "Trial 144 finished with value: -0.6723 and parameters: {'n_estimators': 138, 'max_depth': 9, 'learning_rate': 0.0414589589378604, 'subsample': 0.6707641578062513, 'colsample_bytree': 0.7608918992390444, 'gamma': 4.79774350301851, 'min_child_weight': 7}.\n",
      "Elapsed time for trial: 5.38 seconds\n"
     ]
    },
    {
     "name": "stderr",
     "output_type": "stream",
     "text": [
      "[I 2024-12-10 17:51:17,399] Trial 145 finished with value: -0.7671245178032996 and parameters: {'n_estimators': 94, 'max_depth': 4, 'learning_rate': 0.03921230691876679, 'subsample': 0.7011008558764623, 'colsample_bytree': 0.7946933741680667, 'gamma': 4.651792945437103, 'min_child_weight': 6}. Best is trial 139 with value: -0.6684222724244261.\n"
     ]
    },
    {
     "name": "stdout",
     "output_type": "stream",
     "text": [
      "Trial 145 finished with value: -0.7671 and parameters: {'n_estimators': 94, 'max_depth': 4, 'learning_rate': 0.03921230691876679, 'subsample': 0.7011008558764623, 'colsample_bytree': 0.7946933741680667, 'gamma': 4.651792945437103, 'min_child_weight': 6}.\n",
      "Elapsed time for trial: 2.56 seconds\n"
     ]
    },
    {
     "name": "stderr",
     "output_type": "stream",
     "text": [
      "[I 2024-12-10 17:51:21,275] Trial 146 finished with value: -0.7522520672547374 and parameters: {'n_estimators': 143, 'max_depth': 3, 'learning_rate': 0.046645707248886614, 'subsample': 0.715003215762907, 'colsample_bytree': 0.7710405980368817, 'gamma': 4.996912907359351, 'min_child_weight': 8}. Best is trial 139 with value: -0.6684222724244261.\n"
     ]
    },
    {
     "name": "stdout",
     "output_type": "stream",
     "text": [
      "Trial 146 finished with value: -0.7523 and parameters: {'n_estimators': 143, 'max_depth': 3, 'learning_rate': 0.046645707248886614, 'subsample': 0.715003215762907, 'colsample_bytree': 0.7710405980368817, 'gamma': 4.996912907359351, 'min_child_weight': 8}.\n",
      "Elapsed time for trial: 3.57 seconds\n"
     ]
    },
    {
     "name": "stderr",
     "output_type": "stream",
     "text": [
      "[I 2024-12-10 17:51:28,791] Trial 147 finished with value: -0.6685185850370773 and parameters: {'n_estimators': 153, 'max_depth': 9, 'learning_rate': 0.032616712614273034, 'subsample': 0.7237344863817088, 'colsample_bytree': 0.7844648499478084, 'gamma': 0.24211599105348602, 'min_child_weight': 7}. Best is trial 139 with value: -0.6684222724244261.\n"
     ]
    },
    {
     "name": "stdout",
     "output_type": "stream",
     "text": [
      "Trial 147 finished with value: -0.6685 and parameters: {'n_estimators': 153, 'max_depth': 9, 'learning_rate': 0.032616712614273034, 'subsample': 0.7237344863817088, 'colsample_bytree': 0.7844648499478084, 'gamma': 0.24211599105348602, 'min_child_weight': 7}.\n",
      "Elapsed time for trial: 7.04 seconds\n"
     ]
    },
    {
     "name": "stderr",
     "output_type": "stream",
     "text": [
      "[I 2024-12-10 17:51:35,283] Trial 148 finished with value: -0.6702568356995282 and parameters: {'n_estimators': 151, 'max_depth': 9, 'learning_rate': 0.03318094270573199, 'subsample': 0.6851451977561562, 'colsample_bytree': 0.7850468664514074, 'gamma': 0.22600403767308802, 'min_child_weight': 7}. Best is trial 139 with value: -0.6684222724244261.\n"
     ]
    },
    {
     "name": "stdout",
     "output_type": "stream",
     "text": [
      "Trial 148 finished with value: -0.6703 and parameters: {'n_estimators': 151, 'max_depth': 9, 'learning_rate': 0.03318094270573199, 'subsample': 0.6851451977561562, 'colsample_bytree': 0.7850468664514074, 'gamma': 0.22600403767308802, 'min_child_weight': 7}.\n",
      "Elapsed time for trial: 6.29 seconds\n"
     ]
    },
    {
     "name": "stderr",
     "output_type": "stream",
     "text": [
      "[I 2024-12-10 17:51:40,725] Trial 149 finished with value: -0.6696789672870151 and parameters: {'n_estimators': 114, 'max_depth': 9, 'learning_rate': 0.03665935434089713, 'subsample': 0.7123700044772542, 'colsample_bytree': 0.769320077581644, 'gamma': 1.5946978767281064, 'min_child_weight': 1}. Best is trial 139 with value: -0.6684222724244261.\n"
     ]
    },
    {
     "name": "stdout",
     "output_type": "stream",
     "text": [
      "Trial 149 finished with value: -0.6697 and parameters: {'n_estimators': 114, 'max_depth': 9, 'learning_rate': 0.03665935434089713, 'subsample': 0.7123700044772542, 'colsample_bytree': 0.769320077581644, 'gamma': 1.5946978767281064, 'min_child_weight': 1}.\n",
      "Elapsed time for trial: 5.21 seconds\n"
     ]
    },
    {
     "name": "stderr",
     "output_type": "stream",
     "text": [
      "[I 2024-12-10 17:51:46,540] Trial 150 finished with value: -0.6699416888382604 and parameters: {'n_estimators': 118, 'max_depth': 9, 'learning_rate': 0.03330138497748693, 'subsample': 0.7259918151016416, 'colsample_bytree': 0.798701352816309, 'gamma': 1.2587274109247435, 'min_child_weight': 2}. Best is trial 139 with value: -0.6684222724244261.\n"
     ]
    },
    {
     "name": "stdout",
     "output_type": "stream",
     "text": [
      "Trial 150 finished with value: -0.6699 and parameters: {'n_estimators': 118, 'max_depth': 9, 'learning_rate': 0.03330138497748693, 'subsample': 0.7259918151016416, 'colsample_bytree': 0.798701352816309, 'gamma': 1.2587274109247435, 'min_child_weight': 2}.\n",
      "Elapsed time for trial: 5.47 seconds\n"
     ]
    },
    {
     "name": "stderr",
     "output_type": "stream",
     "text": [
      "[I 2024-12-10 17:51:51,894] Trial 151 finished with value: -0.6740400307848798 and parameters: {'n_estimators': 103, 'max_depth': 9, 'learning_rate': 0.032421560839248305, 'subsample': 0.725564516906251, 'colsample_bytree': 0.7668775343022027, 'gamma': 0.9071590584809696, 'min_child_weight': 1}. Best is trial 139 with value: -0.6684222724244261.\n"
     ]
    },
    {
     "name": "stdout",
     "output_type": "stream",
     "text": [
      "Trial 151 finished with value: -0.6740 and parameters: {'n_estimators': 103, 'max_depth': 9, 'learning_rate': 0.032421560839248305, 'subsample': 0.725564516906251, 'colsample_bytree': 0.7668775343022027, 'gamma': 0.9071590584809696, 'min_child_weight': 1}.\n",
      "Elapsed time for trial: 5.15 seconds\n"
     ]
    },
    {
     "name": "stderr",
     "output_type": "stream",
     "text": [
      "[I 2024-12-10 17:51:57,593] Trial 152 finished with value: -0.667677695229749 and parameters: {'n_estimators': 115, 'max_depth': 9, 'learning_rate': 0.042545774852438954, 'subsample': 0.7093533290138793, 'colsample_bytree': 0.798778698552726, 'gamma': 0.982374354813939, 'min_child_weight': 5}. Best is trial 152 with value: -0.667677695229749.\n"
     ]
    },
    {
     "name": "stdout",
     "output_type": "stream",
     "text": [
      "Trial 152 finished with value: -0.6677 and parameters: {'n_estimators': 115, 'max_depth': 9, 'learning_rate': 0.042545774852438954, 'subsample': 0.7093533290138793, 'colsample_bytree': 0.798778698552726, 'gamma': 0.982374354813939, 'min_child_weight': 5}.\n",
      "Elapsed time for trial: 5.27 seconds\n"
     ]
    },
    {
     "name": "stderr",
     "output_type": "stream",
     "text": [
      "[I 2024-12-10 17:52:03,376] Trial 153 finished with value: -0.668690269763085 and parameters: {'n_estimators': 120, 'max_depth': 9, 'learning_rate': 0.034938053037223846, 'subsample': 0.7066853639135571, 'colsample_bytree': 0.7978129771414826, 'gamma': 1.0081163993115068, 'min_child_weight': 1}. Best is trial 152 with value: -0.667677695229749.\n"
     ]
    },
    {
     "name": "stdout",
     "output_type": "stream",
     "text": [
      "Trial 153 finished with value: -0.6687 and parameters: {'n_estimators': 120, 'max_depth': 9, 'learning_rate': 0.034938053037223846, 'subsample': 0.7066853639135571, 'colsample_bytree': 0.7978129771414826, 'gamma': 1.0081163993115068, 'min_child_weight': 1}.\n",
      "Elapsed time for trial: 5.58 seconds\n"
     ]
    },
    {
     "name": "stderr",
     "output_type": "stream",
     "text": [
      "[I 2024-12-10 17:52:09,300] Trial 154 finished with value: -0.667855819455673 and parameters: {'n_estimators': 119, 'max_depth': 9, 'learning_rate': 0.043162512650469595, 'subsample': 0.7173626808751654, 'colsample_bytree': 0.7975785370630605, 'gamma': 1.0192016321692778, 'min_child_weight': 1}. Best is trial 152 with value: -0.667677695229749.\n"
     ]
    },
    {
     "name": "stdout",
     "output_type": "stream",
     "text": [
      "Trial 154 finished with value: -0.6679 and parameters: {'n_estimators': 119, 'max_depth': 9, 'learning_rate': 0.043162512650469595, 'subsample': 0.7173626808751654, 'colsample_bytree': 0.7975785370630605, 'gamma': 1.0192016321692778, 'min_child_weight': 1}.\n",
      "Elapsed time for trial: 5.51 seconds\n"
     ]
    },
    {
     "name": "stderr",
     "output_type": "stream",
     "text": [
      "[I 2024-12-10 17:52:14,831] Trial 155 finished with value: -0.668078321791115 and parameters: {'n_estimators': 111, 'max_depth': 9, 'learning_rate': 0.041307274666239915, 'subsample': 0.7261742147735244, 'colsample_bytree': 0.797398221091222, 'gamma': 1.1320142078953737, 'min_child_weight': 1}. Best is trial 152 with value: -0.667677695229749.\n"
     ]
    },
    {
     "name": "stdout",
     "output_type": "stream",
     "text": [
      "Trial 155 finished with value: -0.6681 and parameters: {'n_estimators': 111, 'max_depth': 9, 'learning_rate': 0.041307274666239915, 'subsample': 0.7261742147735244, 'colsample_bytree': 0.797398221091222, 'gamma': 1.1320142078953737, 'min_child_weight': 1}.\n",
      "Elapsed time for trial: 5.17 seconds\n"
     ]
    },
    {
     "name": "stderr",
     "output_type": "stream",
     "text": [
      "[I 2024-12-10 17:52:19,515] Trial 156 finished with value: -0.671393655847096 and parameters: {'n_estimators': 85, 'max_depth': 9, 'learning_rate': 0.04291747958291222, 'subsample': 0.7285950989329896, 'colsample_bytree': 0.8002303750147173, 'gamma': 1.1624888455297495, 'min_child_weight': 1}. Best is trial 152 with value: -0.667677695229749.\n"
     ]
    },
    {
     "name": "stdout",
     "output_type": "stream",
     "text": [
      "Trial 156 finished with value: -0.6714 and parameters: {'n_estimators': 85, 'max_depth': 9, 'learning_rate': 0.04291747958291222, 'subsample': 0.7285950989329896, 'colsample_bytree': 0.8002303750147173, 'gamma': 1.1624888455297495, 'min_child_weight': 1}.\n",
      "Elapsed time for trial: 4.33 seconds\n"
     ]
    },
    {
     "name": "stderr",
     "output_type": "stream",
     "text": [
      "[I 2024-12-10 17:52:25,210] Trial 157 finished with value: -0.671380217675525 and parameters: {'n_estimators': 115, 'max_depth': 9, 'learning_rate': 0.04595807642619606, 'subsample': 0.7315716176424385, 'colsample_bytree': 0.7875551743396672, 'gamma': 1.0482226515041682, 'min_child_weight': 1}. Best is trial 152 with value: -0.667677695229749.\n"
     ]
    },
    {
     "name": "stdout",
     "output_type": "stream",
     "text": [
      "Trial 157 finished with value: -0.6714 and parameters: {'n_estimators': 115, 'max_depth': 9, 'learning_rate': 0.04595807642619606, 'subsample': 0.7315716176424385, 'colsample_bytree': 0.7875551743396672, 'gamma': 1.0482226515041682, 'min_child_weight': 1}.\n",
      "Elapsed time for trial: 5.28 seconds\n"
     ]
    },
    {
     "name": "stderr",
     "output_type": "stream",
     "text": [
      "[I 2024-12-10 17:52:30,741] Trial 158 finished with value: -0.6634079722826679 and parameters: {'n_estimators': 111, 'max_depth': 9, 'learning_rate': 0.0377327465507813, 'subsample': 0.7113692785668871, 'colsample_bytree': 0.8110918886927729, 'gamma': 1.4750773858086286, 'min_child_weight': 2}. Best is trial 158 with value: -0.6634079722826679.\n"
     ]
    },
    {
     "name": "stdout",
     "output_type": "stream",
     "text": [
      "Trial 158 finished with value: -0.6634 and parameters: {'n_estimators': 111, 'max_depth': 9, 'learning_rate': 0.0377327465507813, 'subsample': 0.7113692785668871, 'colsample_bytree': 0.8110918886927729, 'gamma': 1.4750773858086286, 'min_child_weight': 2}.\n",
      "Elapsed time for trial: 5.18 seconds\n"
     ]
    },
    {
     "name": "stderr",
     "output_type": "stream",
     "text": [
      "[I 2024-12-10 17:52:36,988] Trial 159 finished with value: -0.6706717546581359 and parameters: {'n_estimators': 112, 'max_depth': 10, 'learning_rate': 0.03978582728237561, 'subsample': 0.7132461928201094, 'colsample_bytree': 0.7972511316038448, 'gamma': 1.5410490466737554, 'min_child_weight': 2}. Best is trial 158 with value: -0.6634079722826679.\n"
     ]
    },
    {
     "name": "stdout",
     "output_type": "stream",
     "text": [
      "Trial 159 finished with value: -0.6707 and parameters: {'n_estimators': 112, 'max_depth': 10, 'learning_rate': 0.03978582728237561, 'subsample': 0.7132461928201094, 'colsample_bytree': 0.7972511316038448, 'gamma': 1.5410490466737554, 'min_child_weight': 2}.\n",
      "Elapsed time for trial: 6.03 seconds\n"
     ]
    },
    {
     "name": "stderr",
     "output_type": "stream",
     "text": [
      "[I 2024-12-10 17:52:41,784] Trial 160 finished with value: -0.6715073341879318 and parameters: {'n_estimators': 98, 'max_depth': 9, 'learning_rate': 0.05637895055046124, 'subsample': 0.7186428096070502, 'colsample_bytree': 0.8085259614087271, 'gamma': 1.4076766204090745, 'min_child_weight': 2}. Best is trial 158 with value: -0.6634079722826679.\n"
     ]
    },
    {
     "name": "stdout",
     "output_type": "stream",
     "text": [
      "Trial 160 finished with value: -0.6715 and parameters: {'n_estimators': 98, 'max_depth': 9, 'learning_rate': 0.05637895055046124, 'subsample': 0.7186428096070502, 'colsample_bytree': 0.8085259614087271, 'gamma': 1.4076766204090745, 'min_child_weight': 2}.\n",
      "Elapsed time for trial: 4.44 seconds\n"
     ]
    },
    {
     "name": "stderr",
     "output_type": "stream",
     "text": [
      "[I 2024-12-10 17:52:47,289] Trial 161 finished with value: -0.6711756379760286 and parameters: {'n_estimators': 122, 'max_depth': 9, 'learning_rate': 0.04431778358727104, 'subsample': 0.7112152491426896, 'colsample_bytree': 0.7852232063004905, 'gamma': 0.8232145798232984, 'min_child_weight': 1}. Best is trial 158 with value: -0.6634079722826679.\n"
     ]
    },
    {
     "name": "stdout",
     "output_type": "stream",
     "text": [
      "Trial 161 finished with value: -0.6712 and parameters: {'n_estimators': 122, 'max_depth': 9, 'learning_rate': 0.04431778358727104, 'subsample': 0.7112152491426896, 'colsample_bytree': 0.7852232063004905, 'gamma': 0.8232145798232984, 'min_child_weight': 1}.\n",
      "Elapsed time for trial: 5.31 seconds\n"
     ]
    },
    {
     "name": "stderr",
     "output_type": "stream",
     "text": [
      "[I 2024-12-10 17:52:52,822] Trial 162 finished with value: -0.6716113851851481 and parameters: {'n_estimators': 104, 'max_depth': 9, 'learning_rate': 0.03772660401979459, 'subsample': 0.7362736638912702, 'colsample_bytree': 0.7985026861354104, 'gamma': 1.2897442526602632, 'min_child_weight': 1}. Best is trial 158 with value: -0.6634079722826679.\n"
     ]
    },
    {
     "name": "stdout",
     "output_type": "stream",
     "text": [
      "Trial 162 finished with value: -0.6716 and parameters: {'n_estimators': 104, 'max_depth': 9, 'learning_rate': 0.03772660401979459, 'subsample': 0.7362736638912702, 'colsample_bytree': 0.7985026861354104, 'gamma': 1.2897442526602632, 'min_child_weight': 1}.\n",
      "Elapsed time for trial: 5.10 seconds\n"
     ]
    },
    {
     "name": "stderr",
     "output_type": "stream",
     "text": [
      "[I 2024-12-10 17:52:58,530] Trial 163 finished with value: -0.6694367966070429 and parameters: {'n_estimators': 114, 'max_depth': 9, 'learning_rate': 0.03972349903486363, 'subsample': 0.7059432330126909, 'colsample_bytree': 0.8145238167668785, 'gamma': 0.6523488533284013, 'min_child_weight': 2}. Best is trial 158 with value: -0.6634079722826679.\n"
     ]
    },
    {
     "name": "stdout",
     "output_type": "stream",
     "text": [
      "Trial 163 finished with value: -0.6694 and parameters: {'n_estimators': 114, 'max_depth': 9, 'learning_rate': 0.03972349903486363, 'subsample': 0.7059432330126909, 'colsample_bytree': 0.8145238167668785, 'gamma': 0.6523488533284013, 'min_child_weight': 2}.\n",
      "Elapsed time for trial: 5.36 seconds\n"
     ]
    },
    {
     "name": "stderr",
     "output_type": "stream",
     "text": [
      "[I 2024-12-10 17:53:03,205] Trial 164 finished with value: -0.6687560237519081 and parameters: {'n_estimators': 91, 'max_depth': 9, 'learning_rate': 0.047997392379362416, 'subsample': 0.724356948191894, 'colsample_bytree': 0.8180230700474241, 'gamma': 0.46521803167246073, 'min_child_weight': 2}. Best is trial 158 with value: -0.6634079722826679.\n"
     ]
    },
    {
     "name": "stdout",
     "output_type": "stream",
     "text": [
      "Trial 164 finished with value: -0.6688 and parameters: {'n_estimators': 91, 'max_depth': 9, 'learning_rate': 0.047997392379362416, 'subsample': 0.724356948191894, 'colsample_bytree': 0.8180230700474241, 'gamma': 0.46521803167246073, 'min_child_weight': 2}.\n",
      "Elapsed time for trial: 4.50 seconds\n"
     ]
    },
    {
     "name": "stderr",
     "output_type": "stream",
     "text": [
      "[I 2024-12-10 17:53:07,425] Trial 165 finished with value: -0.6719421239082437 and parameters: {'n_estimators': 73, 'max_depth': 9, 'learning_rate': 0.04801748697601913, 'subsample': 0.7244836136167015, 'colsample_bytree': 0.8107098821421699, 'gamma': 0.5323183400817799, 'min_child_weight': 2}. Best is trial 158 with value: -0.6634079722826679.\n"
     ]
    },
    {
     "name": "stdout",
     "output_type": "stream",
     "text": [
      "Trial 165 finished with value: -0.6719 and parameters: {'n_estimators': 73, 'max_depth': 9, 'learning_rate': 0.04801748697601913, 'subsample': 0.7244836136167015, 'colsample_bytree': 0.8107098821421699, 'gamma': 0.5323183400817799, 'min_child_weight': 2}.\n",
      "Elapsed time for trial: 4.00 seconds\n"
     ]
    },
    {
     "name": "stderr",
     "output_type": "stream",
     "text": [
      "[I 2024-12-10 17:53:10,841] Trial 166 finished with value: -0.7152291707338475 and parameters: {'n_estimators': 50, 'max_depth': 9, 'learning_rate': 0.041306425569366416, 'subsample': 0.6861199447323862, 'colsample_bytree': 0.8202878666246979, 'gamma': 0.3787896149718687, 'min_child_weight': 2}. Best is trial 158 with value: -0.6634079722826679.\n"
     ]
    },
    {
     "name": "stdout",
     "output_type": "stream",
     "text": [
      "Trial 166 finished with value: -0.7152 and parameters: {'n_estimators': 50, 'max_depth': 9, 'learning_rate': 0.041306425569366416, 'subsample': 0.6861199447323862, 'colsample_bytree': 0.8202878666246979, 'gamma': 0.3787896149718687, 'min_child_weight': 2}.\n",
      "Elapsed time for trial: 3.20 seconds\n"
     ]
    },
    {
     "name": "stderr",
     "output_type": "stream",
     "text": [
      "[I 2024-12-10 17:53:15,713] Trial 167 finished with value: -0.6661568256868361 and parameters: {'n_estimators': 90, 'max_depth': 9, 'learning_rate': 0.053494362933590896, 'subsample': 0.7540700453832879, 'colsample_bytree': 0.7958338468304834, 'gamma': 1.0204394594075676, 'min_child_weight': 3}. Best is trial 158 with value: -0.6634079722826679.\n"
     ]
    },
    {
     "name": "stdout",
     "output_type": "stream",
     "text": [
      "Trial 167 finished with value: -0.6662 and parameters: {'n_estimators': 90, 'max_depth': 9, 'learning_rate': 0.053494362933590896, 'subsample': 0.7540700453832879, 'colsample_bytree': 0.7958338468304834, 'gamma': 1.0204394594075676, 'min_child_weight': 3}.\n",
      "Elapsed time for trial: 4.47 seconds\n"
     ]
    },
    {
     "name": "stderr",
     "output_type": "stream",
     "text": [
      "[I 2024-12-10 17:53:20,302] Trial 168 finished with value: -0.6710513992897094 and parameters: {'n_estimators': 88, 'max_depth': 9, 'learning_rate': 0.05265268626610061, 'subsample': 0.7075841870935243, 'colsample_bytree': 0.7628670489533502, 'gamma': 0.6868099391794712, 'min_child_weight': 3}. Best is trial 158 with value: -0.6634079722826679.\n"
     ]
    },
    {
     "name": "stdout",
     "output_type": "stream",
     "text": [
      "Trial 168 finished with value: -0.6711 and parameters: {'n_estimators': 88, 'max_depth': 9, 'learning_rate': 0.05265268626610061, 'subsample': 0.7075841870935243, 'colsample_bytree': 0.7628670489533502, 'gamma': 0.6868099391794712, 'min_child_weight': 3}.\n",
      "Elapsed time for trial: 4.31 seconds\n"
     ]
    },
    {
     "name": "stderr",
     "output_type": "stream",
     "text": [
      "[I 2024-12-10 17:53:24,571] Trial 169 finished with value: -0.6681003186542438 and parameters: {'n_estimators': 79, 'max_depth': 9, 'learning_rate': 0.0594880484775467, 'subsample': 0.7492500616926141, 'colsample_bytree': 0.8083043763223242, 'gamma': 1.0877591773797417, 'min_child_weight': 1}. Best is trial 158 with value: -0.6634079722826679.\n"
     ]
    },
    {
     "name": "stdout",
     "output_type": "stream",
     "text": [
      "Trial 169 finished with value: -0.6681 and parameters: {'n_estimators': 79, 'max_depth': 9, 'learning_rate': 0.0594880484775467, 'subsample': 0.7492500616926141, 'colsample_bytree': 0.8083043763223242, 'gamma': 1.0877591773797417, 'min_child_weight': 1}.\n",
      "Elapsed time for trial: 4.08 seconds\n"
     ]
    },
    {
     "name": "stderr",
     "output_type": "stream",
     "text": [
      "[I 2024-12-10 17:53:28,973] Trial 170 finished with value: -0.6715087021301636 and parameters: {'n_estimators': 76, 'max_depth': 9, 'learning_rate': 0.07468454076303697, 'subsample': 0.7562612752545049, 'colsample_bytree': 0.8157849061604769, 'gamma': 1.051585481764497, 'min_child_weight': 3}. Best is trial 158 with value: -0.6634079722826679.\n"
     ]
    },
    {
     "name": "stdout",
     "output_type": "stream",
     "text": [
      "Trial 170 finished with value: -0.6715 and parameters: {'n_estimators': 76, 'max_depth': 9, 'learning_rate': 0.07468454076303697, 'subsample': 0.7562612752545049, 'colsample_bytree': 0.8157849061604769, 'gamma': 1.051585481764497, 'min_child_weight': 3}.\n",
      "Elapsed time for trial: 4.04 seconds\n"
     ]
    },
    {
     "name": "stderr",
     "output_type": "stream",
     "text": [
      "[I 2024-12-10 17:53:32,991] Trial 171 finished with value: -0.6753057527661734 and parameters: {'n_estimators': 60, 'max_depth': 9, 'learning_rate': 0.05180063927832272, 'subsample': 0.7458142021752223, 'colsample_bytree': 0.79165639082477, 'gamma': 0.9084195991275252, 'min_child_weight': 1}. Best is trial 158 with value: -0.6634079722826679.\n"
     ]
    },
    {
     "name": "stdout",
     "output_type": "stream",
     "text": [
      "Trial 171 finished with value: -0.6753 and parameters: {'n_estimators': 60, 'max_depth': 9, 'learning_rate': 0.05180063927832272, 'subsample': 0.7458142021752223, 'colsample_bytree': 0.79165639082477, 'gamma': 0.9084195991275252, 'min_child_weight': 1}.\n",
      "Elapsed time for trial: 3.72 seconds\n"
     ]
    },
    {
     "name": "stderr",
     "output_type": "stream",
     "text": [
      "[I 2024-12-10 17:53:37,854] Trial 172 finished with value: -0.6727076069997071 and parameters: {'n_estimators': 100, 'max_depth': 9, 'learning_rate': 0.06862071736961245, 'subsample': 0.739700063238115, 'colsample_bytree': 0.8015171360140179, 'gamma': 1.0622792492747473, 'min_child_weight': 1}. Best is trial 158 with value: -0.6634079722826679.\n"
     ]
    },
    {
     "name": "stdout",
     "output_type": "stream",
     "text": [
      "Trial 172 finished with value: -0.6727 and parameters: {'n_estimators': 100, 'max_depth': 9, 'learning_rate': 0.06862071736961245, 'subsample': 0.739700063238115, 'colsample_bytree': 0.8015171360140179, 'gamma': 1.0622792492747473, 'min_child_weight': 1}.\n",
      "Elapsed time for trial: 4.64 seconds\n"
     ]
    },
    {
     "name": "stderr",
     "output_type": "stream",
     "text": [
      "[I 2024-12-10 17:53:43,220] Trial 173 finished with value: -0.6699510615142423 and parameters: {'n_estimators': 110, 'max_depth': 9, 'learning_rate': 0.05875046801316422, 'subsample': 0.7215756526653336, 'colsample_bytree': 0.8119493552507614, 'gamma': 0.710375164416425, 'min_child_weight': 1}. Best is trial 158 with value: -0.6634079722826679.\n"
     ]
    },
    {
     "name": "stdout",
     "output_type": "stream",
     "text": [
      "Trial 173 finished with value: -0.6700 and parameters: {'n_estimators': 110, 'max_depth': 9, 'learning_rate': 0.05875046801316422, 'subsample': 0.7215756526653336, 'colsample_bytree': 0.8119493552507614, 'gamma': 0.710375164416425, 'min_child_weight': 1}.\n",
      "Elapsed time for trial: 5.03 seconds\n"
     ]
    },
    {
     "name": "stderr",
     "output_type": "stream",
     "text": [
      "[I 2024-12-10 17:53:48,244] Trial 174 finished with value: -0.6675671727939663 and parameters: {'n_estimators': 97, 'max_depth': 9, 'learning_rate': 0.0434172035553855, 'subsample': 0.7651794984451901, 'colsample_bytree': 0.7882567152915616, 'gamma': 1.411230132475367, 'min_child_weight': 2}. Best is trial 158 with value: -0.6634079722826679.\n"
     ]
    },
    {
     "name": "stdout",
     "output_type": "stream",
     "text": [
      "Trial 174 finished with value: -0.6676 and parameters: {'n_estimators': 97, 'max_depth': 9, 'learning_rate': 0.0434172035553855, 'subsample': 0.7651794984451901, 'colsample_bytree': 0.7882567152915616, 'gamma': 1.411230132475367, 'min_child_weight': 2}.\n",
      "Elapsed time for trial: 4.72 seconds\n"
     ]
    },
    {
     "name": "stderr",
     "output_type": "stream",
     "text": [
      "[I 2024-12-10 17:53:53,019] Trial 175 finished with value: -0.6699304504652779 and parameters: {'n_estimators': 89, 'max_depth': 9, 'learning_rate': 0.0616590248249108, 'subsample': 0.7671649604381789, 'colsample_bytree': 0.7827366519931235, 'gamma': 1.435913772680844, 'min_child_weight': 2}. Best is trial 158 with value: -0.6634079722826679.\n"
     ]
    },
    {
     "name": "stdout",
     "output_type": "stream",
     "text": [
      "Trial 175 finished with value: -0.6699 and parameters: {'n_estimators': 89, 'max_depth': 9, 'learning_rate': 0.0616590248249108, 'subsample': 0.7671649604381789, 'colsample_bytree': 0.7827366519931235, 'gamma': 1.435913772680844, 'min_child_weight': 2}.\n",
      "Elapsed time for trial: 4.35 seconds\n"
     ]
    },
    {
     "name": "stderr",
     "output_type": "stream",
     "text": [
      "[I 2024-12-10 17:53:57,862] Trial 176 finished with value: -0.6774447580088677 and parameters: {'n_estimators': 81, 'max_depth': 9, 'learning_rate': 0.04828249103876649, 'subsample': 0.7333722535174351, 'colsample_bytree': 0.7582285415190855, 'gamma': 0.16679118601296286, 'min_child_weight': 1}. Best is trial 158 with value: -0.6634079722826679.\n"
     ]
    },
    {
     "name": "stdout",
     "output_type": "stream",
     "text": [
      "Trial 176 finished with value: -0.6774 and parameters: {'n_estimators': 81, 'max_depth': 9, 'learning_rate': 0.04828249103876649, 'subsample': 0.7333722535174351, 'colsample_bytree': 0.7582285415190855, 'gamma': 0.16679118601296286, 'min_child_weight': 1}.\n",
      "Elapsed time for trial: 4.62 seconds\n"
     ]
    },
    {
     "name": "stderr",
     "output_type": "stream",
     "text": [
      "[I 2024-12-10 17:54:02,957] Trial 177 finished with value: -0.6677645660747243 and parameters: {'n_estimators': 96, 'max_depth': 9, 'learning_rate': 0.04404333836129275, 'subsample': 0.7522262231033837, 'colsample_bytree': 0.792457476353914, 'gamma': 1.7190502993327714, 'min_child_weight': 2}. Best is trial 158 with value: -0.6634079722826679.\n"
     ]
    },
    {
     "name": "stdout",
     "output_type": "stream",
     "text": [
      "Trial 177 finished with value: -0.6678 and parameters: {'n_estimators': 96, 'max_depth': 9, 'learning_rate': 0.04404333836129275, 'subsample': 0.7522262231033837, 'colsample_bytree': 0.792457476353914, 'gamma': 1.7190502993327714, 'min_child_weight': 2}.\n",
      "Elapsed time for trial: 4.82 seconds\n"
     ]
    },
    {
     "name": "stderr",
     "output_type": "stream",
     "text": [
      "[I 2024-12-10 17:54:09,147] Trial 178 finished with value: -0.668897658164171 and parameters: {'n_estimators': 97, 'max_depth': 10, 'learning_rate': 0.041939571493247056, 'subsample': 0.7520560822054497, 'colsample_bytree': 0.8252275631712208, 'gamma': 1.1344499395863679, 'min_child_weight': 2}. Best is trial 158 with value: -0.6634079722826679.\n"
     ]
    },
    {
     "name": "stdout",
     "output_type": "stream",
     "text": [
      "Trial 178 finished with value: -0.6689 and parameters: {'n_estimators': 97, 'max_depth': 10, 'learning_rate': 0.041939571493247056, 'subsample': 0.7520560822054497, 'colsample_bytree': 0.8252275631712208, 'gamma': 1.1344499395863679, 'min_child_weight': 2}.\n",
      "Elapsed time for trial: 5.73 seconds\n"
     ]
    },
    {
     "name": "stderr",
     "output_type": "stream",
     "text": [
      "[I 2024-12-10 17:54:13,717] Trial 179 finished with value: -0.6773885913220485 and parameters: {'n_estimators': 64, 'max_depth': 10, 'learning_rate': 0.04303254671097855, 'subsample': 0.7485421637287922, 'colsample_bytree': 0.8207779941902629, 'gamma': 1.7369016106361792, 'min_child_weight': 2}. Best is trial 158 with value: -0.6634079722826679.\n"
     ]
    },
    {
     "name": "stdout",
     "output_type": "stream",
     "text": [
      "Trial 179 finished with value: -0.6774 and parameters: {'n_estimators': 64, 'max_depth': 10, 'learning_rate': 0.04303254671097855, 'subsample': 0.7485421637287922, 'colsample_bytree': 0.8207779941902629, 'gamma': 1.7369016106361792, 'min_child_weight': 2}.\n",
      "Elapsed time for trial: 4.34 seconds\n"
     ]
    },
    {
     "name": "stderr",
     "output_type": "stream",
     "text": [
      "[I 2024-12-10 17:54:20,216] Trial 180 finished with value: -0.6702081263842202 and parameters: {'n_estimators': 94, 'max_depth': 10, 'learning_rate': 0.05269291617779798, 'subsample': 0.7558884943331642, 'colsample_bytree': 0.7936045371021848, 'gamma': 1.1665870552002413, 'min_child_weight': 3}. Best is trial 158 with value: -0.6634079722826679.\n"
     ]
    },
    {
     "name": "stdout",
     "output_type": "stream",
     "text": [
      "Trial 180 finished with value: -0.6702 and parameters: {'n_estimators': 94, 'max_depth': 10, 'learning_rate': 0.05269291617779798, 'subsample': 0.7558884943331642, 'colsample_bytree': 0.7936045371021848, 'gamma': 1.1665870552002413, 'min_child_weight': 3}.\n",
      "Elapsed time for trial: 6.05 seconds\n"
     ]
    },
    {
     "name": "stderr",
     "output_type": "stream",
     "text": [
      "[I 2024-12-10 17:54:26,721] Trial 181 finished with value: -0.6702094577033383 and parameters: {'n_estimators': 106, 'max_depth': 10, 'learning_rate': 0.04322104311012397, 'subsample': 0.7697762149425043, 'colsample_bytree': 0.8247878778030643, 'gamma': 1.3913436164178892, 'min_child_weight': 2}. Best is trial 158 with value: -0.6634079722826679.\n"
     ]
    },
    {
     "name": "stdout",
     "output_type": "stream",
     "text": [
      "Trial 181 finished with value: -0.6702 and parameters: {'n_estimators': 106, 'max_depth': 10, 'learning_rate': 0.04322104311012397, 'subsample': 0.7697762149425043, 'colsample_bytree': 0.8247878778030643, 'gamma': 1.3913436164178892, 'min_child_weight': 2}.\n",
      "Elapsed time for trial: 6.04 seconds\n"
     ]
    },
    {
     "name": "stderr",
     "output_type": "stream",
     "text": [
      "[I 2024-12-10 17:54:31,126] Trial 182 finished with value: -0.7052383943491826 and parameters: {'n_estimators': 80, 'max_depth': 9, 'learning_rate': 0.03946803527303639, 'subsample': 0.7499505936477928, 'colsample_bytree': 0.5302610838265758, 'gamma': 0.921457035468938, 'min_child_weight': 2}. Best is trial 158 with value: -0.6634079722826679.\n"
     ]
    },
    {
     "name": "stdout",
     "output_type": "stream",
     "text": [
      "Trial 182 finished with value: -0.7052 and parameters: {'n_estimators': 80, 'max_depth': 9, 'learning_rate': 0.03946803527303639, 'subsample': 0.7499505936477928, 'colsample_bytree': 0.5302610838265758, 'gamma': 0.921457035468938, 'min_child_weight': 2}.\n",
      "Elapsed time for trial: 4.22 seconds\n"
     ]
    },
    {
     "name": "stderr",
     "output_type": "stream",
     "text": [
      "[I 2024-12-10 17:54:36,921] Trial 183 finished with value: -0.6722854952009567 and parameters: {'n_estimators': 95, 'max_depth': 10, 'learning_rate': 0.0483823905003186, 'subsample': 0.7712020308609955, 'colsample_bytree': 0.8070179726566219, 'gamma': 1.9403602256778791, 'min_child_weight': 3}. Best is trial 158 with value: -0.6634079722826679.\n"
     ]
    },
    {
     "name": "stdout",
     "output_type": "stream",
     "text": [
      "Trial 183 finished with value: -0.6723 and parameters: {'n_estimators': 95, 'max_depth': 10, 'learning_rate': 0.0483823905003186, 'subsample': 0.7712020308609955, 'colsample_bytree': 0.8070179726566219, 'gamma': 1.9403602256778791, 'min_child_weight': 3}.\n",
      "Elapsed time for trial: 5.56 seconds\n"
     ]
    },
    {
     "name": "stderr",
     "output_type": "stream",
     "text": [
      "[I 2024-12-10 17:54:42,313] Trial 184 finished with value: -0.6687613931663715 and parameters: {'n_estimators': 106, 'max_depth': 9, 'learning_rate': 0.04622575950254949, 'subsample': 0.7382221739454982, 'colsample_bytree': 0.788918708097835, 'gamma': 0.780327229295255, 'min_child_weight': 2}. Best is trial 158 with value: -0.6634079722826679.\n"
     ]
    },
    {
     "name": "stdout",
     "output_type": "stream",
     "text": [
      "Trial 184 finished with value: -0.6688 and parameters: {'n_estimators': 106, 'max_depth': 9, 'learning_rate': 0.04622575950254949, 'subsample': 0.7382221739454982, 'colsample_bytree': 0.788918708097835, 'gamma': 0.780327229295255, 'min_child_weight': 2}.\n",
      "Elapsed time for trial: 5.07 seconds\n"
     ]
    },
    {
     "name": "stderr",
     "output_type": "stream",
     "text": [
      "[I 2024-12-10 17:54:48,337] Trial 185 finished with value: -0.6686473044557244 and parameters: {'n_estimators': 126, 'max_depth': 9, 'learning_rate': 0.04621181851527664, 'subsample': 0.7431430636812962, 'colsample_bytree': 0.7897698419635861, 'gamma': 0.6008692737550614, 'min_child_weight': 2}. Best is trial 158 with value: -0.6634079722826679.\n"
     ]
    },
    {
     "name": "stdout",
     "output_type": "stream",
     "text": [
      "Trial 185 finished with value: -0.6686 and parameters: {'n_estimators': 126, 'max_depth': 9, 'learning_rate': 0.04621181851527664, 'subsample': 0.7431430636812962, 'colsample_bytree': 0.7897698419635861, 'gamma': 0.6008692737550614, 'min_child_weight': 2}.\n",
      "Elapsed time for trial: 5.66 seconds\n"
     ]
    },
    {
     "name": "stderr",
     "output_type": "stream",
     "text": [
      "[I 2024-12-10 17:54:54,536] Trial 186 finished with value: -0.6710600862363415 and parameters: {'n_estimators': 125, 'max_depth': 9, 'learning_rate': 0.045313599412593296, 'subsample': 0.7427211608284846, 'colsample_bytree': 0.7867191155449451, 'gamma': 0.9911073446279733, 'min_child_weight': 4}. Best is trial 158 with value: -0.6634079722826679.\n"
     ]
    },
    {
     "name": "stdout",
     "output_type": "stream",
     "text": [
      "Trial 186 finished with value: -0.6711 and parameters: {'n_estimators': 125, 'max_depth': 9, 'learning_rate': 0.045313599412593296, 'subsample': 0.7427211608284846, 'colsample_bytree': 0.7867191155449451, 'gamma': 0.9911073446279733, 'min_child_weight': 4}.\n",
      "Elapsed time for trial: 5.79 seconds\n"
     ]
    },
    {
     "name": "stderr",
     "output_type": "stream",
     "text": [
      "[I 2024-12-10 17:55:00,898] Trial 187 finished with value: -0.6701158369238919 and parameters: {'n_estimators': 101, 'max_depth': 10, 'learning_rate': 0.05345514735609375, 'subsample': 0.7577894077551249, 'colsample_bytree': 0.7772069406506714, 'gamma': 0.7872318391507176, 'min_child_weight': 2}. Best is trial 158 with value: -0.6634079722826679.\n"
     ]
    },
    {
     "name": "stdout",
     "output_type": "stream",
     "text": [
      "Trial 187 finished with value: -0.6701 and parameters: {'n_estimators': 101, 'max_depth': 10, 'learning_rate': 0.05345514735609375, 'subsample': 0.7577894077551249, 'colsample_bytree': 0.7772069406506714, 'gamma': 0.7872318391507176, 'min_child_weight': 2}.\n",
      "Elapsed time for trial: 5.96 seconds\n"
     ]
    },
    {
     "name": "stderr",
     "output_type": "stream",
     "text": [
      "[I 2024-12-10 17:55:05,948] Trial 188 finished with value: -0.6680915933645108 and parameters: {'n_estimators': 90, 'max_depth': 9, 'learning_rate': 0.048861735954026174, 'subsample': 0.7243126697186965, 'colsample_bytree': 0.7939461773301175, 'gamma': 0.51170072431665, 'min_child_weight': 2}. Best is trial 158 with value: -0.6634079722826679.\n"
     ]
    },
    {
     "name": "stdout",
     "output_type": "stream",
     "text": [
      "Trial 188 finished with value: -0.6681 and parameters: {'n_estimators': 90, 'max_depth': 9, 'learning_rate': 0.048861735954026174, 'subsample': 0.7243126697186965, 'colsample_bytree': 0.7939461773301175, 'gamma': 0.51170072431665, 'min_child_weight': 2}.\n",
      "Elapsed time for trial: 4.80 seconds\n"
     ]
    },
    {
     "name": "stderr",
     "output_type": "stream",
     "text": [
      "[I 2024-12-10 17:55:11,070] Trial 189 finished with value: -0.6691801108937707 and parameters: {'n_estimators': 87, 'max_depth': 9, 'learning_rate': 0.048935087288031046, 'subsample': 0.733394044830559, 'colsample_bytree': 0.7937958860251094, 'gamma': 0.5014236182112197, 'min_child_weight': 2}. Best is trial 158 with value: -0.6634079722826679.\n"
     ]
    },
    {
     "name": "stdout",
     "output_type": "stream",
     "text": [
      "Trial 189 finished with value: -0.6692 and parameters: {'n_estimators': 87, 'max_depth': 9, 'learning_rate': 0.048935087288031046, 'subsample': 0.733394044830559, 'colsample_bytree': 0.7937958860251094, 'gamma': 0.5014236182112197, 'min_child_weight': 2}.\n",
      "Elapsed time for trial: 4.69 seconds\n"
     ]
    },
    {
     "name": "stderr",
     "output_type": "stream",
     "text": [
      "[I 2024-12-10 17:55:16,853] Trial 190 finished with value: -0.6735332249073543 and parameters: {'n_estimators': 126, 'max_depth': 9, 'learning_rate': 0.06305786466480648, 'subsample': 0.7207844869047393, 'colsample_bytree': 0.7828187783727923, 'gamma': 0.5868226815387007, 'min_child_weight': 2}. Best is trial 158 with value: -0.6634079722826679.\n"
     ]
    },
    {
     "name": "stdout",
     "output_type": "stream",
     "text": [
      "Trial 190 finished with value: -0.6735 and parameters: {'n_estimators': 126, 'max_depth': 9, 'learning_rate': 0.06305786466480648, 'subsample': 0.7207844869047393, 'colsample_bytree': 0.7828187783727923, 'gamma': 0.5868226815387007, 'min_child_weight': 2}.\n",
      "Elapsed time for trial: 5.56 seconds\n"
     ]
    },
    {
     "name": "stderr",
     "output_type": "stream",
     "text": [
      "[I 2024-12-10 17:55:21,801] Trial 191 finished with value: -0.6682807268720556 and parameters: {'n_estimators': 90, 'max_depth': 9, 'learning_rate': 0.05031344752937158, 'subsample': 0.7345995700804283, 'colsample_bytree': 0.7936347237299423, 'gamma': 0.43522216337840786, 'min_child_weight': 2}. Best is trial 158 with value: -0.6634079722826679.\n"
     ]
    },
    {
     "name": "stdout",
     "output_type": "stream",
     "text": [
      "Trial 191 finished with value: -0.6683 and parameters: {'n_estimators': 90, 'max_depth': 9, 'learning_rate': 0.05031344752937158, 'subsample': 0.7345995700804283, 'colsample_bytree': 0.7936347237299423, 'gamma': 0.43522216337840786, 'min_child_weight': 2}.\n",
      "Elapsed time for trial: 4.55 seconds\n"
     ]
    },
    {
     "name": "stderr",
     "output_type": "stream",
     "text": [
      "[I 2024-12-10 17:55:25,976] Trial 192 finished with value: -0.6706700914877448 and parameters: {'n_estimators': 67, 'max_depth': 9, 'learning_rate': 0.055515658838263426, 'subsample': 0.7404115029948484, 'colsample_bytree': 0.7937540668073002, 'gamma': 0.3041162431310661, 'min_child_weight': 2}. Best is trial 158 with value: -0.6634079722826679.\n"
     ]
    },
    {
     "name": "stdout",
     "output_type": "stream",
     "text": [
      "Trial 192 finished with value: -0.6707 and parameters: {'n_estimators': 67, 'max_depth': 9, 'learning_rate': 0.055515658838263426, 'subsample': 0.7404115029948484, 'colsample_bytree': 0.7937540668073002, 'gamma': 0.3041162431310661, 'min_child_weight': 2}.\n",
      "Elapsed time for trial: 3.85 seconds\n"
     ]
    },
    {
     "name": "stderr",
     "output_type": "stream",
     "text": [
      "[I 2024-12-10 17:55:31,027] Trial 193 finished with value: -0.670476227660364 and parameters: {'n_estimators': 92, 'max_depth': 9, 'learning_rate': 0.04404224181026822, 'subsample': 0.7291074933223565, 'colsample_bytree': 0.801689941942171, 'gamma': 1.1557511484232892, 'min_child_weight': 2}. Best is trial 158 with value: -0.6634079722826679.\n"
     ]
    },
    {
     "name": "stdout",
     "output_type": "stream",
     "text": [
      "Trial 193 finished with value: -0.6705 and parameters: {'n_estimators': 92, 'max_depth': 9, 'learning_rate': 0.04404224181026822, 'subsample': 0.7291074933223565, 'colsample_bytree': 0.801689941942171, 'gamma': 1.1557511484232892, 'min_child_weight': 2}.\n",
      "Elapsed time for trial: 4.84 seconds\n"
     ]
    },
    {
     "name": "stderr",
     "output_type": "stream",
     "text": [
      "[I 2024-12-10 17:55:36,688] Trial 194 finished with value: -0.6709530313196275 and parameters: {'n_estimators': 109, 'max_depth': 9, 'learning_rate': 0.045579292438931183, 'subsample': 0.7499987205648128, 'colsample_bytree': 0.7694960688829052, 'gamma': 0.06478066989491782, 'min_child_weight': 3}. Best is trial 158 with value: -0.6634079722826679.\n"
     ]
    },
    {
     "name": "stdout",
     "output_type": "stream",
     "text": [
      "Trial 194 finished with value: -0.6710 and parameters: {'n_estimators': 109, 'max_depth': 9, 'learning_rate': 0.045579292438931183, 'subsample': 0.7499987205648128, 'colsample_bytree': 0.7694960688829052, 'gamma': 0.06478066989491782, 'min_child_weight': 3}.\n",
      "Elapsed time for trial: 5.42 seconds\n"
     ]
    },
    {
     "name": "stderr",
     "output_type": "stream",
     "text": [
      "[I 2024-12-10 17:55:41,087] Trial 195 finished with value: -0.6726930493929606 and parameters: {'n_estimators': 79, 'max_depth': 9, 'learning_rate': 0.050629894170577575, 'subsample': 0.7190206875952181, 'colsample_bytree': 0.7797763143082046, 'gamma': 0.8244226240877958, 'min_child_weight': 2}. Best is trial 158 with value: -0.6634079722826679.\n"
     ]
    },
    {
     "name": "stdout",
     "output_type": "stream",
     "text": [
      "Trial 195 finished with value: -0.6727 and parameters: {'n_estimators': 79, 'max_depth': 9, 'learning_rate': 0.050629894170577575, 'subsample': 0.7190206875952181, 'colsample_bytree': 0.7797763143082046, 'gamma': 0.8244226240877958, 'min_child_weight': 2}.\n",
      "Elapsed time for trial: 4.14 seconds\n"
     ]
    },
    {
     "name": "stderr",
     "output_type": "stream",
     "text": [
      "[I 2024-12-10 17:55:46,416] Trial 196 finished with value: -0.6701687215863884 and parameters: {'n_estimators': 100, 'max_depth': 9, 'learning_rate': 0.04225741834188534, 'subsample': 0.7625572142960455, 'colsample_bytree': 0.7893168235080367, 'gamma': 0.43559329129881175, 'min_child_weight': 1}. Best is trial 158 with value: -0.6634079722826679.\n"
     ]
    },
    {
     "name": "stdout",
     "output_type": "stream",
     "text": [
      "Trial 196 finished with value: -0.6702 and parameters: {'n_estimators': 100, 'max_depth': 9, 'learning_rate': 0.04225741834188534, 'subsample': 0.7625572142960455, 'colsample_bytree': 0.7893168235080367, 'gamma': 0.43559329129881175, 'min_child_weight': 1}.\n",
      "Elapsed time for trial: 4.90 seconds\n"
     ]
    },
    {
     "name": "stderr",
     "output_type": "stream",
     "text": [
      "[I 2024-12-10 17:55:52,560] Trial 197 finished with value: -0.6738838447274053 and parameters: {'n_estimators': 135, 'max_depth': 9, 'learning_rate': 0.047726359206314774, 'subsample': 0.7408948271423198, 'colsample_bytree': 0.8038388592389791, 'gamma': 0.9800930517213347, 'min_child_weight': 4}. Best is trial 158 with value: -0.6634079722826679.\n"
     ]
    },
    {
     "name": "stdout",
     "output_type": "stream",
     "text": [
      "Trial 197 finished with value: -0.6739 and parameters: {'n_estimators': 135, 'max_depth': 9, 'learning_rate': 0.047726359206314774, 'subsample': 0.7408948271423198, 'colsample_bytree': 0.8038388592389791, 'gamma': 0.9800930517213347, 'min_child_weight': 4}.\n",
      "Elapsed time for trial: 5.92 seconds\n"
     ]
    },
    {
     "name": "stderr",
     "output_type": "stream",
     "text": [
      "[I 2024-12-10 17:55:56,920] Trial 198 finished with value: -0.6817325319501574 and parameters: {'n_estimators': 71, 'max_depth': 9, 'learning_rate': 0.040898053334433485, 'subsample': 0.6938652692458462, 'colsample_bytree': 0.7566038779942466, 'gamma': 0.42456029349612145, 'min_child_weight': 2}. Best is trial 158 with value: -0.6634079722826679.\n"
     ]
    },
    {
     "name": "stdout",
     "output_type": "stream",
     "text": [
      "Trial 198 finished with value: -0.6817 and parameters: {'n_estimators': 71, 'max_depth': 9, 'learning_rate': 0.040898053334433485, 'subsample': 0.6938652692458462, 'colsample_bytree': 0.7566038779942466, 'gamma': 0.42456029349612145, 'min_child_weight': 2}.\n",
      "Elapsed time for trial: 3.99 seconds\n"
     ]
    },
    {
     "name": "stderr",
     "output_type": "stream",
     "text": [
      "[I 2024-12-10 17:56:02,657] Trial 199 finished with value: -0.6754754455744488 and parameters: {'n_estimators': 123, 'max_depth': 9, 'learning_rate': 0.060925164242268154, 'subsample': 0.7322203535749203, 'colsample_bytree': 0.7654957236925577, 'gamma': 1.0856484922810303, 'min_child_weight': 1}. Best is trial 158 with value: -0.6634079722826679.\n"
     ]
    },
    {
     "name": "stdout",
     "output_type": "stream",
     "text": [
      "Trial 199 finished with value: -0.6755 and parameters: {'n_estimators': 123, 'max_depth': 9, 'learning_rate': 0.060925164242268154, 'subsample': 0.7322203535749203, 'colsample_bytree': 0.7654957236925577, 'gamma': 1.0856484922810303, 'min_child_weight': 1}.\n",
      "Elapsed time for trial: 5.28 seconds\n"
     ]
    }
   ],
   "source": [
    "# Progress monitoring callback\n",
    "def progress_callback(study, trial):\n",
    "    print(f\"Trial {trial.number} finished with value: {trial.value:.4f} \"\n",
    "          f\"and parameters: {trial.params}.\")\n",
    "    print(f\"Elapsed time for trial: {trial.user_attrs['elapsed_time']:.2f} seconds\")\n",
    "\n",
    "# Create and optimize the study\n",
    "study = optuna.create_study(direction=\"maximize\")\n",
    "study.optimize(objective, n_trials=200, callbacks=[progress_callback])\n"
   ]
  },
  {
   "cell_type": "code",
   "execution_count": 18,
   "metadata": {},
   "outputs": [
    {
     "name": "stdout",
     "output_type": "stream",
     "text": [
      "Best parameters: {'n_estimators': 111, 'max_depth': 9, 'learning_rate': 0.0377327465507813, 'subsample': 0.7113692785668871, 'colsample_bytree': 0.8110918886927729, 'gamma': 1.4750773858086286, 'min_child_weight': 2}\n"
     ]
    }
   ],
   "source": [
    "# Best parameters\n",
    "print(\"Best parameters:\", study.best_params)\n"
   ]
  },
  {
   "cell_type": "markdown",
   "metadata": {},
   "source": [
    "Best parameters: {'n_estimators': 170, 'max_depth': 8, 'learning_rate': 0.0361177159793649, 'subsample': 0.5555986573425598, 'colsample_bytree': 0.7840311734222667, 'gamma': 4.57284935770335, 'min_child_weight': 5}"
   ]
  },
  {
   "cell_type": "code",
   "execution_count": 19,
   "metadata": {},
   "outputs": [
    {
     "name": "stdout",
     "output_type": "stream",
     "text": [
      "Final MSE on test set: 0.66\n"
     ]
    }
   ],
   "source": [
    "# Re-train the final model with the best parameters\n",
    "final_pipeline = Pipeline(steps=[\n",
    "    (\"preprocessor\", preprocessor),\n",
    "    (\"regressor\", XGBRegressor(**study.best_params, tree_method=\"hist\", device=\"cuda\"))\n",
    "])\n",
    "final_pipeline.fit(X_train, y_train)\n",
    "\n",
    "# Evaluate on test set\n",
    "y_test_pred = final_pipeline.predict(X_valid)\n",
    "final_mse = mean_squared_error(y_valid, y_test_pred)\n",
    "print(\"Final MSE on test set:\", np.round(np.sqrt(final_mse), 2))\n"
   ]
  },
  {
   "cell_type": "code",
   "execution_count": 20,
   "metadata": {},
   "outputs": [
    {
     "name": "stdout",
     "output_type": "stream",
     "text": [
      "Loading school holidays from cache...\n"
     ]
    }
   ],
   "source": [
    "submit_test(final_pipeline, \"XGBoost_optuna\")"
   ]
  },
  {
   "cell_type": "code",
   "execution_count": 28,
   "metadata": {},
   "outputs": [
    {
     "name": "stdout",
     "output_type": "stream",
     "text": [
      "Loading school holidays from cache...\n"
     ]
    }
   ],
   "source": [
    "\n",
    "data = pd.read_parquet(\"../data/final_test.parquet\")\n",
    "file_name = \"../submissions/\" + \"XGBoost_optuna\" + \"_submission.csv\"\n",
    "\n",
    "X_test = preparation(data)\n",
    "X_test = X_test.drop(columns=[\"date\"])\n",
    "\n",
    "y_predict = final_pipeline.predict(X_test)\n",
    "\n",
    "results = pd.DataFrame(\n",
    "dict(\n",
    "    Id=np.arange(y_predict.shape[0]),\n",
    "    log_bike_count=y_predict,\n",
    "    )\n",
    ")\n",
    "results.to_csv(file_name, index=False)"
   ]
  },
  {
   "cell_type": "markdown",
   "metadata": {},
   "source": [
    "The public score is 0.89. I have clerly overfitted during optuna..."
   ]
  }
 ],
 "metadata": {
  "kernelspec": {
   "display_name": "l1-python",
   "language": "python",
   "name": "python3"
  },
  "language_info": {
   "codemirror_mode": {
    "name": "ipython",
    "version": 3
   },
   "file_extension": ".py",
   "mimetype": "text/x-python",
   "name": "python",
   "nbconvert_exporter": "python",
   "pygments_lexer": "ipython3",
   "version": "3.8.5"
  }
 },
 "nbformat": 4,
 "nbformat_minor": 2
}
